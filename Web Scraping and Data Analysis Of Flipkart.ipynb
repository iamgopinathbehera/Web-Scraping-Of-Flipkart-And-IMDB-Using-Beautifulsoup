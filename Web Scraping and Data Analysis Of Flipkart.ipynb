{
 "cells": [
  {
   "cell_type": "markdown",
   "id": "bcb2b989",
   "metadata": {},
   "source": [
    "#### Import the libraries"
   ]
  },
  {
   "cell_type": "code",
   "execution_count": 1,
   "id": "58f4cbb8",
   "metadata": {},
   "outputs": [],
   "source": [
    "import numpy as np   # mathematical computation\n",
    "# numpy is aliased as np\n",
    "import matplotlib.pyplot as plt  # visualization\n",
    "# pyplot is aliased as plt\n",
    "import pandas as pd     # data preprocessing\n",
    "# pandas is aliased as pd\n",
    "import seaborn as sns      # visualization\n",
    "# seaborn is aliased as sns"
   ]
  },
  {
   "cell_type": "code",
   "execution_count": 2,
   "id": "da7cd3c4",
   "metadata": {},
   "outputs": [],
   "source": [
    "# !pip install beautifulsoup4"
   ]
  },
  {
   "cell_type": "code",
   "execution_count": 3,
   "id": "04739e23",
   "metadata": {},
   "outputs": [],
   "source": [
    "import requests                # used to fetch an end point\n",
    "from bs4 import BeautifulSoup  # used for Web Scrapaing"
   ]
  },
  {
   "cell_type": "code",
   "execution_count": 4,
   "id": "449ea7eb",
   "metadata": {},
   "outputs": [],
   "source": [
    "url = \"https://www.flipkart.com/search?q=laptop&sid=6bo%2Cb5g&as=on&as-show=on&otracker=AS_QueryStore_OrganicAutoSuggest_1_3_na_na_na&otracker1=AS_QueryStore_OrganicAutoSuggest_1_3_na_na_na&as-pos=1&as-type=RECENT&suggestionId=laptop%7CLaptops&requestId=79df5f2c-e1e6-40c9-a470-0a27d885b4c5&as-searchtext=lap\""
   ]
  },
  {
   "cell_type": "code",
   "execution_count": 5,
   "id": "34afec07",
   "metadata": {},
   "outputs": [
    {
     "name": "stdout",
     "output_type": "stream",
     "text": [
      "<Response [200]>\n"
     ]
    }
   ],
   "source": [
    "response = requests.get(url)\n",
    "print(response)   # it is a valid request"
   ]
  },
  {
   "cell_type": "code",
   "execution_count": 6,
   "id": "c65aec3b",
   "metadata": {},
   "outputs": [
    {
     "name": "stdout",
     "output_type": "stream",
     "text": [
      "<!DOCTYPE html>\n",
      "<html lang=\"en\"><head><link href=\"https://rukminim1.flixcart.com\" rel=\"preconnect\"/><link href=\"//static-assets-web.flixcart.com/fk-p-linchpin-web/fk-cp-zion/css/app_modules.chunk.905c37.css\" rel=\"stylesheet\"/><link href=\"//static-assets-web.flixcart.com/fk-p-linchpin-web/fk-cp-zion/css/app.chunk.c46047.css\" rel=\"stylesheet\"/><meta content=\"text/html; charset=utf-8\" http-equiv=\"Content-type\"/><meta content=\"IE=Edge\" http-equiv=\"X-UA-Compatible\"/><meta content=\"102988293558\" property=\"fb:page_id\"/><meta content=\"658873552,624500995,100000233612389\" property=\"fb:admins\"/><meta content=\"noodp\" name=\"robots\"/><link href=\"https:///www/promos/new/20150528-140547-favicon-retina.ico\" rel=\"shortcut icon\"/><link href=\"/osdd.xml?v=2\" rel=\"search\" type=\"application/opensearchdescription+xml\"/><meta content=\"website\" property=\"og:type\"/><meta content=\"Flipkart.com\" name=\"og_site_name\" property=\"og:site_name\"/><link href=\"/apple-touch-icon-57x57.png\" rel=\"apple-touch-icon\" sizes=\"57x57\"/><link href=\"/apple-touch-icon-72x72.png\" rel=\"apple-touch-icon\" sizes=\"72x72\"/><link href=\"/apple-touch-icon-114x114.png\" rel=\"apple-touch-icon\" sizes=\"114x114\"/><link href=\"/apple-touch-icon-144x144.png\" rel=\"apple-touch-icon\" sizes=\"144x144\"/><link href=\"/apple-touch-icon-57x57.png\" rel=\"apple-touch-icon\"/><meta content=\"app\" name=\"twitter:card\"/><meta content=\"@flipkart\" name=\"twitter:site\"/><meta content=\"@flipkart\" name=\"twitter:creator\"/><meta content=\"Laptop- Buy Products Online at Best Price in India - All Categories | Flipkart.com\" name=\"twitter:title\"/><meta content=\"Shop for electronics, apparels &amp; more using our Flipkart app Free shipping &amp; COD.\" name=\"twitter:description\"/><meta content=\"in\" name=\"twitter:app:country\"/><meta content=\"Flipkart\" name=\"al:ios:app_name\"/><meta content=\"742044692\" name=\"al:ios:app_store_id\"/><meta content=\"Flipkart\" name=\"twitter:app:name:iphone\"/><meta content=\"742044692\" name=\"twitter:app:id:iphone\"/><meta content=\"http://dl.flipkart.com/dl/home?\" name=\"twitter:app:url:iphone\"/><meta content=\"Flipkart\" name=\"twitter:app:name:ipad\"/><meta content=\"742044692\" name=\"twitter:app:id:ipad\"/><meta content=\"http://dl.flipkart.com/dl/home?\" name=\"twitter:app:url:ipad\"/><meta content=\"Flipkart\" name=\"twitter:app:name:googleplay\"/><meta content=\"com.flipkart.android\" name=\"twitter:app:id:googleplay\"/><meta content=\"http://dl.flipkart.com/dl/home?\" name=\"twitter:app:url:googleplay\"/><style>#container {\n",
      "\t\t\theight: 100%;\n",
      "\t\t}</style>  <link href=\"///fk-cp-zion/css/Browse.chunk.ff59ed.css\" rel=\"stylesheet\"/><title>Laptop- Buy Products Online at Best Price in India - All Categories | Flipkart.com</title><meta content=\"Laptop- Buy Products Online at Best Price in India - All Categories | Flipkart.com\" name=\"og_title\" property=\"og:title\"/><meta content=\"Laptop\" name=\"Keywords\"/> <meta content=\"Laptop- Buy Products Online at Best Price in India. India's Leading E-commerce Company - Free Home Delivery - All Categories | Flipkart.com\" name=\"Description\"/><meta content=\"Laptop- Buy Products Online at Best Price in India. India's Leading E-commerce Company - Free Home Delivery - All Categories | Flipkart.com\" property=\"og:description\"/> <meta content=\"noindex\" name=\"robots\"/>   <meta content=\"F4EEB3A0AFFDD385992A06E6920C0AC3\" name=\"msvalidate.01\"/> <!--[if IE 9 ]>\n",
      "\t<script nonce=\"3209840418813326372\">\n",
      "\t\twindow.browserVersion = 'IE9';\n",
      "\t\tdocument.documentElement.className += ' ie9';\n",
      "\t</script>\n",
      "\t<![endif]--><!--[if !IE]><!--><script nonce=\"3209840418813326372\">if (/*@cc_on!@*/false) {\n",
      "\t\t\twindow.browserVersion = 'IE10';\n",
      "\t\t\tdocument.documentElement.className += ' ie10';\n",
      "\t\t}</script><!--<![endif]-->   <link href=\"https://www.flipkart.com/search?q=laptop&amp;sid=6bo%2Cb5g&amp;as=on&amp;as-show=on&amp;otracker=AS_QueryStore_OrganicAutoSuggest_1_3_na_na_na&amp;otracker1=AS_QueryStore_OrganicAutoSuggest_1_3_na_na_na&amp;as-pos=1&amp;as-type=RECENT&amp;suggestionId=laptop%7CLaptops&amp;requestId=79df5f2c-e1e6-40c9-a470-0a27d885b4c5&amp;as-searchtext=lap&amp;page=2\" id=\"next-page-link-tag\" rel=\"next\"/><script nonce=\"3209840418813326372\">!function(){if(\"PerformancePaintTiming\" in window){var e=window.__perf={e:[]};e.o=new PerformanceObserver(function(n){e.e=e.e.concat(n.getEntries())});try{e.o.observe({entryTypes:[\"paint\"]})}catch(e){}}}();\n",
      "\n",
      "\t\tif (requestAnimationFrame && performance && performance.mark) {\n",
      "\t\t\trequestAnimationFrame(function () {\n",
      "\t\t\t\twindow.first_paint = performance.now();\n",
      "\t\t\t\tperformance.mark(\"first_paint\");\n",
      "\t\t\t});\n",
      "\t\t}\n",
      "\n",
      "        // web-vitals polyfill for FID\n",
      "        !function(n,e){var t,o,i,c=[],f={passive:!0,capture:!0},r=new Date,a=\"pointerup\",u=\"pointercancel\";function p(n,c){t||(t=c,o=n,i=new Date,w(e),s())}function s(){o>=0&&o<i-r&&(c.forEach(function(n){n(o,t)}),c=[])}function l(t){if(t.cancelable){var o=(t.timeStamp>1e12?new Date:performance.now())-t.timeStamp;\"pointerdown\"==t.type?function(t,o){function i(){p(t,o),r()}function c(){r()}function r(){e(a,i,f),e(u,c,f)}n(a,i,f),n(u,c,f)}(o,t):p(o,t)}}function w(n){[\"click\",\"mousedown\",\"keydown\",\"touchstart\",\"pointerdown\"].forEach(function(e){n(e,l,f)})}w(n),self.perfMetrics=self.perfMetrics||{},self.perfMetrics.onFirstInputDelay=function(n){c.push(n),s()}}(addEventListener,removeEventListener);</script><script async=\"\" src=\"https://www.googletagmanager.com/gtag/js?id=AW-594691041\"></script><script nonce=\"3209840418813326372\">window.dataLayer = window.dataLayer || [];\n",
      "\t\tfunction gtag(){dataLayer.push(arguments)};\n",
      "\t\tgtag('js', new Date());</script></head><body><div id=\"container\"><div><div class=\"_1kfTjk\"><div class=\"_1rH5Jn\"><div class=\"_1TmfNK\"></div><div class=\"_2Xfa2_\"><div class=\"_3_C9Hx\"><div class=\"_3qX0zy\"><a href=\"/\"><img alt=\"Flipkart\" class=\"_2xm1JU\" src=\"//static-assets-web.flixcart.com/fk-p-linchpin-web/fk-cp-zion/img/flipkart-plus_8d85f4.png\" title=\"Flipkart\" width=\"75\"/></a><a class=\"_21ljIi\" href=\"/plus\">Explore<!-- --> <span class=\"_2FVHGh\">Plus</span><img src=\"//static-assets-web.flixcart.com/fk-p-linchpin-web/fk-cp-zion/img/plus_aef861.png\" width=\"10\"/></a></div></div><div class=\"_1cmsER\"><form action=\"/search\" class=\"_2M8cLY header-form-search\" method=\"GET\"><div class=\"col-12-12 _2oO9oE\"><div class=\"_3OO5Xc\"><input autocomplete=\"off\" class=\"_3704LK\" name=\"q\" placeholder=\"Search for products, brands and more\" title=\"Search for products, brands and more\" type=\"text\" value=\"laptop\"/></div><button class=\"L0Z3Pu\" type=\"submit\"><svg class=\"\" height=\"20\" viewBox=\"0 0 17 18\" width=\"20\" xmlns=\"http://www.w3.org/2000/svg\"><g fill=\"#2874F1\" fill-rule=\"evenodd\"><path class=\"_34RNph\" d=\"m11.618 9.897l4.225 4.212c.092.092.101.232.02.313l-1.465 1.46c-.081.081-.221.072-.314-.02l-4.216-4.203\"></path><path class=\"_34RNph\" d=\"m6.486 10.901c-2.42 0-4.381-1.956-4.381-4.368 0-2.413 1.961-4.369 4.381-4.369 2.42 0 4.381 1.956 4.381 4.369 0 2.413-1.961 4.368-4.381 4.368m0-10.835c-3.582 0-6.486 2.895-6.486 6.467 0 3.572 2.904 6.467 6.486 6.467 3.582 0 6.486-2.895 6.486-6.467 0-3.572-2.904-6.467-6.486-6.467\"></path></g></svg></button><input name=\"otracker\" type=\"hidden\" value=\"search\"/><input name=\"otracker1\" type=\"hidden\" value=\"search\"/><input name=\"marketplace\" type=\"hidden\" value=\"FLIPKART\"/><input name=\"as-show\" type=\"hidden\" value=\"off\"/><input name=\"as\" type=\"hidden\" value=\"off\"/></div><ul class=\"col-12-12 _1MRYA1\"></ul></form></div><div class=\"go_DOp _2errNR\"><div class=\"_28p97w\"><div class=\"_1psGvi _3BvnxG\"><div><a class=\"_1_3w1N\" href=\"/account/login?ret=/search%3Fq%3Dlaptop%26sid%3D6bo%252Cb5g%26as%3Don%26as-show%3Don%26otracker%3DAS_QueryStore_OrganicAutoSuggest_1_3_na_na_na%26otracker1%3DAS_QueryStore_OrganicAutoSuggest_1_3_na_na_na%26as-pos%3D1%26as-type%3DRECENT%26suggestionId%3Dlaptop%257CLaptops%26requestId%3D79df5f2c-e1e6-40c9-a470-0a27d885b4c5%26as-searchtext%3Dlap\">Login</a></div></div></div></div><div class=\"go_DOp\"><a class=\"_3-PJz-\" href=\"https://seller.flipkart.com/sell-online/?utm_source=fkwebsite&amp;utm_medium=websitedirect\"><span>Become a Seller</span></a></div><div class=\"go_DOp\"><div class=\"_28p97w\"><div class=\"_1psGvi _3BvnxG\"><div><div class=\"exehdJ\"> <!-- -->More<!-- --> </div></div></div><svg class=\"zZ3yfL\" height=\"8\" viewBox=\"0 0 16 27\" width=\"4.7\" xmlns=\"http://www.w3.org/2000/svg\"><path class=\"_2gTTdy\" d=\"M16 23.207L6.11 13.161 16 3.093 12.955 0 0 13.161l12.955 13.161z\" fill=\"#fff\"></path></svg></div></div><div class=\"go_DOp\"><div class=\"_1psGvi\"><div class=\"YUhWwv\"><a class=\"_3SkBxJ\" href=\"/viewcart?exploreMode=true&amp;preference=FLIPKART\"><svg class=\"V3C5bO\" height=\"14\" viewBox=\"0 0 16 16\" width=\"14\" xmlns=\"http://www.w3.org/2000/svg\"><path class=\"_1bS9ic\" d=\"M15.32 2.405H4.887C3 2.405 2.46.805 2.46.805L2.257.21C2.208.085 2.083 0 1.946 0H.336C.1 0-.064.24.024.46l.644 1.945L3.11 9.767c.047.137.175.23.32.23h8.418l-.493 1.958H3.768l.002.003c-.017 0-.033-.003-.05-.003-1.06 0-1.92.86-1.92 1.92s.86 1.92 1.92 1.92c.99 0 1.805-.75 1.91-1.712l5.55.076c.12.922.91 1.636 1.867 1.636 1.04 0 1.885-.844 1.885-1.885 0-.866-.584-1.593-1.38-1.814l2.423-8.832c.12-.433-.206-.86-.655-.86\" fill=\"#fff\"></path></svg><span>Cart</span></a></div></div></div></div><div class=\"_1TmfNK\"></div></div><div class=\"_1mUdNz\"></div></div><div class=\"_331-kn\"></div><div class=\"_36fx1h _6t1WkM _3HqJxg\"><div class=\"_1YokD2 _2GoDe3\"><div class=\"_1YokD2 _3Mn1Gg col-2-12\" style=\"flex:0 0 280px;max-width:280px;padding:0px 10px 0px 0px\"><div class=\"_1YokD2 _3Mn1Gg col-12-12\"><div class=\"_1AtVbE col-12-12\"><div class=\"_1KOcBL\"><section class=\"JWMl0H _2hbLCH\"><div class=\"_2ssEMF\"><div class=\"_3V8rao\"><span>Filters</span></div></div></section><div class=\"_2q_g77\"><section class=\"_2aDURW\"><div class=\"_2lfNTw\"><span>CATEGORIES</span></div><div><div class=\"TB_InB\"><span><svg class=\"_2Iqv73\" height=\"10\" viewBox=\"0 0 16 27\" width=\"10\" xmlns=\"http://www.w3.org/2000/svg\"><path class=\"_3zK8He\" d=\"M16 23.207L6.11 13.161 16 3.093 12.955 0 0 13.161l12.955 13.161z\" fill=\"#fff\"></path></svg></span><a class=\"_2qvBBJ _2Mji8F\" href=\"/computers/pr?sid=6bo&amp;q=laptop&amp;otracker=categorytree\" title=\"Computers\">Computers</a></div></div><div><div class=\"TB_InB\"><span><svg class=\"_2Iqv73\" height=\"10\" viewBox=\"0 0 16 27\" width=\"10\" xmlns=\"http://www.w3.org/2000/svg\"><path class=\"\" d=\"M16 23.207L6.11 13.161 16 3.093 12.955 0 0 13.161l12.955 13.161z\" fill=\"#fff\"></path></svg></span><a class=\"_1jJQdf _2Mji8F\" href=\"/laptops/pr?sid=6bo,b5g&amp;q=laptop&amp;otracker=categorytree\" title=\"Laptops\">Laptops</a></div></div></section></div><section class=\"_2yz7eI _2hbLCH\"><div class=\"_3KxRU6 _2ssEMF\"><div class=\"UR1L2I _3V8rao\"><span>Price</span></div></div><div class=\"_2NBiOm\"><div class=\"_1nneZ0\"><div class=\"_2TbXIJ\" style=\"height:0;width:0\"></div><div class=\"_2TbXIJ\" style=\"height:0;width:0\"></div><div class=\"_2TbXIJ\" style=\"height:0;width:0\"></div><div class=\"_2TbXIJ\" style=\"height:0;width:0\"></div><div class=\"_2TbXIJ\" style=\"height:0;width:0\"></div><div class=\"_2TbXIJ\" style=\"height:0;width:0\"></div></div></div><div class=\"_2r34SG\"><div class=\"_12FhcQ\"><div class=\"_31Kbhn _28DFQy\"><div class=\"_3FdLqY\"></div></div><div class=\"_31Kbhn WC_zGJ\"><div class=\"_3FdLqY\"></div></div><div class=\"_2IN3-t\"></div><div class=\"_2IN3-t _1mRwrD\"></div></div><div class=\"_15GU70\"><div class=\"_1ftpgI\" style=\"width:undefinedpx\">.</div><div class=\"_1ftpgI\" style=\"width:undefinedpx\">.</div><div class=\"_1ftpgI\" style=\"width:undefinedpx\">.</div><div class=\"_1ftpgI\" style=\"width:undefinedpx\">.</div><div class=\"_1ftpgI\" style=\"width:undefinedpx\">.</div><div class=\"_1ftpgI\" style=\"width:undefinedpx\">.</div><div class=\"_1ftpgI\" style=\"width:0px\">.</div></div></div><div class=\"_2b0bUo\"><div class=\"_1YAKP4\"><select class=\"_2YxCDZ\"><option class=\"_3AsjWR\" selected=\"\" value=\"Min\">Min</option><option class=\"_3AsjWR\" value=\"20000\">₹20000</option><option class=\"_3AsjWR\" value=\"40000\">₹40000</option><option class=\"_3AsjWR\" value=\"50000\">₹50000</option><option class=\"_3AsjWR\" value=\"60000\">₹60000</option><option class=\"_3AsjWR\" value=\"75000\">₹75000</option></select></div><div class=\"_3zohzR\">to</div><div class=\"_3uDYxP\"><select class=\"_2YxCDZ\"><option class=\"_3AsjWR\" value=\"20000\">₹20000</option><option class=\"_3AsjWR\" value=\"40000\">₹40000</option><option class=\"_3AsjWR\" value=\"50000\">₹50000</option><option class=\"_3AsjWR\" value=\"60000\">₹60000</option><option class=\"_3AsjWR\" value=\"75000\">₹75000</option><option class=\"_3AsjWR\" selected=\"\" value=\"Max\">₹75000+</option></select></div></div></section><section class=\"_2hbLCH _24gLJx\"><label class=\"_2iDkf8 shbqsL\"><input class=\"_30VH1S\" readonly=\"\" type=\"checkbox\"/><div class=\"_24_Dny _3tCU7L\"></div><div class=\"_3879cV\"><div class=\"_3U-Vxu\"><img class=\"_3U-Vxu\" height=\"21\" src=\"//static-assets-web.flixcart.com/fk-p-linchpin-web/fk-cp-zion/img/fa_62673a.png\"/></div></div></label><div class=\"Bv11UC\"><span class=\"question\">?</span></div></section><section class=\"_167Mu3 _2hbLCH\"><div class=\"_213eRC _2ssEMF\"><div class=\"_2gmUFU _3V8rao\">Processor</div><svg class=\"ttx38n _3DyGEM\" height=\"27\" viewBox=\"0 0 16 27\" width=\"16\" xmlns=\"http://www.w3.org/2000/svg\"><path class=\"IIvmWM\" d=\"M16 23.207L6.11 13.161 16 3.093 12.955 0 0 13.161l12.955 13.161z\" fill=\"#fff\"></path></svg></div><div class=\"_3FPh42\"><div class=\"_2d0we9\"><div class=\"_2pBqj6\"><svg class=\"_3WAvPc\" height=\"20\" viewBox=\"0 0 17 18\" width=\"20\" xmlns=\"http://www.w3.org/2000/svg\"><g fill=\"#2874F1\" fill-rule=\"evenodd\"><path class=\"-OwdlC\" d=\"m11.618 9.897l4.225 4.212c.092.092.101.232.02.313l-1.465 1.46c-.081.081-.221.072-.314-.02l-4.216-4.203\"></path><path class=\"-OwdlC\" d=\"m6.486 10.901c-2.42 0-4.381-1.956-4.381-4.368 0-2.413 1.961-4.369 4.381-4.369 2.42 0 4.381 1.956 4.381 4.369 0 2.413-1.961 4.368-4.381 4.368m0-10.835c-3.582 0-6.486 2.895-6.486 6.467 0 3.572 2.904 6.467 6.486 6.467 3.582 0 6.486-2.895 6.486-6.467 0-3.572-2.904-6.467-6.486-6.467\"></path></g></svg><input class=\"_34uFYj\" placeholder=\"Search Processor\" type=\"text\" value=\"\"/></div><div class=\"_4921Z t0pPfW\" title=\"Core i5\"><div class=\"_1Y4Vhm _4FO7b6\"><label class=\"_2iDkf8 t0pPfW\"><input class=\"_30VH1S\" readonly=\"\" type=\"checkbox\"/><div class=\"_24_Dny\"></div><div class=\"_3879cV\">Core i5</div></label></div></div><div class=\"_4921Z t0pPfW\" title=\"Core i3\"><div class=\"_1Y4Vhm _4FO7b6\"><label class=\"_2iDkf8 t0pPfW\"><input class=\"_30VH1S\" readonly=\"\" type=\"checkbox\"/><div class=\"_24_Dny\"></div><div class=\"_3879cV\">Core i3</div></label></div></div><div class=\"_4921Z t0pPfW\" title=\"Core i7\"><div class=\"_1Y4Vhm _4FO7b6\"><label class=\"_2iDkf8 t0pPfW\"><input class=\"_30VH1S\" readonly=\"\" type=\"checkbox\"/><div class=\"_24_Dny\"></div><div class=\"_3879cV\">Core i7</div></label></div></div><div class=\"_4921Z t0pPfW\" title=\"Ryzen 7 Quad Core\"><div class=\"_1Y4Vhm _4FO7b6\"><label class=\"_2iDkf8 t0pPfW\"><input class=\"_30VH1S\" readonly=\"\" type=\"checkbox\"/><div class=\"_24_Dny\"></div><div class=\"_3879cV\">Ryzen 7 Quad Core</div></label></div></div><div class=\"_4921Z t0pPfW\" title=\"Ryzen 5 Quad Core\"><div class=\"_1Y4Vhm _4FO7b6\"><label class=\"_2iDkf8 t0pPfW\"><input class=\"_30VH1S\" readonly=\"\" type=\"checkbox\"/><div class=\"_24_Dny\"></div><div class=\"_3879cV\">Ryzen 5 Quad Core</div></label></div></div><div class=\"_4921Z t0pPfW\" title=\"Core i9\"><div class=\"_1Y4Vhm _4FO7b6\"><label class=\"_2iDkf8 t0pPfW\"><input class=\"_30VH1S\" readonly=\"\" type=\"checkbox\"/><div class=\"_24_Dny\"></div><div class=\"_3879cV\">Core i9</div></label></div></div></div><div class=\"QvtND5 _2w_U27\"><span>25 MORE</span></div></div></section><section class=\"_167Mu3 _2hbLCH\"><div class=\"_213eRC _2ssEMF\"><div class=\"_2gmUFU _3V8rao\">Brand</div><svg class=\"ttx38n\" height=\"27\" viewBox=\"0 0 16 27\" width=\"16\" xmlns=\"http://www.w3.org/2000/svg\"><path class=\"IIvmWM\" d=\"M16 23.207L6.11 13.161 16 3.093 12.955 0 0 13.161l12.955 13.161z\" fill=\"#fff\"></path></svg></div></section><section class=\"_167Mu3 _2hbLCH\"><div class=\"_213eRC _2ssEMF\"><div class=\"_2gmUFU _3V8rao\">GST Invoice Available</div><svg class=\"ttx38n\" height=\"27\" viewBox=\"0 0 16 27\" width=\"16\" xmlns=\"http://www.w3.org/2000/svg\"><path class=\"IIvmWM\" d=\"M16 23.207L6.11 13.161 16 3.093 12.955 0 0 13.161l12.955 13.161z\" fill=\"#fff\"></path></svg></div></section><section class=\"_167Mu3 _2hbLCH\"><div class=\"_213eRC _2ssEMF\"><div class=\"_2gmUFU _3V8rao\">Screen Size</div><svg class=\"ttx38n\" height=\"27\" viewBox=\"0 0 16 27\" width=\"16\" xmlns=\"http://www.w3.org/2000/svg\"><path class=\"IIvmWM\" d=\"M16 23.207L6.11 13.161 16 3.093 12.955 0 0 13.161l12.955 13.161z\" fill=\"#fff\"></path></svg></div></section><section class=\"_167Mu3 _2hbLCH\"><div class=\"_213eRC _2ssEMF\"><div class=\"_2gmUFU _3V8rao\">Operating System</div><svg class=\"ttx38n\" height=\"27\" viewBox=\"0 0 16 27\" width=\"16\" xmlns=\"http://www.w3.org/2000/svg\"><path class=\"IIvmWM\" d=\"M16 23.207L6.11 13.161 16 3.093 12.955 0 0 13.161l12.955 13.161z\" fill=\"#fff\"></path></svg></div></section><section class=\"_167Mu3 _2hbLCH\"><div class=\"_213eRC _2ssEMF\"><div class=\"_2gmUFU _3V8rao\">Dedicated Graphics Memory</div><svg class=\"ttx38n\" height=\"27\" viewBox=\"0 0 16 27\" width=\"16\" xmlns=\"http://www.w3.org/2000/svg\"><path class=\"IIvmWM\" d=\"M16 23.207L6.11 13.161 16 3.093 12.955 0 0 13.161l12.955 13.161z\" fill=\"#fff\"></path></svg></div></section><section class=\"_167Mu3 _2hbLCH\"><div class=\"_213eRC _2ssEMF\"><div class=\"_2gmUFU _3V8rao\">Hard Disk Capacity</div><svg class=\"ttx38n\" height=\"27\" viewBox=\"0 0 16 27\" width=\"16\" xmlns=\"http://www.w3.org/2000/svg\"><path class=\"IIvmWM\" d=\"M16 23.207L6.11 13.161 16 3.093 12.955 0 0 13.161l12.955 13.161z\" fill=\"#fff\"></path></svg></div></section><section class=\"_167Mu3 _2hbLCH\"><div class=\"_213eRC _2ssEMF\"><div class=\"_2gmUFU _3V8rao\">Type</div><svg class=\"ttx38n\" height=\"27\" viewBox=\"0 0 16 27\" width=\"16\" xmlns=\"http://www.w3.org/2000/svg\"><path class=\"IIvmWM\" d=\"M16 23.207L6.11 13.161 16 3.093 12.955 0 0 13.161l12.955 13.161z\" fill=\"#fff\"></path></svg></div></section><section class=\"_167Mu3 _2hbLCH\"><div class=\"_213eRC _2ssEMF\"><div class=\"_2gmUFU _3V8rao\">Processor Brand</div><svg class=\"ttx38n\" height=\"27\" viewBox=\"0 0 16 27\" width=\"16\" xmlns=\"http://www.w3.org/2000/svg\"><path class=\"IIvmWM\" d=\"M16 23.207L6.11 13.161 16 3.093 12.955 0 0 13.161l12.955 13.161z\" fill=\"#fff\"></path></svg></div></section><section class=\"_167Mu3 _2hbLCH\"><div class=\"_213eRC _2ssEMF\"><div class=\"_2gmUFU _3V8rao\">Discount</div><svg class=\"ttx38n\" height=\"27\" viewBox=\"0 0 16 27\" width=\"16\" xmlns=\"http://www.w3.org/2000/svg\"><path class=\"IIvmWM\" d=\"M16 23.207L6.11 13.161 16 3.093 12.955 0 0 13.161l12.955 13.161z\" fill=\"#fff\"></path></svg></div></section><section class=\"_167Mu3 _2hbLCH\"><div class=\"_213eRC _2ssEMF\"><div class=\"_2gmUFU _3V8rao\">Graphic Processor Name</div><svg class=\"ttx38n\" height=\"27\" viewBox=\"0 0 16 27\" width=\"16\" xmlns=\"http://www.w3.org/2000/svg\"><path class=\"IIvmWM\" d=\"M16 23.207L6.11 13.161 16 3.093 12.955 0 0 13.161l12.955 13.161z\" fill=\"#fff\"></path></svg></div></section><section class=\"_167Mu3 _2hbLCH\"><div class=\"_213eRC _2ssEMF\"><div class=\"_2gmUFU _3V8rao\">Touch Screen</div><svg class=\"ttx38n\" height=\"27\" viewBox=\"0 0 16 27\" width=\"16\" xmlns=\"http://www.w3.org/2000/svg\"><path class=\"IIvmWM\" d=\"M16 23.207L6.11 13.161 16 3.093 12.955 0 0 13.161l12.955 13.161z\" fill=\"#fff\"></path></svg></div></section><section class=\"_167Mu3 _2hbLCH\"><div class=\"_213eRC _2ssEMF\"><div class=\"_2gmUFU _3V8rao\">Ram Type</div><svg class=\"ttx38n\" height=\"27\" viewBox=\"0 0 16 27\" width=\"16\" xmlns=\"http://www.w3.org/2000/svg\"><path class=\"IIvmWM\" d=\"M16 23.207L6.11 13.161 16 3.093 12.955 0 0 13.161l12.955 13.161z\" fill=\"#fff\"></path></svg></div></section><section class=\"_167Mu3 _2hbLCH\"><div class=\"_213eRC _2ssEMF\"><div class=\"_2gmUFU _3V8rao\">Customer Ratings</div><svg class=\"ttx38n _3DyGEM\" height=\"27\" viewBox=\"0 0 16 27\" width=\"16\" xmlns=\"http://www.w3.org/2000/svg\"><path class=\"IIvmWM\" d=\"M16 23.207L6.11 13.161 16 3.093 12.955 0 0 13.161l12.955 13.161z\" fill=\"#fff\"></path></svg></div><div class=\"_3FPh42\"><div class=\"_2d0we9\"><div class=\"_4921Z t0pPfW\" title=\"4★ &amp; above\"><div class=\"_1Y4Vhm _4FO7b6\"><label class=\"_2iDkf8 t0pPfW\"><input class=\"_30VH1S\" readonly=\"\" type=\"checkbox\"/><div class=\"_24_Dny\"></div><div class=\"_3879cV\">4★ &amp; above</div></label></div></div><div class=\"_4921Z t0pPfW\" title=\"3★ &amp; above\"><div class=\"_1Y4Vhm _4FO7b6\"><label class=\"_2iDkf8 t0pPfW\"><input class=\"_30VH1S\" readonly=\"\" type=\"checkbox\"/><div class=\"_24_Dny\"></div><div class=\"_3879cV\">3★ &amp; above</div></label></div></div></div></div></section><section class=\"_167Mu3 _2hbLCH\"><div class=\"_213eRC _2ssEMF\"><div class=\"_2gmUFU _3V8rao\">RAM Capacity</div><svg class=\"ttx38n\" height=\"27\" viewBox=\"0 0 16 27\" width=\"16\" xmlns=\"http://www.w3.org/2000/svg\"><path class=\"IIvmWM\" d=\"M16 23.207L6.11 13.161 16 3.093 12.955 0 0 13.161l12.955 13.161z\" fill=\"#fff\"></path></svg></div></section><section class=\"_167Mu3 _2hbLCH\"><div class=\"_213eRC _2ssEMF\"><div class=\"_2gmUFU _3V8rao\">LifeStyle</div><svg class=\"ttx38n\" height=\"27\" viewBox=\"0 0 16 27\" width=\"16\" xmlns=\"http://www.w3.org/2000/svg\"><path class=\"IIvmWM\" d=\"M16 23.207L6.11 13.161 16 3.093 12.955 0 0 13.161l12.955 13.161z\" fill=\"#fff\"></path></svg></div></section><section class=\"_167Mu3 _2hbLCH\"><div class=\"_213eRC _2ssEMF\"><div class=\"_2gmUFU _3V8rao\">Graphic Processor Series</div><svg class=\"ttx38n\" height=\"27\" viewBox=\"0 0 16 27\" width=\"16\" xmlns=\"http://www.w3.org/2000/svg\"><path class=\"IIvmWM\" d=\"M16 23.207L6.11 13.161 16 3.093 12.955 0 0 13.161l12.955 13.161z\" fill=\"#fff\"></path></svg></div></section><section class=\"_167Mu3 _2hbLCH\"><div class=\"_213eRC _2ssEMF\"><div class=\"_2gmUFU _3V8rao\">Processor Generation</div><svg class=\"ttx38n\" height=\"27\" viewBox=\"0 0 16 27\" width=\"16\" xmlns=\"http://www.w3.org/2000/svg\"><path class=\"IIvmWM\" d=\"M16 23.207L6.11 13.161 16 3.093 12.955 0 0 13.161l12.955 13.161z\" fill=\"#fff\"></path></svg></div></section><section class=\"_167Mu3 _2hbLCH\"><div class=\"_213eRC _2ssEMF\"><div class=\"_2gmUFU _3V8rao\">Weight</div><svg class=\"ttx38n\" height=\"27\" viewBox=\"0 0 16 27\" width=\"16\" xmlns=\"http://www.w3.org/2000/svg\"><path class=\"IIvmWM\" d=\"M16 23.207L6.11 13.161 16 3.093 12.955 0 0 13.161l12.955 13.161z\" fill=\"#fff\"></path></svg></div></section><section class=\"_167Mu3 _2hbLCH\"><div class=\"_213eRC _2ssEMF\"><div class=\"_2gmUFU _3V8rao\">Features</div><svg class=\"ttx38n\" height=\"27\" viewBox=\"0 0 16 27\" width=\"16\" xmlns=\"http://www.w3.org/2000/svg\"><path class=\"IIvmWM\" d=\"M16 23.207L6.11 13.161 16 3.093 12.955 0 0 13.161l12.955 13.161z\" fill=\"#fff\"></path></svg></div></section><section class=\"_167Mu3 _2hbLCH\"><div class=\"_213eRC _2ssEMF\"><div class=\"_2gmUFU _3V8rao\">Storage Type</div><svg class=\"ttx38n\" height=\"27\" viewBox=\"0 0 16 27\" width=\"16\" xmlns=\"http://www.w3.org/2000/svg\"><path class=\"IIvmWM\" d=\"M16 23.207L6.11 13.161 16 3.093 12.955 0 0 13.161l12.955 13.161z\" fill=\"#fff\"></path></svg></div></section><section class=\"_167Mu3 _2hbLCH\"><div class=\"_213eRC _2ssEMF\"><div class=\"_2gmUFU _3V8rao\">SSD Capacity</div><svg class=\"ttx38n\" height=\"27\" viewBox=\"0 0 16 27\" width=\"16\" xmlns=\"http://www.w3.org/2000/svg\"><path class=\"IIvmWM\" d=\"M16 23.207L6.11 13.161 16 3.093 12.955 0 0 13.161l12.955 13.161z\" fill=\"#fff\"></path></svg></div></section><section class=\"_167Mu3 _2hbLCH\"><div class=\"_213eRC _2ssEMF\"><div class=\"_2gmUFU _3V8rao\">Usage</div><svg class=\"ttx38n\" height=\"27\" viewBox=\"0 0 16 27\" width=\"16\" xmlns=\"http://www.w3.org/2000/svg\"><path class=\"IIvmWM\" d=\"M16 23.207L6.11 13.161 16 3.093 12.955 0 0 13.161l12.955 13.161z\" fill=\"#fff\"></path></svg></div></section><section class=\"_167Mu3 _2hbLCH\"><div class=\"_213eRC _2ssEMF\"><div class=\"_2gmUFU _3V8rao\">Offers</div><svg class=\"ttx38n _3DyGEM\" height=\"27\" viewBox=\"0 0 16 27\" width=\"16\" xmlns=\"http://www.w3.org/2000/svg\"><path class=\"IIvmWM\" d=\"M16 23.207L6.11 13.161 16 3.093 12.955 0 0 13.161l12.955 13.161z\" fill=\"#fff\"></path></svg></div><div class=\"_3FPh42\"><div class=\"_2d0we9\"><div class=\"_4921Z t0pPfW\" title=\"No Cost EMI\"><div class=\"_1Y4Vhm _4FO7b6\"><label class=\"_2iDkf8 t0pPfW\"><input class=\"_30VH1S\" readonly=\"\" type=\"checkbox\"/><div class=\"_24_Dny\"></div><div class=\"_3879cV\">No Cost EMI</div></label></div></div><div class=\"_4921Z t0pPfW\" title=\"Special Price\"><div class=\"_1Y4Vhm _4FO7b6\"><label class=\"_2iDkf8 t0pPfW\"><input class=\"_30VH1S\" readonly=\"\" type=\"checkbox\"/><div class=\"_24_Dny\"></div><div class=\"_3879cV\">Special Price</div></label></div></div></div></div></section><section class=\"_167Mu3 _2hbLCH\"><div class=\"_213eRC _2ssEMF\"><div class=\"_2gmUFU _3V8rao\">Graphics Memory Type</div><svg class=\"ttx38n\" height=\"27\" viewBox=\"0 0 16 27\" width=\"16\" xmlns=\"http://www.w3.org/2000/svg\"><path class=\"IIvmWM\" d=\"M16 23.207L6.11 13.161 16 3.093 12.955 0 0 13.161l12.955 13.161z\" fill=\"#fff\"></path></svg></div></section><section class=\"_167Mu3 _2hbLCH\"><div class=\"_213eRC _2ssEMF\"><div class=\"_2gmUFU _3V8rao\">Availability</div><svg class=\"ttx38n\" height=\"27\" viewBox=\"0 0 16 27\" width=\"16\" xmlns=\"http://www.w3.org/2000/svg\"><path class=\"IIvmWM\" d=\"M16 23.207L6.11 13.161 16 3.093 12.955 0 0 13.161l12.955 13.161z\" fill=\"#fff\"></path></svg></div></section></div></div><div class=\"_1AtVbE col-12-12\"><a class=\"_1nY1tt\" href=\"/buying-guide/laptops?sid=6bo,b5g&amp;otracker=bg_from_browse_lhs\" title=\"Buying Guide\"><div><span>Need help?</span></div><div class=\"_1mVNvF\"><span>Help me decide</span><svg class=\"ViewtL\" height=\"27\" viewBox=\"0 0 16 27\" width=\"16\" xmlns=\"http://www.w3.org/2000/svg\"><path class=\"_2Zt1Py\" d=\"M16 23.207L6.11 13.161 16 3.093 12.955 0 0 13.161l12.955 13.161z\" fill=\"#fff\"></path></svg></div><img alt=\"Buying Guide\" src=\"//static-assets-web.flixcart.com/fk-p-linchpin-web/fk-cp-zion/img/buying-guide-illustration_4dd325.png\"/></a></div></div></div><div class=\"_1YokD2 _3Mn1Gg\" style=\"flex-grow:1;overflow:auto\"><div class=\"_1YokD2 _2GoDe3 col-12-12\" style=\"background-color:#ffffff;align-items:flex-end\"><div class=\"_1AtVbE\" style=\"flex-grow:1;overflow:auto\"><div class=\"W_R1IA\"><div class=\"_1MR4o5\"><div class=\"_3GIHBu\"><a class=\"_2whKao\" href=\"/\">Home</a><svg class=\"_39X-Og\" height=\"27\" viewBox=\"0 0 16 27\" width=\"16\" xmlns=\"http://www.w3.org/2000/svg\"><path class=\"DpXnhQ\" d=\"M16 23.207L6.11 13.161 16 3.093 12.955 0 0 13.161l12.955 13.161z\" fill=\"#fff\"></path></svg></div><div class=\"_3GIHBu\"><a class=\"_2whKao\" href=\"/computers/pr?sid=6bo&amp;marketplace=FLIPKART\">Computers</a><svg class=\"_39X-Og\" height=\"27\" viewBox=\"0 0 16 27\" width=\"16\" xmlns=\"http://www.w3.org/2000/svg\"><path class=\"DpXnhQ\" d=\"M16 23.207L6.11 13.161 16 3.093 12.955 0 0 13.161l12.955 13.161z\" fill=\"#fff\"></path></svg></div><div class=\"_3GIHBu\"><a class=\"_2whKao\" href=\"/laptops/pr?sid=6bo,b5g&amp;marketplace=FLIPKART\">Laptops</a><svg class=\"_39X-Og\" height=\"27\" viewBox=\"0 0 16 27\" width=\"16\" xmlns=\"http://www.w3.org/2000/svg\"><path class=\"DpXnhQ\" d=\"M16 23.207L6.11 13.161 16 3.093 12.955 0 0 13.161l12.955 13.161z\" fill=\"#fff\"></path></svg></div></div><span class=\"_10Ermr\">Showing 1 – 24 of 1,268 results for \"<span>laptop</span>\"</span><div class=\"_5THWM1\"><span class=\"_2i7N3j\">Sort By</span><div class=\"_10UF8M _3LsR0e\">Relevance</div><div class=\"_10UF8M\">Popularity</div><div class=\"_10UF8M\">Price -- Low to High</div><div class=\"_10UF8M\">Price -- High to Low</div><div class=\"_10UF8M\">Newest First</div></div></div></div></div><div class=\"_1AtVbE col-12-12\"><div class=\"_13oc-S\"><div data-id=\"COMFSKF9UQH8RKYF\" style=\"width:100%\"><div class=\"_2kHMtA\"><div class=\"_2tfzpE\"><span>Ad</span></div><a class=\"_1fQZEK\" href=\"/asus-celeron-dual-core-4-gb-1-tb-hdd-windows-10-home-x543ma-gq1015t-laptop/p/itmf8811674edbeb?pid=COMFSKF9UQH8RKYF&amp;lid=LSTCOMFSKF9UQH8RKYFZNEOSL&amp;marketplace=FLIPKART&amp;q=laptop&amp;store=6bo%2Fb5g&amp;srno=s_1_1&amp;otracker=AS_QueryStore_OrganicAutoSuggest_1_3_na_na_na&amp;otracker1=AS_QueryStore_OrganicAutoSuggest_1_3_na_na_na&amp;fm=organic&amp;iid=en_BI1GXuq9QzJAriAczOB%2BfGESdIYqETae8SLDsnvN2f0H3TIEcRhElsvih9X%2FHfSUKXRokomh40htNceMc509%2Fg%3D%3D&amp;ppt=None&amp;ppn=None&amp;ssid=wzznk26q680000001675421329815&amp;qH=312f91285e048e09\" rel=\"noopener noreferrer\" target=\"_blank\"><div class=\"MIXNux\"><div class=\"_2QcLo-\"><div><div class=\"CXW8mj\" style=\"height:200px;width:200px\"><img alt=\"ASUS Celeron Dual Core - (4 GB/1 TB HDD/Windows 10 Home) X543MA-GQ1015T Laptop\" class=\"_396cs4\" loading=\"eager\" src=\"https://rukminim1.flixcart.com/image/312/312/k9d3p8w0/computer/c/a/h/asus-na-laptop-original-imafr6cbfurgkspg.jpeg?q=70\"/></div></div></div><div class=\"_3wLduG\"><div class=\"_3PzNI-\"><span class=\"f3A4_V\"><label class=\"_2iDkf8\"><input class=\"_30VH1S\" readonly=\"\" type=\"checkbox\"/><div class=\"_24_Dny\"></div></label></span><label class=\"_6Up2sF\"><span>Add to Compare</span></label></div></div><div class=\"_2hVSre _3nq8ih\"><div class=\"_36FSn5\"><svg class=\"_1l0elc\" height=\"16\" viewBox=\"0 0 20 16\" width=\"16\" xmlns=\"http://www.w3.org/2000/svg\"><path class=\"eX72wL\" d=\"M8.695 16.682C4.06 12.382 1 9.536 1 6.065 1 3.219 3.178 1 5.95 1c1.566 0 3.069.746 4.05 1.915C10.981 1.745 12.484 1 14.05 1 16.822 1 19 3.22 19 6.065c0 3.471-3.06 6.316-7.695 10.617L10 17.897l-1.305-1.215z\" fill=\"#2874F0\" fill-rule=\"evenodd\" opacity=\".9\" stroke=\"#FFF\"></path></svg></div></div></div><div class=\"_3pLy-c row\"><div class=\"col col-7-12\"><div class=\"_4rR01T\">ASUS Celeron Dual Core - (4 GB/1 TB HDD/Windows 10 Home) X543MA-GQ1015T Laptop</div><div class=\"gUuXy-\"><span class=\"_1lRcqv\" id=\"productRating_LSTCOMFSKF9UQH8RKYFZNEOSL_COMFSKF9UQH8RKYF_\"><div class=\"_3LWZlK\">3.7<img class=\"_1wB99o\" src=\"data:image/svg+xml;base64,PHN2ZyB4bWxucz0iaHR0cDovL3d3dy53My5vcmcvMjAwMC9zdmciIHdpZHRoPSIxMyIgaGVpZ2h0PSIxMiI+PHBhdGggZmlsbD0iI0ZGRiIgZD0iTTYuNSA5LjQzOWwtMy42NzQgMi4yMy45NC00LjI2LTMuMjEtMi44ODMgNC4yNTQtLjQwNEw2LjUuMTEybDEuNjkgNC4wMSA0LjI1NC40MDQtMy4yMSAyLjg4Mi45NCA0LjI2eiIvPjwvc3ZnPg==\"/></div></span><span class=\"_2_R_DZ\"><span><span>17,754 Ratings </span><span class=\"_13vcmD\">&amp;</span><span> 2,301 Reviews</span></span></span></div><div class=\"fMghEO\"><ul class=\"_1xgFaf\"><li class=\"rgWa7D\">Intel Celeron Dual Core Processor</li><li class=\"rgWa7D\">4 GB DDR4 RAM</li><li class=\"rgWa7D\">64 bit Windows 10 Operating System</li><li class=\"rgWa7D\">1 TB HDD</li><li class=\"rgWa7D\">39.62 cm (15.6 inch) Display</li><li class=\"rgWa7D\">Splendid</li><li class=\"rgWa7D\">1 Year Onsite Warranty</li></ul></div></div><div class=\"col col-5-12 nlI3QM\"><div class=\"_3tbKJL\"><div class=\"_25b18c\"><div class=\"_30jeq3 _1_WHN1\">₹22,990</div><div class=\"_3I9_wc _27UcVY\">₹<!-- -->30,990</div><div class=\"_3Ay6Sb\"><span>25% off</span></div></div><div class=\"_3tcB5a p8ucoS\"><div><div class=\"_2Tpdn3\" style=\"color:#000000;font-size:12px;font-weight:400\">Free delivery</div></div></div></div><div class=\"_2ZdXDB\"><div class=\"_3xFhiH\"><div class=\"_2Tpdn3 _18hQoS\" style=\"color:#000000;font-size:14px;font-style:normal;font-weight:400\">Upto </div><div class=\"_2Tpdn3 _18hQoS\" style=\"color:#000000;font-size:14px;font-style:normal;font-weight:700\">₹11,900</div><div class=\"_2Tpdn3 _18hQoS\" style=\"color:#000000;font-size:14px;font-style:normal;font-weight:400\"> Off on Exchange</div></div></div><div class=\"_2ZdXDB\"><div class=\"_3xFhiH\"><div class=\"_2Tpdn3 _18hQoS\" style=\"color:#000000;font-size:12px;font-weight:400\">No Cost EMI from ₹7,664/month</div></div></div></div></div></a></div></div></div></div><div class=\"_1AtVbE col-12-12\"><div class=\"_13oc-S\"><div data-id=\"COMGBH774UHWUFQF\" style=\"width:100%\"><div class=\"_2kHMtA\"><div class=\"_2tfzpE\"><span>Ad</span></div><a class=\"_1fQZEK\" href=\"/asus-vivobook-14-2021-celeron-dual-core-4-gb-256-gb-ssd-windows-11-home-x415ma-bv011w-thin-light-laptop/p/itm8f9bebd99f5c0?pid=COMGBH774UHWUFQF&amp;lid=LSTCOMGBH774UHWUFQFHH2XKA&amp;marketplace=FLIPKART&amp;q=laptop&amp;store=6bo%2Fb5g&amp;srno=s_1_2&amp;otracker=AS_QueryStore_OrganicAutoSuggest_1_3_na_na_na&amp;otracker1=AS_QueryStore_OrganicAutoSuggest_1_3_na_na_na&amp;fm=organic&amp;iid=en_BI1GXuq9QzJAriAczOB%2BfGESdIYqETae8SLDsnvN2f2SCb7E2tYrwx4JUjBBXYxL9iEPBi2eGdhyw5U1UPdALg%3D%3D&amp;ppt=None&amp;ppn=None&amp;ssid=wzznk26q680000001675421329815&amp;qH=312f91285e048e09\" rel=\"noopener noreferrer\" target=\"_blank\"><div class=\"MIXNux\"><div class=\"_2QcLo-\"><div><div class=\"CXW8mj\" style=\"height:200px;width:200px\"><img alt=\"ASUS VivoBook 14 (2021) Celeron Dual Core - (4 GB/256 GB SSD/Windows 11 Home) X415MA-BV011W Thin and L...\" class=\"_396cs4\" loading=\"eager\" src=\"https://rukminim1.flixcart.com/image/312/312/l2m78280/computer/z/e/f/-original-imagdx9szs8xz2rk.jpeg?q=70\"/></div></div></div><div class=\"_3wLduG\"><div class=\"_3PzNI-\"><span class=\"f3A4_V\"><label class=\"_2iDkf8\"><input class=\"_30VH1S\" readonly=\"\" type=\"checkbox\"/><div class=\"_24_Dny\"></div></label></span><label class=\"_6Up2sF\"><span>Add to Compare</span></label></div></div><div class=\"_2hVSre _3nq8ih\"><div class=\"_36FSn5\"><svg class=\"_1l0elc\" height=\"16\" viewBox=\"0 0 20 16\" width=\"16\" xmlns=\"http://www.w3.org/2000/svg\"><path class=\"eX72wL\" d=\"M8.695 16.682C4.06 12.382 1 9.536 1 6.065 1 3.219 3.178 1 5.95 1c1.566 0 3.069.746 4.05 1.915C10.981 1.745 12.484 1 14.05 1 16.822 1 19 3.22 19 6.065c0 3.471-3.06 6.316-7.695 10.617L10 17.897l-1.305-1.215z\" fill=\"#2874F0\" fill-rule=\"evenodd\" opacity=\".9\" stroke=\"#FFF\"></path></svg></div></div></div><div class=\"_3pLy-c row\"><div class=\"col col-7-12\"><div class=\"_4rR01T\">ASUS VivoBook 14 (2021) Celeron Dual Core - (4 GB/256 GB SSD/Windows 11 Home) X415MA-BV011W Thin and L...</div><div class=\"gUuXy-\"><span class=\"_1lRcqv\" id=\"productRating_LSTCOMGBH774UHWUFQFHH2XKA_COMGBH774UHWUFQF_\"><div class=\"_3LWZlK\">4.1<img class=\"_1wB99o\" src=\"data:image/svg+xml;base64,PHN2ZyB4bWxucz0iaHR0cDovL3d3dy53My5vcmcvMjAwMC9zdmciIHdpZHRoPSIxMyIgaGVpZ2h0PSIxMiI+PHBhdGggZmlsbD0iI0ZGRiIgZD0iTTYuNSA5LjQzOWwtMy42NzQgMi4yMy45NC00LjI2LTMuMjEtMi44ODMgNC4yNTQtLjQwNEw2LjUuMTEybDEuNjkgNC4wMSA0LjI1NC40MDQtMy4yMSAyLjg4Mi45NCA0LjI2eiIvPjwvc3ZnPg==\"/></div></span><span class=\"_2_R_DZ\"><span><span>707 Ratings </span><span class=\"_13vcmD\">&amp;</span><span> 87 Reviews</span></span></span></div><div class=\"fMghEO\"><ul class=\"_1xgFaf\"><li class=\"rgWa7D\">Intel Celeron Dual Core Processor</li><li class=\"rgWa7D\">4 GB DDR4 RAM</li><li class=\"rgWa7D\">64 bit Windows 11 Operating System</li><li class=\"rgWa7D\">256 GB SSD</li><li class=\"rgWa7D\">35.56 cm (14 inch) Display</li><li class=\"rgWa7D\">1 Year Onsite Warranty</li></ul></div></div><div class=\"col col-5-12 nlI3QM\"><div class=\"_3tbKJL\"><div class=\"_25b18c\"><div class=\"_30jeq3 _1_WHN1\">₹23,990</div><div class=\"_3I9_wc _27UcVY\">₹<!-- -->33,990</div><div class=\"_3Ay6Sb\"><span>29% off</span></div></div><div class=\"_3tcB5a p8ucoS\"><div><div class=\"_2Tpdn3\" style=\"color:#000000;font-size:12px;font-weight:400\">Free delivery</div></div></div></div><div class=\"_13J9qT\"><img height=\"21\" src=\"//static-assets-web.flixcart.com/fk-p-linchpin-web/fk-cp-zion/img/fa_62673a.png\"/></div><div class=\"_2ZdXDB\"><div class=\"_3xFhiH\"><div class=\"_2Tpdn3 _18hQoS\" style=\"color:#000000;font-size:14px;font-style:normal;font-weight:400\">Upto </div><div class=\"_2Tpdn3 _18hQoS\" style=\"color:#000000;font-size:14px;font-style:normal;font-weight:700\">₹11,900</div><div class=\"_2Tpdn3 _18hQoS\" style=\"color:#000000;font-size:14px;font-style:normal;font-weight:400\"> Off on Exchange</div></div></div><div class=\"_2ZdXDB\"><div class=\"_3xFhiH\"><div class=\"_2Tpdn3 _18hQoS\" style=\"color:#000000;font-size:12px;font-weight:400\">No Cost EMI from ₹7,997/month</div></div></div></div></div></a></div></div></div></div><div class=\"_1AtVbE col-12-12\"><div class=\"_13oc-S\"><div data-id=\"COMGG63HRV3GFN4G\" style=\"width:100%\"><div class=\"_2kHMtA\"><a class=\"_1fQZEK\" href=\"/hp-athlon-dual-core-3050u-8-gb-512-gb-ssd-windows-11-home-15s-eq1559au-thin-light-laptop/p/itm805c7d908648d?pid=COMGG63HRV3GFN4G&amp;lid=LSTCOMGG63HRV3GFN4GQBG9TC&amp;marketplace=FLIPKART&amp;q=laptop&amp;store=6bo%2Fb5g&amp;srno=s_1_3&amp;otracker=AS_QueryStore_OrganicAutoSuggest_1_3_na_na_na&amp;otracker1=AS_QueryStore_OrganicAutoSuggest_1_3_na_na_na&amp;fm=organic&amp;iid=bfc95ac7-7e52-44aa-8ab5-13cfc0c899e6.COMGG63HRV3GFN4G.SEARCH&amp;ppt=None&amp;ppn=None&amp;ssid=wzznk26q680000001675421329815&amp;qH=312f91285e048e09\" rel=\"noopener noreferrer\" target=\"_blank\"><div class=\"MIXNux\"><div class=\"_2QcLo-\"><div><div class=\"CXW8mj\" style=\"height:200px;width:200px\"><img alt=\"HP Athlon Dual Core 3050U - (8 GB/512 GB SSD/Windows 11 Home) 15s- eq1559AU Thin and Light Laptop\" class=\"_396cs4\" loading=\"eager\" src=\"https://rukminim1.flixcart.com/image/312/312/xif0q/computer/q/j/c/-original-imagh3wecapg5gqn.jpeg?q=70\"/></div></div></div><div class=\"_3wLduG\"><div class=\"_3PzNI-\"><span class=\"f3A4_V\"><label class=\"_2iDkf8\"><input class=\"_30VH1S\" readonly=\"\" type=\"checkbox\"/><div class=\"_24_Dny\"></div></label></span><label class=\"_6Up2sF\"><span>Add to Compare</span></label></div></div><div class=\"_2hVSre _3nq8ih\"><div class=\"_36FSn5\"><svg class=\"_1l0elc\" height=\"16\" viewBox=\"0 0 20 16\" width=\"16\" xmlns=\"http://www.w3.org/2000/svg\"><path class=\"eX72wL\" d=\"M8.695 16.682C4.06 12.382 1 9.536 1 6.065 1 3.219 3.178 1 5.95 1c1.566 0 3.069.746 4.05 1.915C10.981 1.745 12.484 1 14.05 1 16.822 1 19 3.22 19 6.065c0 3.471-3.06 6.316-7.695 10.617L10 17.897l-1.305-1.215z\" fill=\"#2874F0\" fill-rule=\"evenodd\" opacity=\".9\" stroke=\"#FFF\"></path></svg></div></div></div><div class=\"_3pLy-c row\"><div class=\"col col-7-12\"><div class=\"_4rR01T\">HP Athlon Dual Core 3050U - (8 GB/512 GB SSD/Windows 11 Home) 15s- eq1559AU Thin and Light Laptop</div><div class=\"gUuXy-\"><span class=\"_1lRcqv\" id=\"productRating_LSTCOMGG63HRV3GFN4GQBG9TC_COMGG63HRV3GFN4G_\"><div class=\"_3LWZlK\">4<img class=\"_1wB99o\" src=\"data:image/svg+xml;base64,PHN2ZyB4bWxucz0iaHR0cDovL3d3dy53My5vcmcvMjAwMC9zdmciIHdpZHRoPSIxMyIgaGVpZ2h0PSIxMiI+PHBhdGggZmlsbD0iI0ZGRiIgZD0iTTYuNSA5LjQzOWwtMy42NzQgMi4yMy45NC00LjI2LTMuMjEtMi44ODMgNC4yNTQtLjQwNEw2LjUuMTEybDEuNjkgNC4wMSA0LjI1NC40MDQtMy4yMSAyLjg4Mi45NCA0LjI2eiIvPjwvc3ZnPg==\"/></div></span><span class=\"_2_R_DZ\"><span><span>869 Ratings </span><span class=\"_13vcmD\">&amp;</span><span> 94 Reviews</span></span></span></div><div class=\"fMghEO\"><ul class=\"_1xgFaf\"><li class=\"rgWa7D\">AMD Athlon Dual Core Processor</li><li class=\"rgWa7D\">8 GB DDR4 RAM</li><li class=\"rgWa7D\">64 bit Windows 11 Operating System</li><li class=\"rgWa7D\">512 GB SSD</li><li class=\"rgWa7D\">39.62 cm (15.6 inch) Display</li><li class=\"rgWa7D\">1 Year Onsite Warranty</li></ul></div></div><div class=\"col col-5-12 nlI3QM\"><div class=\"_3tbKJL\"><div class=\"_25b18c\"><div class=\"_30jeq3 _1_WHN1\">₹29,490</div><div class=\"_3I9_wc _27UcVY\">₹<!-- -->39,288</div><div class=\"_3Ay6Sb\"><span>24% off</span></div></div><div class=\"_3tcB5a p8ucoS\"><div><div class=\"_2Tpdn3\" style=\"color:#000000;font-size:12px;font-weight:400\">Free delivery</div></div></div></div><div class=\"_13J9qT\"><img height=\"21\" src=\"//static-assets-web.flixcart.com/fk-p-linchpin-web/fk-cp-zion/img/fa_62673a.png\"/></div><div class=\"_2ZdXDB\"><div class=\"_3xFhiH\"><div class=\"_2Tpdn3 _18hQoS\" style=\"color:#000000;font-size:14px;font-style:normal;font-weight:400\">Upto </div><div class=\"_2Tpdn3 _18hQoS\" style=\"color:#000000;font-size:14px;font-style:normal;font-weight:700\">₹11,900</div><div class=\"_2Tpdn3 _18hQoS\" style=\"color:#000000;font-size:14px;font-style:normal;font-weight:400\"> Off on Exchange</div></div></div><div class=\"_2ZdXDB\"><div class=\"_3xFhiH\"><div class=\"_2Tpdn3 _18hQoS\" style=\"color:#000000;font-size:12px;font-weight:400\">No Cost EMI from ₹9,830/month</div></div></div></div></div></a></div></div></div></div><div class=\"_1AtVbE col-12-12\"><div class=\"_13oc-S\"><div data-id=\"COMG87FFPEDAAGXW\" style=\"width:100%\"><div class=\"_2kHMtA\"><a class=\"_1fQZEK\" href=\"/asus-vivobook-15-2022-core-i3-10th-gen-8-gb-512-gb-ssd-windows-11-home-x515ja-ej362ws-x515ja-ej392ws-thin-light-laptop/p/itm91aabc9853532?pid=COMG87FFPEDAAGXW&amp;lid=LSTCOMG87FFPEDAAGXWTMCIPI&amp;marketplace=FLIPKART&amp;q=laptop&amp;store=6bo%2Fb5g&amp;srno=s_1_4&amp;otracker=AS_QueryStore_OrganicAutoSuggest_1_3_na_na_na&amp;otracker1=AS_QueryStore_OrganicAutoSuggest_1_3_na_na_na&amp;fm=organic&amp;iid=bfc95ac7-7e52-44aa-8ab5-13cfc0c899e6.COMG87FFPEDAAGXW.SEARCH&amp;ppt=None&amp;ppn=None&amp;ssid=wzznk26q680000001675421329815&amp;qH=312f91285e048e09\" rel=\"noopener noreferrer\" target=\"_blank\"><div class=\"MIXNux\"><div class=\"_2QcLo-\"><div><div class=\"CXW8mj\" style=\"height:200px;width:200px\"><img alt=\"ASUS VivoBook 15 (2022) Core i3 10th Gen - (8 GB/512 GB SSD/Windows 11 Home) X515JA-EJ362WS | X515JA-E...\" class=\"_396cs4\" loading=\"eager\" src=\"https://rukminim1.flixcart.com/image/312/312/xif0q/computer/e/1/7/-original-imag3ebnzawky4kn.jpeg?q=70\"/></div></div></div><div class=\"_3wLduG\"><div class=\"_3PzNI-\"><span class=\"f3A4_V\"><label class=\"_2iDkf8\"><input class=\"_30VH1S\" readonly=\"\" type=\"checkbox\"/><div class=\"_24_Dny\"></div></label></span><label class=\"_6Up2sF\"><span>Add to Compare</span></label></div></div><div class=\"_2hVSre _3nq8ih\"><div class=\"_36FSn5\"><svg class=\"_1l0elc\" height=\"16\" viewBox=\"0 0 20 16\" width=\"16\" xmlns=\"http://www.w3.org/2000/svg\"><path class=\"eX72wL\" d=\"M8.695 16.682C4.06 12.382 1 9.536 1 6.065 1 3.219 3.178 1 5.95 1c1.566 0 3.069.746 4.05 1.915C10.981 1.745 12.484 1 14.05 1 16.822 1 19 3.22 19 6.065c0 3.471-3.06 6.316-7.695 10.617L10 17.897l-1.305-1.215z\" fill=\"#2874F0\" fill-rule=\"evenodd\" opacity=\".9\" stroke=\"#FFF\"></path></svg></div></div></div><div class=\"_3pLy-c row\"><div class=\"col col-7-12\"><div class=\"_4rR01T\">ASUS VivoBook 15 (2022) Core i3 10th Gen - (8 GB/512 GB SSD/Windows 11 Home) X515JA-EJ362WS | X515JA-E...</div><div class=\"gUuXy-\"><span class=\"_1lRcqv\" id=\"productRating_LSTCOMG87FFPEDAAGXWTMCIPI_COMG87FFPEDAAGXW_\"><div class=\"_3LWZlK\">4.3<img class=\"_1wB99o\" src=\"data:image/svg+xml;base64,PHN2ZyB4bWxucz0iaHR0cDovL3d3dy53My5vcmcvMjAwMC9zdmciIHdpZHRoPSIxMyIgaGVpZ2h0PSIxMiI+PHBhdGggZmlsbD0iI0ZGRiIgZD0iTTYuNSA5LjQzOWwtMy42NzQgMi4yMy45NC00LjI2LTMuMjEtMi44ODMgNC4yNTQtLjQwNEw2LjUuMTEybDEuNjkgNC4wMSA0LjI1NC40MDQtMy4yMSAyLjg4Mi45NCA0LjI2eiIvPjwvc3ZnPg==\"/></div></span><span class=\"_2_R_DZ\"><span><span>9,997 Ratings </span><span class=\"_13vcmD\">&amp;</span><span> 1,002 Reviews</span></span></span></div><div class=\"fMghEO\"><ul class=\"_1xgFaf\"><li class=\"rgWa7D\">Intel Core i3 Processor (10th Gen)</li><li class=\"rgWa7D\">8 GB DDR4 RAM</li><li class=\"rgWa7D\">64 bit Windows 11 Operating System</li><li class=\"rgWa7D\">512 GB SSD</li><li class=\"rgWa7D\">39.62 cm (15.6 inch) Display</li><li class=\"rgWa7D\">Office Home and Student 2021</li><li class=\"rgWa7D\">1 Year Onsite Warranty</li></ul></div></div><div class=\"col col-5-12 nlI3QM\"><div class=\"_3tbKJL\"><div class=\"_25b18c\"><div class=\"_30jeq3 _1_WHN1\">₹33,990</div><div class=\"_3I9_wc _27UcVY\">₹<!-- -->45,990</div><div class=\"_3Ay6Sb\"><span>26% off</span></div></div><div class=\"_3tcB5a p8ucoS\"><div><div class=\"_2Tpdn3\" style=\"color:#000000;font-size:12px;font-weight:400\">Free delivery</div></div></div></div><div class=\"_13J9qT\"><img height=\"21\" src=\"//static-assets-web.flixcart.com/fk-p-linchpin-web/fk-cp-zion/img/fa_62673a.png\"/></div><div class=\"_2ZdXDB\"><div class=\"_3xFhiH\"><div class=\"_2Tpdn3 _18hQoS\" style=\"color:#000000;font-size:14px;font-style:normal;font-weight:400\">Upto </div><div class=\"_2Tpdn3 _18hQoS\" style=\"color:#000000;font-size:14px;font-style:normal;font-weight:700\">₹11,900</div><div class=\"_2Tpdn3 _18hQoS\" style=\"color:#000000;font-size:14px;font-style:normal;font-weight:400\"> Off on Exchange</div></div></div><div class=\"_2ZdXDB\"><div class=\"_3xFhiH\"><div class=\"_2Tpdn3 _18hQoS\" style=\"color:#000000;font-size:12px;font-weight:400\">No Cost EMI from ₹5,665/month</div></div></div></div></div></a></div></div></div></div><div class=\"_1AtVbE col-12-12\"><div class=\"_13oc-S\"><div data-id=\"COMG5GZXPWMGTNWS\" style=\"width:100%\"><div class=\"_2kHMtA\"><a class=\"_1fQZEK\" href=\"/hp-pavilion-ryzen-5-hexa-core-amd-r5-5600h-8-gb-512-gb-ssd-windows-10-4-graphics-nvidia-geforce-gtx-1650-144-hz-15-ec2004ax-gaming-laptop/p/itm98c94bbf9bc20?pid=COMG5GZXPWMGTNWS&amp;lid=LSTCOMG5GZXPWMGTNWSQE9WVW&amp;marketplace=FLIPKART&amp;q=laptop&amp;store=6bo%2Fb5g&amp;spotlightTagId=BestsellerId_6bo%2Fb5g&amp;srno=s_1_5&amp;otracker=AS_QueryStore_OrganicAutoSuggest_1_3_na_na_na&amp;otracker1=AS_QueryStore_OrganicAutoSuggest_1_3_na_na_na&amp;fm=organic&amp;iid=bfc95ac7-7e52-44aa-8ab5-13cfc0c899e6.COMG5GZXPWMGTNWS.SEARCH&amp;ppt=None&amp;ppn=None&amp;ssid=wzznk26q680000001675421329815&amp;qH=312f91285e048e09\" rel=\"noopener noreferrer\" target=\"_blank\"><div></div><div class=\"MIXNux\"><div class=\"_2QcLo-\"><div><div class=\"CXW8mj\" style=\"height:200px;width:200px\"><img alt=\"HP Pavilion Ryzen 5 Hexa Core AMD R5-5600H - (8 GB/512 GB SSD/Windows 10/4 GB Graphics/NVIDIA GeForce ...\" class=\"_396cs4\" loading=\"eager\" src=\"https://rukminim1.flixcart.com/image/312/312/kbqu4cw0/computer/q/x/r/hp-original-imaftyzachgrav8f.jpeg?q=70\"/></div></div></div><div class=\"_3wLduG\"><div class=\"_3PzNI-\"><span class=\"f3A4_V\"><label class=\"_2iDkf8\"><input class=\"_30VH1S\" readonly=\"\" type=\"checkbox\"/><div class=\"_24_Dny\"></div></label></span><label class=\"_6Up2sF\"><span>Add to Compare</span></label></div></div><div class=\"_2hVSre _3nq8ih\"><div class=\"_36FSn5\"><svg class=\"_1l0elc\" height=\"16\" viewBox=\"0 0 20 16\" width=\"16\" xmlns=\"http://www.w3.org/2000/svg\"><path class=\"eX72wL\" d=\"M8.695 16.682C4.06 12.382 1 9.536 1 6.065 1 3.219 3.178 1 5.95 1c1.566 0 3.069.746 4.05 1.915C10.981 1.745 12.484 1 14.05 1 16.822 1 19 3.22 19 6.065c0 3.471-3.06 6.316-7.695 10.617L10 17.897l-1.305-1.215z\" fill=\"#2874F0\" fill-rule=\"evenodd\" opacity=\".9\" stroke=\"#FFF\"></path></svg></div></div></div><div class=\"_3pLy-c row\"><div class=\"col col-7-12\"><div class=\"_4rR01T\">HP Pavilion Ryzen 5 Hexa Core AMD R5-5600H - (8 GB/512 GB SSD/Windows 10/4 GB Graphics/NVIDIA GeForce ...</div><div class=\"gUuXy-\"><span class=\"_1lRcqv\" id=\"productRating_LSTCOMG5GZXPWMGTNWSQE9WVW_COMG5GZXPWMGTNWS_\"><div class=\"_3LWZlK\">4.4<img class=\"_1wB99o\" src=\"data:image/svg+xml;base64,PHN2ZyB4bWxucz0iaHR0cDovL3d3dy53My5vcmcvMjAwMC9zdmciIHdpZHRoPSIxMyIgaGVpZ2h0PSIxMiI+PHBhdGggZmlsbD0iI0ZGRiIgZD0iTTYuNSA5LjQzOWwtMy42NzQgMi4yMy45NC00LjI2LTMuMjEtMi44ODMgNC4yNTQtLjQwNEw2LjUuMTEybDEuNjkgNC4wMSA0LjI1NC40MDQtMy4yMSAyLjg4Mi45NCA0LjI2eiIvPjwvc3ZnPg==\"/></div></span><span class=\"_2_R_DZ\"><span><span>11,907 Ratings </span><span class=\"_13vcmD\">&amp;</span><span> 1,202 Reviews</span></span></span></div><div class=\"fMghEO\"><ul class=\"_1xgFaf\"><li class=\"rgWa7D\">AMD Ryzen 5 Hexa Core Processor</li><li class=\"rgWa7D\">8 GB DDR4 RAM</li><li class=\"rgWa7D\">64 bit Windows 10 Operating System</li><li class=\"rgWa7D\">512 GB SSD</li><li class=\"rgWa7D\">39.62 cm (15.6 inch) Display</li><li class=\"rgWa7D\">HP Documentation, HP e-service, HP BIOS Recovery, HP SSRM, HP Smart, HP Jumpstarts</li><li class=\"rgWa7D\">1 Year Onsite Warranty</li></ul></div></div><div class=\"col col-5-12 nlI3QM\"><div class=\"_3tbKJL\"><div class=\"_25b18c\"><div class=\"_30jeq3 _1_WHN1\">₹52,990</div><div class=\"_3I9_wc _27UcVY\">₹<!-- -->63,539</div><div class=\"_3Ay6Sb\"><span>16% off</span></div></div><div class=\"_3tcB5a p8ucoS\"><div><div class=\"_2Tpdn3\" style=\"color:#000000;font-size:12px;font-weight:400\">Free delivery</div></div></div></div><div class=\"_13J9qT\"><img height=\"21\" src=\"//static-assets-web.flixcart.com/fk-p-linchpin-web/fk-cp-zion/img/fa_62673a.png\"/></div><div class=\"_2ZdXDB\"><div class=\"_3xFhiH\"><div class=\"_2Tpdn3 _18hQoS\" style=\"color:#000000;font-size:14px;font-style:normal;font-weight:400\">Upto </div><div class=\"_2Tpdn3 _18hQoS\" style=\"color:#000000;font-size:14px;font-style:normal;font-weight:700\">₹11,900</div><div class=\"_2Tpdn3 _18hQoS\" style=\"color:#000000;font-size:14px;font-style:normal;font-weight:400\"> Off on Exchange</div></div></div><div class=\"_2ZdXDB\"><div class=\"_3xFhiH\"><div class=\"_2Tpdn3 _18hQoS\" style=\"color:#000000;font-size:12px;font-weight:400\">No Cost EMI from ₹8,832/month</div></div></div></div></div></a></div></div></div></div><div class=\"_1AtVbE col-12-12\"><div class=\"_13oc-S\"><div data-id=\"COMGG63H9BFFUYVY\" style=\"width:100%\"><div class=\"_2kHMtA\"><a class=\"_1fQZEK\" href=\"/hp-14s-intel-core-i3-11th-gen-8-gb-256-gb-ssd-windows-11-home-dy2507tu-thin-light-laptop/p/itm183e95bd1f23b?pid=COMGG63H9BFFUYVY&amp;lid=LSTCOMGG63H9BFFUYVYFHH552&amp;marketplace=FLIPKART&amp;q=laptop&amp;store=6bo%2Fb5g&amp;srno=s_1_6&amp;otracker=AS_QueryStore_OrganicAutoSuggest_1_3_na_na_na&amp;otracker1=AS_QueryStore_OrganicAutoSuggest_1_3_na_na_na&amp;fm=organic&amp;iid=bfc95ac7-7e52-44aa-8ab5-13cfc0c899e6.COMGG63H9BFFUYVY.SEARCH&amp;ppt=None&amp;ppn=None&amp;ssid=wzznk26q680000001675421329815&amp;qH=312f91285e048e09\" rel=\"noopener noreferrer\" target=\"_blank\"><div class=\"MIXNux\"><div class=\"_2QcLo-\"><div><div class=\"CXW8mj\" style=\"height:200px;width:200px\"><img alt=\"HP 14s Intel Core i3 11th Gen - (8 GB/256 GB SSD/Windows 11 Home) 14s - dy2507TU Thin and Light Laptop\" class=\"_396cs4\" loading=\"eager\" src=\"https://rukminim1.flixcart.com/image/312/312/l5h2xe80/computer/h/i/p/14s-dy5005tu-thin-and-light-laptop-hp-original-imagg4rc7n75zqkp.jpeg?q=70\"/></div></div></div><div class=\"_3wLduG\"><div class=\"_3PzNI-\"><span class=\"f3A4_V\"><label class=\"_2iDkf8\"><input class=\"_30VH1S\" readonly=\"\" type=\"checkbox\"/><div class=\"_24_Dny\"></div></label></span><label class=\"_6Up2sF\"><span>Add to Compare</span></label></div></div><div class=\"_2hVSre _3nq8ih\"><div class=\"_36FSn5\"><svg class=\"_1l0elc\" height=\"16\" viewBox=\"0 0 20 16\" width=\"16\" xmlns=\"http://www.w3.org/2000/svg\"><path class=\"eX72wL\" d=\"M8.695 16.682C4.06 12.382 1 9.536 1 6.065 1 3.219 3.178 1 5.95 1c1.566 0 3.069.746 4.05 1.915C10.981 1.745 12.484 1 14.05 1 16.822 1 19 3.22 19 6.065c0 3.471-3.06 6.316-7.695 10.617L10 17.897l-1.305-1.215z\" fill=\"#2874F0\" fill-rule=\"evenodd\" opacity=\".9\" stroke=\"#FFF\"></path></svg></div></div></div><div class=\"_3pLy-c row\"><div class=\"col col-7-12\"><div class=\"_4rR01T\">HP 14s Intel Core i3 11th Gen - (8 GB/256 GB SSD/Windows 11 Home) 14s - dy2507TU Thin and Light Laptop</div><div class=\"gUuXy-\"><span class=\"_1lRcqv\" id=\"productRating_LSTCOMGG63H9BFFUYVYFHH552_COMGG63H9BFFUYVY_\"><div class=\"_3LWZlK\">4.2<img class=\"_1wB99o\" src=\"data:image/svg+xml;base64,PHN2ZyB4bWxucz0iaHR0cDovL3d3dy53My5vcmcvMjAwMC9zdmciIHdpZHRoPSIxMyIgaGVpZ2h0PSIxMiI+PHBhdGggZmlsbD0iI0ZGRiIgZD0iTTYuNSA5LjQzOWwtMy42NzQgMi4yMy45NC00LjI2LTMuMjEtMi44ODMgNC4yNTQtLjQwNEw2LjUuMTEybDEuNjkgNC4wMSA0LjI1NC40MDQtMy4yMSAyLjg4Mi45NCA0LjI2eiIvPjwvc3ZnPg==\"/></div></span><span class=\"_2_R_DZ\"><span><span>1,585 Ratings </span><span class=\"_13vcmD\">&amp;</span><span> 139 Reviews</span></span></span></div><div class=\"fMghEO\"><ul class=\"_1xgFaf\"><li class=\"rgWa7D\">Intel Core i3 Processor (11th Gen)</li><li class=\"rgWa7D\">8 GB DDR4 RAM</li><li class=\"rgWa7D\">64 bit Windows 11 Operating System</li><li class=\"rgWa7D\">256 GB SSD</li><li class=\"rgWa7D\">35.56 cm (14 inch) Display</li><li class=\"rgWa7D\">1 Year Onsite Warranty</li></ul></div></div><div class=\"col col-5-12 nlI3QM\"><div class=\"_3tbKJL\"><div class=\"_25b18c\"><div class=\"_30jeq3 _1_WHN1\">₹35,490</div><div class=\"_3I9_wc _27UcVY\">₹<!-- -->47,206</div><div class=\"_3Ay6Sb\"><span>24% off</span></div></div><div class=\"_3tcB5a p8ucoS\"><div><div class=\"_2Tpdn3\" style=\"color:#000000;font-size:12px;font-weight:400\">Free delivery</div></div></div></div><div class=\"_13J9qT\"><img height=\"21\" src=\"//static-assets-web.flixcart.com/fk-p-linchpin-web/fk-cp-zion/img/fa_62673a.png\"/></div><div class=\"_2ZdXDB\"><div class=\"_3xFhiH\"><div class=\"_2Tpdn3 _18hQoS\" style=\"color:#000000;font-size:14px;font-style:normal;font-weight:400\">Upto </div><div class=\"_2Tpdn3 _18hQoS\" style=\"color:#000000;font-size:14px;font-style:normal;font-weight:700\">₹11,900</div><div class=\"_2Tpdn3 _18hQoS\" style=\"color:#000000;font-size:14px;font-style:normal;font-weight:400\"> Off on Exchange</div></div></div><div class=\"_2ZdXDB\"><div class=\"_3xFhiH\"><div class=\"_2Tpdn3 _18hQoS\" style=\"color:#000000;font-size:12px;font-weight:400\">No Cost EMI from ₹5,915/month</div></div></div></div></div></a></div></div></div></div><div class=\"_1AtVbE col-12-12\"><div class=\"_13oc-S\"><div data-id=\"COMGDMXVJJB2HGMY\" style=\"width:100%\"><div class=\"_2kHMtA\"><a class=\"_1fQZEK\" href=\"/lenovo-intel-celeron-dual-core-8-gb-256-gb-ssd-windows-11-home-81wq00mqin-81wq00nxin-laptop/p/itm2560cd9192f02?pid=COMGDMXVJJB2HGMY&amp;lid=LSTCOMGDMXVJJB2HGMYLAIFLM&amp;marketplace=FLIPKART&amp;q=laptop&amp;store=6bo%2Fb5g&amp;srno=s_1_7&amp;otracker=AS_QueryStore_OrganicAutoSuggest_1_3_na_na_na&amp;otracker1=AS_QueryStore_OrganicAutoSuggest_1_3_na_na_na&amp;fm=organic&amp;iid=bfc95ac7-7e52-44aa-8ab5-13cfc0c899e6.COMGDMXVJJB2HGMY.SEARCH&amp;ppt=None&amp;ppn=None&amp;ssid=wzznk26q680000001675421329815&amp;qH=312f91285e048e09\" rel=\"noopener noreferrer\" target=\"_blank\"><div class=\"MIXNux\"><div class=\"_2QcLo-\"><div><div class=\"CXW8mj\" style=\"height:200px;width:200px\"><img alt=\"Lenovo Intel Celeron Dual Core - (8 GB/256 GB SSD/Windows 11 Home) 81WQ00MQIN|81WQ00NXIN Laptop\" class=\"_396cs4\" loading=\"eager\" src=\"https://rukminim1.flixcart.com/image/312/312/keaaavk0/computer/x/m/y/lenovo-na-laptop-original-imafuzt8r5jqppfn.jpeg?q=70\"/></div></div></div><div class=\"_3wLduG\"><div class=\"_3PzNI-\"><span class=\"f3A4_V\"><label class=\"_2iDkf8\"><input class=\"_30VH1S\" readonly=\"\" type=\"checkbox\"/><div class=\"_24_Dny\"></div></label></span><label class=\"_6Up2sF\"><span>Add to Compare</span></label></div></div><div class=\"_2hVSre _3nq8ih\"><div class=\"_36FSn5\"><svg class=\"_1l0elc\" height=\"16\" viewBox=\"0 0 20 16\" width=\"16\" xmlns=\"http://www.w3.org/2000/svg\"><path class=\"eX72wL\" d=\"M8.695 16.682C4.06 12.382 1 9.536 1 6.065 1 3.219 3.178 1 5.95 1c1.566 0 3.069.746 4.05 1.915C10.981 1.745 12.484 1 14.05 1 16.822 1 19 3.22 19 6.065c0 3.471-3.06 6.316-7.695 10.617L10 17.897l-1.305-1.215z\" fill=\"#2874F0\" fill-rule=\"evenodd\" opacity=\".9\" stroke=\"#FFF\"></path></svg></div></div></div><div class=\"_3pLy-c row\"><div class=\"col col-7-12\"><div class=\"_4rR01T\">Lenovo Intel Celeron Dual Core - (8 GB/256 GB SSD/Windows 11 Home) 81WQ00MQIN|81WQ00NXIN Laptop</div><div class=\"gUuXy-\"><span class=\"_1lRcqv\" id=\"productRating_LSTCOMGDMXVJJB2HGMYLAIFLM_COMGDMXVJJB2HGMY_\"><div class=\"_3LWZlK\">4.1<img class=\"_1wB99o\" src=\"data:image/svg+xml;base64,PHN2ZyB4bWxucz0iaHR0cDovL3d3dy53My5vcmcvMjAwMC9zdmciIHdpZHRoPSIxMyIgaGVpZ2h0PSIxMiI+PHBhdGggZmlsbD0iI0ZGRiIgZD0iTTYuNSA5LjQzOWwtMy42NzQgMi4yMy45NC00LjI2LTMuMjEtMi44ODMgNC4yNTQtLjQwNEw2LjUuMTEybDEuNjkgNC4wMSA0LjI1NC40MDQtMy4yMSAyLjg4Mi45NCA0LjI2eiIvPjwvc3ZnPg==\"/></div></span><span class=\"_2_R_DZ\"><span><span>373 Ratings </span><span class=\"_13vcmD\">&amp;</span><span> 35 Reviews</span></span></span></div><div class=\"fMghEO\"><ul class=\"_1xgFaf\"><li class=\"rgWa7D\">Intel Celeron Dual Core Processor</li><li class=\"rgWa7D\">8 GB DDR4 RAM</li><li class=\"rgWa7D\">64 bit Windows 11 Operating System</li><li class=\"rgWa7D\">256 GB SSD</li><li class=\"rgWa7D\">39.62 cm (15.6 Inch) Display</li><li class=\"rgWa7D\">2 Years Onsite�Warranty</li></ul></div></div><div class=\"col col-5-12 nlI3QM\"><div class=\"_3tbKJL\"><div class=\"_25b18c\"><div class=\"_30jeq3 _1_WHN1\">₹25,917</div><div class=\"_3I9_wc _27UcVY\">₹<!-- -->40,490</div><div class=\"_3Ay6Sb\"><span>35% off</span></div></div><div class=\"_3tcB5a p8ucoS\"><div><div class=\"_2Tpdn3\" style=\"color:#000000;font-size:12px;font-weight:400\">Free delivery</div></div></div></div><div class=\"_13J9qT\"><img height=\"21\" src=\"//static-assets-web.flixcart.com/fk-p-linchpin-web/fk-cp-zion/img/fa_62673a.png\"/></div><div class=\"_2ZdXDB\"><div class=\"_3xFhiH\"><div class=\"_2Tpdn3 _18hQoS\" style=\"color:#26A541;font-size:14px;font-weight:700\">Bank Offer</div></div></div></div></div></a></div></div></div></div><div class=\"_1AtVbE col-12-12\"><div class=\"_13oc-S\"><div data-id=\"COMG3FAWJKFWGWFZ\" style=\"width:100%\"><div class=\"_2kHMtA\"><div class=\"_2tfzpE\"><span>Ad</span></div><a class=\"_1fQZEK\" href=\"/nokia-purebook-s14-core-i5-11th-gen-16-gb-512-gb-ssd-windows-11-home-nki511tl165s-thin-light-laptop/p/itmb8904b8f72a2e?pid=COMG3FAWJKFWGWFZ&amp;lid=LSTCOMG3FAWJKFWGWFZWFYJRE&amp;marketplace=FLIPKART&amp;q=laptop&amp;store=6bo%2Fb5g&amp;srno=s_1_8&amp;otracker=AS_QueryStore_OrganicAutoSuggest_1_3_na_na_na&amp;otracker1=AS_QueryStore_OrganicAutoSuggest_1_3_na_na_na&amp;fm=organic&amp;iid=en_BI1GXuq9QzJAriAczOB%2BfGESdIYqETae8SLDsnvN2f0cx%2BaM0lhFSH7CQtZRqSoWrDzjO%2BZYc8yfEKcIuJPH0w%3D%3D&amp;ppt=None&amp;ppn=None&amp;ssid=wzznk26q680000001675421329815&amp;qH=312f91285e048e09\" rel=\"noopener noreferrer\" target=\"_blank\"><div class=\"MIXNux\"><div class=\"_2QcLo-\"><div><div class=\"CXW8mj\" style=\"height:200px;width:200px\"><img alt=\"Nokia PureBook S14 Core i5 11th Gen - (16 GB/512 GB SSD/Windows 11 Home) NKi511TL165S Thin and Light L...\" class=\"_396cs4\" loading=\"eager\" src=\"https://rukminim1.flixcart.com/image/312/312/ktyp8cw0/computer/h/a/s/na-thin-and-light-laptop-nokia-original-imag77fgvdj4fv8e.jpeg?q=70\"/></div></div></div><div class=\"_3wLduG\"><div class=\"_3PzNI-\"><span class=\"f3A4_V\"><label class=\"_2iDkf8\"><input class=\"_30VH1S\" readonly=\"\" type=\"checkbox\"/><div class=\"_24_Dny\"></div></label></span><label class=\"_6Up2sF\"><span>Add to Compare</span></label></div></div><div class=\"_2hVSre _3nq8ih\"><div class=\"_36FSn5\"><svg class=\"_1l0elc\" height=\"16\" viewBox=\"0 0 20 16\" width=\"16\" xmlns=\"http://www.w3.org/2000/svg\"><path class=\"eX72wL\" d=\"M8.695 16.682C4.06 12.382 1 9.536 1 6.065 1 3.219 3.178 1 5.95 1c1.566 0 3.069.746 4.05 1.915C10.981 1.745 12.484 1 14.05 1 16.822 1 19 3.22 19 6.065c0 3.471-3.06 6.316-7.695 10.617L10 17.897l-1.305-1.215z\" fill=\"#2874F0\" fill-rule=\"evenodd\" opacity=\".9\" stroke=\"#FFF\"></path></svg></div></div></div><div class=\"_3pLy-c row\"><div class=\"col col-7-12\"><div class=\"_4rR01T\">Nokia PureBook S14 Core i5 11th Gen - (16 GB/512 GB SSD/Windows 11 Home) NKi511TL165S Thin and Light L...</div><div class=\"gUuXy-\"><span class=\"_1lRcqv\" id=\"productRating_LSTCOMG3FAWJKFWGWFZWFYJRE_COMG3FAWJKFWGWFZ_\"><div class=\"_3LWZlK\">4<img class=\"_1wB99o\" src=\"data:image/svg+xml;base64,PHN2ZyB4bWxucz0iaHR0cDovL3d3dy53My5vcmcvMjAwMC9zdmciIHdpZHRoPSIxMyIgaGVpZ2h0PSIxMiI+PHBhdGggZmlsbD0iI0ZGRiIgZD0iTTYuNSA5LjQzOWwtMy42NzQgMi4yMy45NC00LjI2LTMuMjEtMi44ODMgNC4yNTQtLjQwNEw2LjUuMTEybDEuNjkgNC4wMSA0LjI1NC40MDQtMy4yMSAyLjg4Mi45NCA0LjI2eiIvPjwvc3ZnPg==\"/></div></span><span class=\"_2_R_DZ\"><span><span>817 Ratings </span><span class=\"_13vcmD\">&amp;</span><span> 193 Reviews</span></span></span></div><div class=\"fMghEO\"><ul class=\"_1xgFaf\"><li class=\"rgWa7D\">Intel Core i5 Processor (11th Gen)</li><li class=\"rgWa7D\">16 GB DDR4 RAM</li><li class=\"rgWa7D\">64 bit Windows 11 Operating System</li><li class=\"rgWa7D\">512 GB SSD</li><li class=\"rgWa7D\">35.56 cm (14 inch) Display</li><li class=\"rgWa7D\">1 Year Onsite Warranty Commencing from the Date of Purchase</li></ul></div></div><div class=\"col col-5-12 nlI3QM\"><div class=\"_3tbKJL\"><div class=\"_25b18c\"><div class=\"_30jeq3 _1_WHN1\">₹40,990</div><div class=\"_3I9_wc _27UcVY\">₹<!-- -->82,990</div><div class=\"_3Ay6Sb\"><span>50% off</span></div></div><div class=\"_3tcB5a p8ucoS\"><div><div class=\"_2Tpdn3\" style=\"color:#000000;font-size:12px;font-weight:400\">Free delivery</div></div></div></div><div class=\"_13J9qT\"><img height=\"21\" src=\"//static-assets-web.flixcart.com/fk-p-linchpin-web/fk-cp-zion/img/fa_62673a.png\"/></div><div class=\"_2ZdXDB\"><div class=\"_3xFhiH\"><div class=\"_2Tpdn3 _18hQoS\" style=\"color:#000000;font-size:14px;font-style:normal;font-weight:400\">Upto </div><div class=\"_2Tpdn3 _18hQoS\" style=\"color:#000000;font-size:14px;font-style:normal;font-weight:700\">₹16,900</div><div class=\"_2Tpdn3 _18hQoS\" style=\"color:#000000;font-size:14px;font-style:normal;font-weight:400\"> Off on Exchange</div></div></div><div class=\"_2ZdXDB\"><div class=\"_3xFhiH\"><div class=\"_2Tpdn3 _18hQoS\" style=\"color:#000000;font-size:12px;font-weight:400\">No Cost EMI from ₹6,832/month</div></div></div></div></div></a></div></div></div></div><div class=\"_1AtVbE col-12-12\"><div class=\"_13oc-S\"><div data-id=\"COMGHTE8G8FXQJVN\" style=\"width:100%\"><div class=\"_2kHMtA\"><a class=\"_1fQZEK\" href=\"/lenovo-v15-g2-core-i3-11th-gen-8-gb-512-gb-ssd-windows-11-home-itl-laptop/p/itmaf2c39ebc5889?pid=COMGHTE8G8FXQJVN&amp;lid=LSTCOMGHTE8G8FXQJVNTMAYRQ&amp;marketplace=FLIPKART&amp;q=laptop&amp;store=6bo%2Fb5g&amp;srno=s_1_9&amp;otracker=AS_QueryStore_OrganicAutoSuggest_1_3_na_na_na&amp;otracker1=AS_QueryStore_OrganicAutoSuggest_1_3_na_na_na&amp;fm=organic&amp;iid=bfc95ac7-7e52-44aa-8ab5-13cfc0c899e6.COMGHTE8G8FXQJVN.SEARCH&amp;ppt=None&amp;ppn=None&amp;ssid=wzznk26q680000001675421329815&amp;qH=312f91285e048e09\" rel=\"noopener noreferrer\" target=\"_blank\"><div class=\"MIXNux\"><div class=\"_2QcLo-\"><div><div class=\"CXW8mj\" style=\"height:200px;width:200px\"><img alt=\"Lenovo V15 G2 Core i3 11th Gen - (8 GB/512 GB SSD/Windows 11 Home) V15 ITL G2 Laptop\" class=\"_396cs4\" loading=\"eager\" src=\"https://rukminim1.flixcart.com/image/312/312/xif0q/computer/d/t/c/v15-g2-alc-laptop-lenovo-original-imaghq2ffspmtfuh.jpeg?q=70\"/></div></div></div><div class=\"_3wLduG\"><div class=\"_3PzNI-\"><span class=\"f3A4_V\"><label class=\"_2iDkf8\"><input class=\"_30VH1S\" readonly=\"\" type=\"checkbox\"/><div class=\"_24_Dny\"></div></label></span><label class=\"_6Up2sF\"><span>Add to Compare</span></label></div></div><div class=\"_2hVSre _3nq8ih\"><div class=\"_36FSn5\"><svg class=\"_1l0elc\" height=\"16\" viewBox=\"0 0 20 16\" width=\"16\" xmlns=\"http://www.w3.org/2000/svg\"><path class=\"eX72wL\" d=\"M8.695 16.682C4.06 12.382 1 9.536 1 6.065 1 3.219 3.178 1 5.95 1c1.566 0 3.069.746 4.05 1.915C10.981 1.745 12.484 1 14.05 1 16.822 1 19 3.22 19 6.065c0 3.471-3.06 6.316-7.695 10.617L10 17.897l-1.305-1.215z\" fill=\"#2874F0\" fill-rule=\"evenodd\" opacity=\".9\" stroke=\"#FFF\"></path></svg></div></div></div><div class=\"_3pLy-c row\"><div class=\"col col-7-12\"><div class=\"_4rR01T\">Lenovo V15 G2 Core i3 11th Gen - (8 GB/512 GB SSD/Windows 11 Home) V15 ITL G2 Laptop</div><div class=\"gUuXy-\"><span class=\"_1lRcqv\" id=\"productRating_LSTCOMGHTE8G8FXQJVNTMAYRQ_COMGHTE8G8FXQJVN_\"><div class=\"_3LWZlK\">4<img class=\"_1wB99o\" src=\"data:image/svg+xml;base64,PHN2ZyB4bWxucz0iaHR0cDovL3d3dy53My5vcmcvMjAwMC9zdmciIHdpZHRoPSIxMyIgaGVpZ2h0PSIxMiI+PHBhdGggZmlsbD0iI0ZGRiIgZD0iTTYuNSA5LjQzOWwtMy42NzQgMi4yMy45NC00LjI2LTMuMjEtMi44ODMgNC4yNTQtLjQwNEw2LjUuMTEybDEuNjkgNC4wMSA0LjI1NC40MDQtMy4yMSAyLjg4Mi45NCA0LjI2eiIvPjwvc3ZnPg==\"/></div></span><span class=\"_2_R_DZ\"><span><span>28 Ratings </span><span class=\"_13vcmD\">&amp;</span><span> 2 Reviews</span></span></span></div><div class=\"fMghEO\"><ul class=\"_1xgFaf\"><li class=\"rgWa7D\">Intel Core i3 Processor (11th Gen)</li><li class=\"rgWa7D\">8 GB DDR4 RAM</li><li class=\"rgWa7D\">64 bit Windows 11 Operating System</li><li class=\"rgWa7D\">512 GB SSD</li><li class=\"rgWa7D\">39.62 cm (15.6 Inch) Display</li><li class=\"rgWa7D\">No</li><li class=\"rgWa7D\">1 Year Onsite Warranty + 1 Year Accidental Damage Protection Add On</li></ul></div></div><div class=\"col col-5-12 nlI3QM\"><div class=\"_3tbKJL\"><div class=\"_25b18c\"><div class=\"_30jeq3 _1_WHN1\">₹33,999</div><div class=\"_3I9_wc _27UcVY\">₹<!-- -->59,760</div><div class=\"_3Ay6Sb\"><span>43% off</span></div></div></div><div class=\"_13J9qT\"><img height=\"21\" src=\"//static-assets-web.flixcart.com/fk-p-linchpin-web/fk-cp-zion/img/fa_62673a.png\"/></div></div></div></a></div></div></div></div><div class=\"_1AtVbE col-12-12\"><div class=\"_13oc-S\"><div data-id=\"COMGFY85CRF3KF5W\" style=\"width:100%\"><div class=\"_2kHMtA\"><a class=\"_1fQZEK\" href=\"/acer-aspire-3-ryzen-dual-core-3250u-8-gb-256-gb-ssd-windows-11-home-a315-23-laptop/p/itm6961e2f1ddc21?pid=COMGFY85CRF3KF5W&amp;lid=LSTCOMGFY85CRF3KF5WFX1VHM&amp;marketplace=FLIPKART&amp;q=laptop&amp;store=6bo%2Fb5g&amp;srno=s_1_10&amp;otracker=AS_QueryStore_OrganicAutoSuggest_1_3_na_na_na&amp;otracker1=AS_QueryStore_OrganicAutoSuggest_1_3_na_na_na&amp;fm=organic&amp;iid=bfc95ac7-7e52-44aa-8ab5-13cfc0c899e6.COMGFY85CRF3KF5W.SEARCH&amp;ppt=None&amp;ppn=None&amp;ssid=wzznk26q680000001675421329815&amp;qH=312f91285e048e09\" rel=\"noopener noreferrer\" target=\"_blank\"><div class=\"MIXNux\"><div class=\"_2QcLo-\"><div><div class=\"CXW8mj\" style=\"height:200px;width:200px\"><img alt=\"acer Aspire 3 Ryzen 3 Dual Core 3250U - (8 GB/256 GB SSD/Windows 11 Home) A315-23 Laptop\" class=\"_396cs4\" loading=\"eager\" src=\"https://rukminim1.flixcart.com/image/312/312/xif0q/computer/q/0/8/-original-imagkgr3wcfexyd8.jpeg?q=70\"/></div></div></div><div class=\"_3wLduG\"><div class=\"_3PzNI-\"><span class=\"f3A4_V\"><label class=\"_2iDkf8\"><input class=\"_30VH1S\" readonly=\"\" type=\"checkbox\"/><div class=\"_24_Dny\"></div></label></span><label class=\"_6Up2sF\"><span>Add to Compare</span></label></div></div><div class=\"_2hVSre _3nq8ih\"><div class=\"_36FSn5\"><svg class=\"_1l0elc\" height=\"16\" viewBox=\"0 0 20 16\" width=\"16\" xmlns=\"http://www.w3.org/2000/svg\"><path class=\"eX72wL\" d=\"M8.695 16.682C4.06 12.382 1 9.536 1 6.065 1 3.219 3.178 1 5.95 1c1.566 0 3.069.746 4.05 1.915C10.981 1.745 12.484 1 14.05 1 16.822 1 19 3.22 19 6.065c0 3.471-3.06 6.316-7.695 10.617L10 17.897l-1.305-1.215z\" fill=\"#2874F0\" fill-rule=\"evenodd\" opacity=\".9\" stroke=\"#FFF\"></path></svg></div></div></div><div class=\"_3pLy-c row\"><div class=\"col col-7-12\"><div class=\"_4rR01T\">acer Aspire 3 Ryzen 3 Dual Core 3250U - (8 GB/256 GB SSD/Windows 11 Home) A315-23 Laptop</div><div class=\"gUuXy-\"><span class=\"_1lRcqv\" id=\"productRating_LSTCOMGFY85CRF3KF5WFX1VHM_COMGFY85CRF3KF5W_\"><div class=\"_3LWZlK\">4.2<img class=\"_1wB99o\" src=\"data:image/svg+xml;base64,PHN2ZyB4bWxucz0iaHR0cDovL3d3dy53My5vcmcvMjAwMC9zdmciIHdpZHRoPSIxMyIgaGVpZ2h0PSIxMiI+PHBhdGggZmlsbD0iI0ZGRiIgZD0iTTYuNSA5LjQzOWwtMy42NzQgMi4yMy45NC00LjI2LTMuMjEtMi44ODMgNC4yNTQtLjQwNEw2LjUuMTEybDEuNjkgNC4wMSA0LjI1NC40MDQtMy4yMSAyLjg4Mi45NCA0LjI2eiIvPjwvc3ZnPg==\"/></div></span><span class=\"_2_R_DZ\"><span><span>273 Ratings </span><span class=\"_13vcmD\">&amp;</span><span> 55 Reviews</span></span></span></div><div class=\"fMghEO\"><ul class=\"_1xgFaf\"><li class=\"rgWa7D\">AMD Ryzen 3 Dual Core Processor</li><li class=\"rgWa7D\">8 GB DDR4 RAM</li><li class=\"rgWa7D\">64 bit Windows 11 Operating System</li><li class=\"rgWa7D\">256 GB SSD</li><li class=\"rgWa7D\">39.62 cm (15.6 Inch) Display</li><li class=\"rgWa7D\">1 Year International Travelers Warranty (ITW)</li></ul></div></div><div class=\"col col-5-12 nlI3QM\"><div class=\"_3tbKJL\"><div class=\"_25b18c\"><div class=\"_30jeq3 _1_WHN1\">₹26,990</div><div class=\"_3I9_wc _27UcVY\">₹<!-- -->42,999</div><div class=\"_3Ay6Sb\"><span>37% off</span></div></div><div class=\"_3tcB5a p8ucoS\"><div><div class=\"_2Tpdn3\" style=\"color:#000000;font-size:12px;font-weight:400\">Free delivery</div></div></div></div><div class=\"_13J9qT\"><img height=\"21\" src=\"//static-assets-web.flixcart.com/fk-p-linchpin-web/fk-cp-zion/img/fa_62673a.png\"/></div><div class=\"_2ZdXDB\"><div class=\"_3xFhiH\"><div class=\"_2Tpdn3 _18hQoS\" style=\"color:#000000;font-size:14px;font-style:normal;font-weight:400\">Upto </div><div class=\"_2Tpdn3 _18hQoS\" style=\"color:#000000;font-size:14px;font-style:normal;font-weight:700\">₹11,900</div><div class=\"_2Tpdn3 _18hQoS\" style=\"color:#000000;font-size:14px;font-style:normal;font-weight:400\"> Off on Exchange</div></div></div><div class=\"_2ZdXDB\"><div class=\"_3xFhiH\"><div class=\"_2Tpdn3 _18hQoS\" style=\"color:#000000;font-size:12px;font-weight:400\">No Cost EMI from ₹8,997/month</div></div></div></div></div></a></div></div></div></div><div class=\"_1AtVbE col-12-12\"><div class=\"_13oc-S\"><div data-id=\"COMGFYQZZFRKBNWV\" style=\"width:100%\"><div class=\"_2kHMtA\"><a class=\"_1fQZEK\" href=\"/asus-tuf-gaming-a17-90whr-battery-ryzen-5-hexa-core-amd-r5-4600h-8-gb-512-gb-ssd-windows-11-home-4-graphics-nvidia-geforce-gtx-1650-144-hz-fa706ihrb-hx041w-laptop/p/itm210385fd14c7a?pid=COMGFYQZZFRKBNWV&amp;lid=LSTCOMGFYQZZFRKBNWVYP70VR&amp;marketplace=FLIPKART&amp;q=laptop&amp;store=6bo%2Fb5g&amp;srno=s_1_11&amp;otracker=AS_QueryStore_OrganicAutoSuggest_1_3_na_na_na&amp;otracker1=AS_QueryStore_OrganicAutoSuggest_1_3_na_na_na&amp;fm=organic&amp;iid=bfc95ac7-7e52-44aa-8ab5-13cfc0c899e6.COMGFYQZZFRKBNWV.SEARCH&amp;ppt=None&amp;ppn=None&amp;ssid=wzznk26q680000001675421329815&amp;qH=312f91285e048e09\" rel=\"noopener noreferrer\" target=\"_blank\"><div class=\"MIXNux\"><div class=\"_2QcLo-\"><div><div class=\"CXW8mj\" style=\"height:200px;width:200px\"><img alt=\"ASUS TUF Gaming A17 with 90Whr Battery Ryzen 5 Hexa Core AMD R5-4600H - (8 GB/512 GB SSD/Windows 11 Ho...\" class=\"_396cs4\" loading=\"eager\" src=\"https://rukminim1.flixcart.com/image/312/312/l3rmzrk0/computer/z/2/c/-original-imagetjyhhtrtkdg.jpeg?q=70\"/></div></div></div><div class=\"_3wLduG\"><div class=\"_3PzNI-\"><span class=\"f3A4_V\"><label class=\"_2iDkf8\"><input class=\"_30VH1S\" readonly=\"\" type=\"checkbox\"/><div class=\"_24_Dny\"></div></label></span><label class=\"_6Up2sF\"><span>Add to Compare</span></label></div></div><div class=\"_2hVSre _3nq8ih\"><div class=\"_36FSn5\"><svg class=\"_1l0elc\" height=\"16\" viewBox=\"0 0 20 16\" width=\"16\" xmlns=\"http://www.w3.org/2000/svg\"><path class=\"eX72wL\" d=\"M8.695 16.682C4.06 12.382 1 9.536 1 6.065 1 3.219 3.178 1 5.95 1c1.566 0 3.069.746 4.05 1.915C10.981 1.745 12.484 1 14.05 1 16.822 1 19 3.22 19 6.065c0 3.471-3.06 6.316-7.695 10.617L10 17.897l-1.305-1.215z\" fill=\"#2874F0\" fill-rule=\"evenodd\" opacity=\".9\" stroke=\"#FFF\"></path></svg></div></div></div><div class=\"_3pLy-c row\"><div class=\"col col-7-12\"><div class=\"_4rR01T\">ASUS TUF Gaming A17 with 90Whr Battery Ryzen 5 Hexa Core AMD R5-4600H - (8 GB/512 GB SSD/Windows 11 Ho...</div><div class=\"gUuXy-\"><span class=\"_1lRcqv\" id=\"productRating_LSTCOMGFYQZZFRKBNWVYP70VR_COMGFYQZZFRKBNWV_\"><div class=\"_3LWZlK\">4.4<img class=\"_1wB99o\" src=\"data:image/svg+xml;base64,PHN2ZyB4bWxucz0iaHR0cDovL3d3dy53My5vcmcvMjAwMC9zdmciIHdpZHRoPSIxMyIgaGVpZ2h0PSIxMiI+PHBhdGggZmlsbD0iI0ZGRiIgZD0iTTYuNSA5LjQzOWwtMy42NzQgMi4yMy45NC00LjI2LTMuMjEtMi44ODMgNC4yNTQtLjQwNEw2LjUuMTEybDEuNjkgNC4wMSA0LjI1NC40MDQtMy4yMSAyLjg4Mi45NCA0LjI2eiIvPjwvc3ZnPg==\"/></div></span><span class=\"_2_R_DZ\"><span><span>1,371 Ratings </span><span class=\"_13vcmD\">&amp;</span><span> 166 Reviews</span></span></span></div><div class=\"fMghEO\"><ul class=\"_1xgFaf\"><li class=\"rgWa7D\">AMD Ryzen 5 Hexa Core Processor</li><li class=\"rgWa7D\">8 GB DDR4 RAM</li><li class=\"rgWa7D\">64 bit Windows 11 Operating System</li><li class=\"rgWa7D\">512 GB SSD</li><li class=\"rgWa7D\">43.94 cm (17.3 Inch) Display</li><li class=\"rgWa7D\">1 Year Onsite Warranty</li></ul></div></div><div class=\"col col-5-12 nlI3QM\"><div class=\"_3tbKJL\"><div class=\"_25b18c\"><div class=\"_30jeq3 _1_WHN1\">₹52,990</div><div class=\"_3I9_wc _27UcVY\">₹<!-- -->71,990</div><div class=\"_3Ay6Sb\"><span>26% off</span></div></div><div class=\"_3tcB5a p8ucoS\"><div><div class=\"_2Tpdn3\" style=\"color:#000000;font-size:12px;font-weight:400\">Free delivery</div></div></div></div><div class=\"_13J9qT\"><img height=\"21\" src=\"//static-assets-web.flixcart.com/fk-p-linchpin-web/fk-cp-zion/img/fa_62673a.png\"/></div><div class=\"_2ZdXDB\"><div class=\"_3xFhiH\"><div class=\"_2Tpdn3 _18hQoS\" style=\"color:#000000;font-size:14px;font-style:normal;font-weight:400\">Upto </div><div class=\"_2Tpdn3 _18hQoS\" style=\"color:#000000;font-size:14px;font-style:normal;font-weight:700\">₹11,900</div><div class=\"_2Tpdn3 _18hQoS\" style=\"color:#000000;font-size:14px;font-style:normal;font-weight:400\"> Off on Exchange</div></div></div><div class=\"_2ZdXDB\"><div class=\"_3xFhiH\"><div class=\"_2Tpdn3 _18hQoS\" style=\"color:#000000;font-size:12px;font-weight:400\">No Cost EMI from ₹8,832/month</div></div></div></div></div></a></div></div></div></div><div class=\"_1AtVbE col-12-12\"><div class=\"_13oc-S\"><div data-id=\"COMG8Z3HUV4BCBPU\" style=\"width:100%\"><div class=\"_2kHMtA\"><div class=\"_2tfzpE\"><span>Ad</span></div><a class=\"_1fQZEK\" href=\"/infinix-inbook-x1-core-i5-10th-gen-8-gb-512-gb-ssd-windows-11-home-xl11-thin-light-laptop/p/itm8fc1607e50f25?pid=COMG8Z3HUV4BCBPU&amp;lid=LSTCOMG8Z3HUV4BCBPUIDPMBF&amp;marketplace=FLIPKART&amp;q=laptop&amp;store=6bo%2Fb5g&amp;srno=s_1_12&amp;otracker=AS_QueryStore_OrganicAutoSuggest_1_3_na_na_na&amp;otracker1=AS_QueryStore_OrganicAutoSuggest_1_3_na_na_na&amp;fm=organic&amp;iid=en_BI1GXuq9QzJAriAczOB%2BfGESdIYqETae8SLDsnvN2f1pDBNRcaSZElimEEqWMVfByykPTjRMbZgnnJzACylV2g%3D%3D&amp;ppt=None&amp;ppn=None&amp;ssid=wzznk26q680000001675421329815&amp;qH=312f91285e048e09\" rel=\"noopener noreferrer\" target=\"_blank\"><div class=\"MIXNux\"><div class=\"_2QcLo-\"><div><div class=\"CXW8mj\" style=\"height:200px;width:200px\"><img alt=\"Infinix INBook X1 Core i5 10th Gen - (8 GB/512 GB SSD/Windows 11 Home) XL11 Thin and Light Laptop\" class=\"_396cs4\" loading=\"eager\" src=\"https://rukminim1.flixcart.com/image/312/312/kw104nk0/computer/z/7/t/inbook-x1-pro-thin-and-light-laptop-infinix-original-imag8shw6pfzuc4e.jpeg?q=70\"/></div></div></div><div class=\"_3wLduG\"><div class=\"_3PzNI-\"><span class=\"f3A4_V\"><label class=\"_2iDkf8\"><input class=\"_30VH1S\" readonly=\"\" type=\"checkbox\"/><div class=\"_24_Dny\"></div></label></span><label class=\"_6Up2sF\"><span>Add to Compare</span></label></div></div><div class=\"_2hVSre _3nq8ih\"><div class=\"_36FSn5\"><svg class=\"_1l0elc\" height=\"16\" viewBox=\"0 0 20 16\" width=\"16\" xmlns=\"http://www.w3.org/2000/svg\"><path class=\"eX72wL\" d=\"M8.695 16.682C4.06 12.382 1 9.536 1 6.065 1 3.219 3.178 1 5.95 1c1.566 0 3.069.746 4.05 1.915C10.981 1.745 12.484 1 14.05 1 16.822 1 19 3.22 19 6.065c0 3.471-3.06 6.316-7.695 10.617L10 17.897l-1.305-1.215z\" fill=\"#2874F0\" fill-rule=\"evenodd\" opacity=\".9\" stroke=\"#FFF\"></path></svg></div></div></div><div class=\"_3pLy-c row\"><div class=\"col col-7-12\"><div class=\"_4rR01T\">Infinix INBook X1 Core i5 10th Gen - (8 GB/512 GB SSD/Windows 11 Home) XL11 Thin and Light Laptop</div><div class=\"gUuXy-\"><span class=\"_1lRcqv\" id=\"productRating_LSTCOMG8Z3HUV4BCBPUIDPMBF_COMG8Z3HUV4BCBPU_\"><div class=\"_3LWZlK\">4.1<img class=\"_1wB99o\" src=\"data:image/svg+xml;base64,PHN2ZyB4bWxucz0iaHR0cDovL3d3dy53My5vcmcvMjAwMC9zdmciIHdpZHRoPSIxMyIgaGVpZ2h0PSIxMiI+PHBhdGggZmlsbD0iI0ZGRiIgZD0iTTYuNSA5LjQzOWwtMy42NzQgMi4yMy45NC00LjI2LTMuMjEtMi44ODMgNC4yNTQtLjQwNEw2LjUuMTEybDEuNjkgNC4wMSA0LjI1NC40MDQtMy4yMSAyLjg4Mi45NCA0LjI2eiIvPjwvc3ZnPg==\"/></div></span><span class=\"_2_R_DZ\"><span><span>1,686 Ratings </span><span class=\"_13vcmD\">&amp;</span><span> 261 Reviews</span></span></span></div><div class=\"fMghEO\"><ul class=\"_1xgFaf\"><li class=\"rgWa7D\">Intel Core i5 Processor (10th Gen)</li><li class=\"rgWa7D\">8 GB LPDDR4X RAM</li><li class=\"rgWa7D\">64 bit Windows 11 Operating System</li><li class=\"rgWa7D\">512 GB SSD</li><li class=\"rgWa7D\">35.56 cm (14 inch) Display</li><li class=\"rgWa7D\">1 year Onsite Warranty</li></ul></div></div><div class=\"col col-5-12 nlI3QM\"><div class=\"_3tbKJL\"><div class=\"_25b18c\"><div class=\"_30jeq3 _1_WHN1\">₹47,999</div><div class=\"_3I9_wc _27UcVY\">₹<!-- -->59,999</div><div class=\"_3Ay6Sb\"><span>20% off</span></div></div><div class=\"_3tcB5a p8ucoS\"><div><div class=\"_2Tpdn3\" style=\"color:#000000;font-size:12px;font-weight:400\">Free delivery</div></div></div></div><div class=\"_13J9qT\"><img height=\"21\" src=\"//static-assets-web.flixcart.com/fk-p-linchpin-web/fk-cp-zion/img/fa_62673a.png\"/></div><div class=\"_2ZdXDB\"><div class=\"_3xFhiH\"><div class=\"_2Tpdn3 _18hQoS\" style=\"color:#000000;font-size:14px;font-style:normal;font-weight:400\">Upto </div><div class=\"_2Tpdn3 _18hQoS\" style=\"color:#000000;font-size:14px;font-style:normal;font-weight:700\">₹11,900</div><div class=\"_2Tpdn3 _18hQoS\" style=\"color:#000000;font-size:14px;font-style:normal;font-weight:400\"> Off on Exchange</div></div></div><div class=\"_2ZdXDB\"><div class=\"_3xFhiH\"><div class=\"_2Tpdn3 _18hQoS\" style=\"color:#000000;font-size:12px;font-weight:400\">No Cost EMI from ₹8,000/month</div></div></div></div></div></a></div></div></div></div><div class=\"_1AtVbE col-12-12\"><div class=\"_13oc-S\"><div data-id=\"COMGH53NQJHWAYP7\" style=\"width:100%\"><div class=\"_2kHMtA\"><a class=\"_1fQZEK\" href=\"/dell-vostro-core-i3-11th-gen-8-gb-1-tb-hdd-256-gb-ssd-windows-11-home-3510-thin-light-laptop/p/itm94af7689e9e9a?pid=COMGH53NQJHWAYP7&amp;lid=LSTCOMGH53NQJHWAYP7R1RMWX&amp;marketplace=FLIPKART&amp;q=laptop&amp;store=6bo%2Fb5g&amp;srno=s_1_13&amp;otracker=AS_QueryStore_OrganicAutoSuggest_1_3_na_na_na&amp;otracker1=AS_QueryStore_OrganicAutoSuggest_1_3_na_na_na&amp;fm=organic&amp;iid=bfc95ac7-7e52-44aa-8ab5-13cfc0c899e6.COMGH53NQJHWAYP7.SEARCH&amp;ppt=None&amp;ppn=None&amp;ssid=wzznk26q680000001675421329815&amp;qH=312f91285e048e09\" rel=\"noopener noreferrer\" target=\"_blank\"><div class=\"MIXNux\"><div class=\"_2QcLo-\"><div><div class=\"CXW8mj\" style=\"height:200px;width:200px\"><img alt=\"DELL Vostro Core i3 11th Gen - (8 GB/1 TB HDD/256 GB SSD/Windows 11 Home) Vostro 3510 Thin and Light L...\" class=\"_396cs4\" loading=\"eager\" src=\"https://rukminim1.flixcart.com/image/312/312/xif0q/computer/x/o/u/-original-imaghkk994ybh4fh.jpeg?q=70\"/></div></div></div><div class=\"_3wLduG\"><div class=\"_3PzNI-\"><span class=\"f3A4_V\"><label class=\"_2iDkf8\"><input class=\"_30VH1S\" readonly=\"\" type=\"checkbox\"/><div class=\"_24_Dny\"></div></label></span><label class=\"_6Up2sF\"><span>Add to Compare</span></label></div></div><div class=\"_2hVSre _3nq8ih\"><div class=\"_36FSn5\"><svg class=\"_1l0elc\" height=\"16\" viewBox=\"0 0 20 16\" width=\"16\" xmlns=\"http://www.w3.org/2000/svg\"><path class=\"eX72wL\" d=\"M8.695 16.682C4.06 12.382 1 9.536 1 6.065 1 3.219 3.178 1 5.95 1c1.566 0 3.069.746 4.05 1.915C10.981 1.745 12.484 1 14.05 1 16.822 1 19 3.22 19 6.065c0 3.471-3.06 6.316-7.695 10.617L10 17.897l-1.305-1.215z\" fill=\"#2874F0\" fill-rule=\"evenodd\" opacity=\".9\" stroke=\"#FFF\"></path></svg></div></div></div><div class=\"_3pLy-c row\"><div class=\"col col-7-12\"><div class=\"_4rR01T\">DELL Vostro Core i3 11th Gen - (8 GB/1 TB HDD/256 GB SSD/Windows 11 Home) Vostro 3510 Thin and Light L...</div><div class=\"gUuXy-\"><span class=\"_1lRcqv\" id=\"productRating_LSTCOMGH53NQJHWAYP7R1RMWX_COMGH53NQJHWAYP7_\"><div class=\"_3LWZlK\">4.1<img class=\"_1wB99o\" src=\"data:image/svg+xml;base64,PHN2ZyB4bWxucz0iaHR0cDovL3d3dy53My5vcmcvMjAwMC9zdmciIHdpZHRoPSIxMyIgaGVpZ2h0PSIxMiI+PHBhdGggZmlsbD0iI0ZGRiIgZD0iTTYuNSA5LjQzOWwtMy42NzQgMi4yMy45NC00LjI2LTMuMjEtMi44ODMgNC4yNTQtLjQwNEw2LjUuMTEybDEuNjkgNC4wMSA0LjI1NC40MDQtMy4yMSAyLjg4Mi45NCA0LjI2eiIvPjwvc3ZnPg==\"/></div></span><span class=\"_2_R_DZ\"><span><span>39 Ratings </span><span class=\"_13vcmD\">&amp;</span><span> 1 Reviews</span></span></span></div><div class=\"fMghEO\"><ul class=\"_1xgFaf\"><li class=\"rgWa7D\">Processor: Intel i3-1115G4 (Base- 1.7 GHz &amp; Turbo up to 4.10 GHz) 2 Cores</li><li class=\"rgWa7D\">RAM &amp; Storage: 8GB DDR4 &amp; 1TB HDD + 256GB SSD</li><li class=\"rgWa7D\">Graphics &amp; Keyboard: Integrated &amp; Standard Keyboard</li><li class=\"rgWa7D\">Display: 15.6\" FHD WVA AG Narrow Border</li><li class=\"rgWa7D\">Intel Core i3 Processor (11th Gen)</li><li class=\"rgWa7D\">8 GB DDR4 RAM</li><li class=\"rgWa7D\">Windows 11 Operating System</li><li class=\"rgWa7D\">1 TB HDD|256 GB SSD</li><li class=\"rgWa7D\">39.62 cm (15.6 Inch) Display</li><li class=\"rgWa7D\">1 Year Onsite Hardware Service</li></ul></div></div><div class=\"col col-5-12 nlI3QM\"><div class=\"_3tbKJL\"><div class=\"_25b18c\"><div class=\"_30jeq3 _1_WHN1\">₹37,990</div><div class=\"_3I9_wc _27UcVY\">₹<!-- -->58,489</div><div class=\"_3Ay6Sb\"><span>35% off</span></div></div><div class=\"_3tcB5a p8ucoS\"><div><div class=\"_2Tpdn3\" style=\"color:#000000;font-size:12px;font-weight:400\">Free delivery</div></div></div></div><div class=\"_13J9qT\"><img height=\"21\" src=\"//static-assets-web.flixcart.com/fk-p-linchpin-web/fk-cp-zion/img/fa_62673a.png\"/></div><div class=\"_2ZdXDB\"><div class=\"_3xFhiH\"><div class=\"_2Tpdn3 _18hQoS\" style=\"color:#000000;font-size:14px;font-style:normal;font-weight:400\">Upto </div><div class=\"_2Tpdn3 _18hQoS\" style=\"color:#000000;font-size:14px;font-style:normal;font-weight:700\">₹11,900</div><div class=\"_2Tpdn3 _18hQoS\" style=\"color:#000000;font-size:14px;font-style:normal;font-weight:400\"> Off on Exchange</div></div></div><div class=\"_2ZdXDB\"><div class=\"_3xFhiH\"><div class=\"_2Tpdn3 _18hQoS\" style=\"color:#000000;font-size:12px;font-weight:400\">No Cost EMI from ₹6,332/month</div></div></div></div></div></a></div></div></div></div><div class=\"_1AtVbE col-12-12\"><div class=\"_13oc-S\"><div data-id=\"COMGG3S9ZPRYMXS5\" style=\"width:100%\"><div class=\"_2kHMtA\"><a class=\"_1fQZEK\" href=\"/hp-15s-intel-core-i3-11th-gen-8-gb-512-gb-ssd-windows-11-home-15s-fr2511tu-thin-light-laptop/p/itm89ae6cdc52fdc?pid=COMGG3S9ZPRYMXS5&amp;lid=LSTCOMGG3S9ZPRYMXS568APNP&amp;marketplace=FLIPKART&amp;q=laptop&amp;store=6bo%2Fb5g&amp;srno=s_1_14&amp;otracker=AS_QueryStore_OrganicAutoSuggest_1_3_na_na_na&amp;otracker1=AS_QueryStore_OrganicAutoSuggest_1_3_na_na_na&amp;fm=organic&amp;iid=bfc95ac7-7e52-44aa-8ab5-13cfc0c899e6.COMGG3S9ZPRYMXS5.SEARCH&amp;ppt=None&amp;ppn=None&amp;ssid=wzznk26q680000001675421329815&amp;qH=312f91285e048e09\" rel=\"noopener noreferrer\" target=\"_blank\"><div class=\"MIXNux\"><div class=\"_2QcLo-\"><div><div class=\"CXW8mj\" style=\"height:200px;width:200px\"><img alt=\"HP 15s Intel Core i3 11th Gen - (8 GB/512 GB SSD/Windows 11 Home) 15s-fr2511TU Thin and Light Laptop\" class=\"_396cs4\" loading=\"eager\" src=\"https://rukminim1.flixcart.com/image/312/312/l5h2xe80/computer/e/i/d/15s-fr2511tu-thin-and-light-laptop-hp-original-imagg59a7s5kymvy.jpeg?q=70\"/></div></div></div><div class=\"_3wLduG\"><div class=\"_3PzNI-\"><span class=\"f3A4_V\"><label class=\"_2iDkf8\"><input class=\"_30VH1S\" readonly=\"\" type=\"checkbox\"/><div class=\"_24_Dny\"></div></label></span><label class=\"_6Up2sF\"><span>Add to Compare</span></label></div></div><div class=\"_2hVSre _3nq8ih\"><div class=\"_36FSn5\"><svg class=\"_1l0elc\" height=\"16\" viewBox=\"0 0 20 16\" width=\"16\" xmlns=\"http://www.w3.org/2000/svg\"><path class=\"eX72wL\" d=\"M8.695 16.682C4.06 12.382 1 9.536 1 6.065 1 3.219 3.178 1 5.95 1c1.566 0 3.069.746 4.05 1.915C10.981 1.745 12.484 1 14.05 1 16.822 1 19 3.22 19 6.065c0 3.471-3.06 6.316-7.695 10.617L10 17.897l-1.305-1.215z\" fill=\"#2874F0\" fill-rule=\"evenodd\" opacity=\".9\" stroke=\"#FFF\"></path></svg></div></div></div><div class=\"_3pLy-c row\"><div class=\"col col-7-12\"><div class=\"_4rR01T\">HP 15s Intel Core i3 11th Gen - (8 GB/512 GB SSD/Windows 11 Home) 15s-fr2511TU Thin and Light Laptop</div><div class=\"gUuXy-\"><span class=\"_1lRcqv\" id=\"productRating_LSTCOMGG3S9ZPRYMXS568APNP_COMGG3S9ZPRYMXS5_\"><div class=\"_3LWZlK\">4.2<img class=\"_1wB99o\" src=\"data:image/svg+xml;base64,PHN2ZyB4bWxucz0iaHR0cDovL3d3dy53My5vcmcvMjAwMC9zdmciIHdpZHRoPSIxMyIgaGVpZ2h0PSIxMiI+PHBhdGggZmlsbD0iI0ZGRiIgZD0iTTYuNSA5LjQzOWwtMy42NzQgMi4yMy45NC00LjI2LTMuMjEtMi44ODMgNC4yNTQtLjQwNEw2LjUuMTEybDEuNjkgNC4wMSA0LjI1NC40MDQtMy4yMSAyLjg4Mi45NCA0LjI2eiIvPjwvc3ZnPg==\"/></div></span><span class=\"_2_R_DZ\"><span><span>328 Ratings </span><span class=\"_13vcmD\">&amp;</span><span> 36 Reviews</span></span></span></div><div class=\"fMghEO\"><ul class=\"_1xgFaf\"><li class=\"rgWa7D\">Intel Core i3 Processor (11th Gen)</li><li class=\"rgWa7D\">8 GB DDR4 RAM</li><li class=\"rgWa7D\">64 bit Windows 11 Operating System</li><li class=\"rgWa7D\">512 GB SSD</li><li class=\"rgWa7D\">39.62 cm (15.6 Inch) Display</li><li class=\"rgWa7D\">Microsoft Office 2021 Home &amp; Student, HP Documentation, HP BIOS recovery, HP Smart</li><li class=\"rgWa7D\">1 Year Onsite Warranty</li></ul></div></div><div class=\"col col-5-12 nlI3QM\"><div class=\"_3tbKJL\"><div class=\"_25b18c\"><div class=\"_30jeq3 _1_WHN1\">₹40,950</div><div class=\"_3I9_wc _27UcVY\">₹<!-- -->50,585</div><div class=\"_3Ay6Sb\"><span>19% off</span></div></div><div class=\"_3tcB5a p8ucoS\"><div><div class=\"_2Tpdn3\" style=\"color:#000000;font-size:12px;font-weight:400\">Free delivery</div></div></div></div><div class=\"_13J9qT\"><img height=\"21\" src=\"//static-assets-web.flixcart.com/fk-p-linchpin-web/fk-cp-zion/img/fa_62673a.png\"/></div><div class=\"_2ZdXDB\"><div class=\"_3xFhiH\"><div class=\"_2Tpdn3 _18hQoS\" style=\"color:#26A541;font-size:14px;font-weight:700\">Bank Offer</div></div></div></div></div></a></div></div></div></div><div class=\"_1AtVbE col-12-12\"><div class=\"_13oc-S\"><div data-id=\"COMGFRHGDB9G3Z9C\" style=\"width:100%\"><div class=\"_2kHMtA\"><a class=\"_1fQZEK\" href=\"/hp-ryzen-5-hexa-core-5500u-16-gb-512-gb-ssd-windows-11-home-15s-eq2182au-thin-light-laptop/p/itm09b322c037285?pid=COMGFRHGDB9G3Z9C&amp;lid=LSTCOMGFRHGDB9G3Z9CBGKRA6&amp;marketplace=FLIPKART&amp;q=laptop&amp;store=6bo%2Fb5g&amp;srno=s_1_15&amp;otracker=AS_QueryStore_OrganicAutoSuggest_1_3_na_na_na&amp;otracker1=AS_QueryStore_OrganicAutoSuggest_1_3_na_na_na&amp;fm=organic&amp;iid=bfc95ac7-7e52-44aa-8ab5-13cfc0c899e6.COMGFRHGDB9G3Z9C.SEARCH&amp;ppt=None&amp;ppn=None&amp;ssid=wzznk26q680000001675421329815&amp;qH=312f91285e048e09\" rel=\"noopener noreferrer\" target=\"_blank\"><div class=\"MIXNux\"><div class=\"_2QcLo-\"><div><div class=\"CXW8mj\" style=\"height:200px;width:200px\"><img alt=\"HP Ryzen 5 Hexa Core 5500U - (16 GB/512 GB SSD/Windows 11 Home) 15s- eq2182AU Thin and Light Laptop\" class=\"_396cs4\" loading=\"eager\" src=\"https://rukminim1.flixcart.com/image/312/312/xif0q/computer/5/6/i/-original-imaggshd5zgfe8ev.jpeg?q=70\"/></div></div></div><div class=\"_3wLduG\"><div class=\"_3PzNI-\"><span class=\"f3A4_V\"><label class=\"_2iDkf8\"><input class=\"_30VH1S\" readonly=\"\" type=\"checkbox\"/><div class=\"_24_Dny\"></div></label></span><label class=\"_6Up2sF\"><span>Add to Compare</span></label></div></div><div class=\"_2hVSre _3nq8ih\"><div class=\"_36FSn5\"><svg class=\"_1l0elc\" height=\"16\" viewBox=\"0 0 20 16\" width=\"16\" xmlns=\"http://www.w3.org/2000/svg\"><path class=\"eX72wL\" d=\"M8.695 16.682C4.06 12.382 1 9.536 1 6.065 1 3.219 3.178 1 5.95 1c1.566 0 3.069.746 4.05 1.915C10.981 1.745 12.484 1 14.05 1 16.822 1 19 3.22 19 6.065c0 3.471-3.06 6.316-7.695 10.617L10 17.897l-1.305-1.215z\" fill=\"#2874F0\" fill-rule=\"evenodd\" opacity=\".9\" stroke=\"#FFF\"></path></svg></div></div></div><div class=\"_3pLy-c row\"><div class=\"col col-7-12\"><div class=\"_4rR01T\">HP Ryzen 5 Hexa Core 5500U - (16 GB/512 GB SSD/Windows 11 Home) 15s- eq2182AU Thin and Light Laptop</div><div class=\"gUuXy-\"><span class=\"_1lRcqv\" id=\"productRating_LSTCOMGFRHGDB9G3Z9CBGKRA6_COMGFRHGDB9G3Z9C_\"><div class=\"_3LWZlK\">4.3<img class=\"_1wB99o\" src=\"data:image/svg+xml;base64,PHN2ZyB4bWxucz0iaHR0cDovL3d3dy53My5vcmcvMjAwMC9zdmciIHdpZHRoPSIxMyIgaGVpZ2h0PSIxMiI+PHBhdGggZmlsbD0iI0ZGRiIgZD0iTTYuNSA5LjQzOWwtMy42NzQgMi4yMy45NC00LjI2LTMuMjEtMi44ODMgNC4yNTQtLjQwNEw2LjUuMTEybDEuNjkgNC4wMSA0LjI1NC40MDQtMy4yMSAyLjg4Mi45NCA0LjI2eiIvPjwvc3ZnPg==\"/></div></span><span class=\"_2_R_DZ\"><span><span>279 Ratings </span><span class=\"_13vcmD\">&amp;</span><span> 32 Reviews</span></span></span></div><div class=\"fMghEO\"><ul class=\"_1xgFaf\"><li class=\"rgWa7D\">AMD Ryzen 5 Hexa Core Processor</li><li class=\"rgWa7D\">16 GB DDR4 RAM</li><li class=\"rgWa7D\">64 bit Windows 11 Operating System</li><li class=\"rgWa7D\">512 GB SSD</li><li class=\"rgWa7D\">39.62 cm (15.6 Inch) Display</li><li class=\"rgWa7D\">Microsoft Office 2021 Home &amp; Student, HP Documentation, HP BIOS recovery, HP Smart</li><li class=\"rgWa7D\">1 Year Onsite Warranty</li></ul></div></div><div class=\"col col-5-12 nlI3QM\"><div class=\"_3tbKJL\"><div class=\"_25b18c\"><div class=\"_30jeq3 _1_WHN1\">₹49,123</div><div class=\"_3I9_wc _27UcVY\">₹<!-- -->59,108</div><div class=\"_3Ay6Sb\"><span>16% off</span></div></div><div class=\"_3tcB5a p8ucoS\"><div><div class=\"_2Tpdn3\" style=\"color:#000000;font-size:12px;font-weight:400\">Free delivery</div></div></div></div><div class=\"_13J9qT\"><img height=\"21\" src=\"//static-assets-web.flixcart.com/fk-p-linchpin-web/fk-cp-zion/img/fa_62673a.png\"/></div><div class=\"_2ZdXDB\"><div class=\"_3xFhiH\"><div class=\"_2Tpdn3 _18hQoS\" style=\"color:#000000;font-size:14px;font-style:normal;font-weight:400\">Upto </div><div class=\"_2Tpdn3 _18hQoS\" style=\"color:#000000;font-size:14px;font-style:normal;font-weight:700\">₹11,900</div><div class=\"_2Tpdn3 _18hQoS\" style=\"color:#000000;font-size:14px;font-style:normal;font-weight:400\"> Off on Exchange</div></div></div><div class=\"_2ZdXDB\"><div class=\"_3xFhiH\"><div class=\"_2Tpdn3 _18hQoS\" style=\"color:#000000;font-size:12px;font-weight:400\">No Cost EMI from ₹8,188/month</div></div></div></div></div></a></div></div></div></div><div class=\"_1AtVbE col-12-12\"><div class=\"_13oc-S\"><div data-id=\"COMG3HHRYHGTFGCF\" style=\"width:100%\"><div class=\"_2kHMtA\"><div class=\"_2tfzpE\"><span>Ad</span></div><a class=\"_1fQZEK\" href=\"/nokia-purebook-s14-core-i5-10th-gen-8-gb-512-gb-ssd-windows-10-home-nki510tl85s-thin-light-laptop/p/itm06dba6873314f?pid=COMG3HHRYHGTFGCF&amp;lid=LSTCOMG3HHRYHGTFGCFJX9NYF&amp;marketplace=FLIPKART&amp;q=laptop&amp;store=6bo%2Fb5g&amp;srno=s_1_16&amp;otracker=AS_QueryStore_OrganicAutoSuggest_1_3_na_na_na&amp;otracker1=AS_QueryStore_OrganicAutoSuggest_1_3_na_na_na&amp;fm=organic&amp;iid=en_BI1GXuq9QzJAriAczOB%2BfGESdIYqETae8SLDsnvN2f19YgpK4ZWRBp1oVffxsmr3u%2BdSM49AjPLduD1gOMKzRw%3D%3D&amp;ppt=None&amp;ppn=None&amp;ssid=wzznk26q680000001675421329815&amp;qH=312f91285e048e09\" rel=\"noopener noreferrer\" target=\"_blank\"><div class=\"MIXNux\"><div class=\"_2QcLo-\"><div><div class=\"CXW8mj\" style=\"height:200px;width:200px\"><img alt=\"Nokia PureBook S14 Core i5 10th Gen - (8 GB/512 GB SSD/Windows 10 Home) NKi510TL85S Thin and Light Lap...\" class=\"_396cs4\" loading=\"eager\" src=\"https://rukminim1.flixcart.com/image/312/312/ktyp8cw0/computer/x/g/d/na-thin-and-light-laptop-nokia-original-imag77fhbjtvgz5y.jpeg?q=70\"/></div></div></div><div class=\"_3wLduG\"><div class=\"_3PzNI-\"><span class=\"f3A4_V\"><label class=\"_2iDkf8\"><input class=\"_30VH1S\" readonly=\"\" type=\"checkbox\"/><div class=\"_24_Dny\"></div></label></span><label class=\"_6Up2sF\"><span>Add to Compare</span></label></div></div><div class=\"_2hVSre _3nq8ih\"><div class=\"_36FSn5\"><svg class=\"_1l0elc\" height=\"16\" viewBox=\"0 0 20 16\" width=\"16\" xmlns=\"http://www.w3.org/2000/svg\"><path class=\"eX72wL\" d=\"M8.695 16.682C4.06 12.382 1 9.536 1 6.065 1 3.219 3.178 1 5.95 1c1.566 0 3.069.746 4.05 1.915C10.981 1.745 12.484 1 14.05 1 16.822 1 19 3.22 19 6.065c0 3.471-3.06 6.316-7.695 10.617L10 17.897l-1.305-1.215z\" fill=\"#2874F0\" fill-rule=\"evenodd\" opacity=\".9\" stroke=\"#FFF\"></path></svg></div></div></div><div class=\"_3pLy-c row\"><div class=\"col col-7-12\"><div class=\"_4rR01T\">Nokia PureBook S14 Core i5 10th Gen - (8 GB/512 GB SSD/Windows 10 Home) NKi510TL85S Thin and Light Lap...</div><div class=\"gUuXy-\"><span class=\"_1lRcqv\" id=\"productRating_LSTCOMG3HHRYHGTFGCFJX9NYF_COMG3HHRYHGTFGCF_\"><div class=\"_3LWZlK\">3.9<img class=\"_1wB99o\" src=\"data:image/svg+xml;base64,PHN2ZyB4bWxucz0iaHR0cDovL3d3dy53My5vcmcvMjAwMC9zdmciIHdpZHRoPSIxMyIgaGVpZ2h0PSIxMiI+PHBhdGggZmlsbD0iI0ZGRiIgZD0iTTYuNSA5LjQzOWwtMy42NzQgMi4yMy45NC00LjI2LTMuMjEtMi44ODMgNC4yNTQtLjQwNEw2LjUuMTEybDEuNjkgNC4wMSA0LjI1NC40MDQtMy4yMSAyLjg4Mi45NCA0LjI2eiIvPjwvc3ZnPg==\"/></div></span><span class=\"_2_R_DZ\"><span><span>460 Ratings </span><span class=\"_13vcmD\">&amp;</span><span> 88 Reviews</span></span></span></div><div class=\"fMghEO\"><ul class=\"_1xgFaf\"><li class=\"rgWa7D\">Intel Core i5 Processor (10th Gen)</li><li class=\"rgWa7D\">8 GB DDR4 RAM</li><li class=\"rgWa7D\">64 bit Windows 10 Operating System</li><li class=\"rgWa7D\">512 GB SSD</li><li class=\"rgWa7D\">35.56 cm (14 inch) Display</li><li class=\"rgWa7D\">1 Year Onsite Warranty Commencing from the Date of Purchase</li></ul></div></div><div class=\"col col-5-12 nlI3QM\"><div class=\"_3tbKJL\"><div class=\"_25b18c\"><div class=\"_30jeq3 _1_WHN1\">₹43,990</div><div class=\"_3I9_wc _27UcVY\">₹<!-- -->74,990</div><div class=\"_3Ay6Sb\"><span>41% off</span></div></div><div class=\"_3tcB5a p8ucoS\"><div><div class=\"_2Tpdn3\" style=\"color:#000000;font-size:12px;font-weight:400\">Free delivery</div></div></div></div><div class=\"_2ZdXDB\"><div class=\"_3xFhiH\"><div class=\"_2Tpdn3 _18hQoS\" style=\"color:#000000;font-size:14px;font-style:normal;font-weight:400\">Upto </div><div class=\"_2Tpdn3 _18hQoS\" style=\"color:#000000;font-size:14px;font-style:normal;font-weight:700\">₹16,900</div><div class=\"_2Tpdn3 _18hQoS\" style=\"color:#000000;font-size:14px;font-style:normal;font-weight:400\"> Off on Exchange</div></div></div><div class=\"_2ZdXDB\"><div class=\"_3xFhiH\"><div class=\"_2Tpdn3 _18hQoS\" style=\"color:#000000;font-size:12px;font-weight:400\">No Cost EMI from ₹7,332/month</div></div></div></div></div></a></div></div></div></div><div class=\"_1AtVbE col-12-12\"><div class=\"_13oc-S\"><div data-id=\"COMGFPH2ZWTDZHK6\" style=\"width:100%\"><div class=\"_2kHMtA\"><a class=\"_1fQZEK\" href=\"/hp-ryzen-3-dual-core-3250u-8-gb-256-gb-ssd-windows-11-home-15s-ey1508au-thin-light-laptop/p/itmec2f587ddbf77?pid=COMGFPH2ZWTDZHK6&amp;lid=LSTCOMGFPH2ZWTDZHK6AAYZPY&amp;marketplace=FLIPKART&amp;q=laptop&amp;store=6bo%2Fb5g&amp;srno=s_1_17&amp;otracker=AS_QueryStore_OrganicAutoSuggest_1_3_na_na_na&amp;otracker1=AS_QueryStore_OrganicAutoSuggest_1_3_na_na_na&amp;fm=organic&amp;iid=bfc95ac7-7e52-44aa-8ab5-13cfc0c899e6.COMGFPH2ZWTDZHK6.SEARCH&amp;ppt=None&amp;ppn=None&amp;ssid=wzznk26q680000001675421329815&amp;qH=312f91285e048e09\" rel=\"noopener noreferrer\" target=\"_blank\"><div class=\"MIXNux\"><div class=\"_2QcLo-\"><div><div class=\"CXW8mj\" style=\"height:200px;width:200px\"><img alt=\"HP Ryzen 3 Dual Core 3250U - (8 GB/256 GB SSD/Windows 11 Home) 15s-ey1508AU Thin and Light Laptop\" class=\"_396cs4\" loading=\"eager\" src=\"https://rukminim1.flixcart.com/image/312/312/xif0q/computer/q/j/c/-original-imagh3wecapg5gqn.jpeg?q=70\"/></div></div></div><div class=\"_3wLduG\"><div class=\"_3PzNI-\"><span class=\"f3A4_V\"><label class=\"_2iDkf8\"><input class=\"_30VH1S\" readonly=\"\" type=\"checkbox\"/><div class=\"_24_Dny\"></div></label></span><label class=\"_6Up2sF\"><span>Add to Compare</span></label></div></div><div class=\"_2hVSre _3nq8ih\"><div class=\"_36FSn5\"><svg class=\"_1l0elc\" height=\"16\" viewBox=\"0 0 20 16\" width=\"16\" xmlns=\"http://www.w3.org/2000/svg\"><path class=\"eX72wL\" d=\"M8.695 16.682C4.06 12.382 1 9.536 1 6.065 1 3.219 3.178 1 5.95 1c1.566 0 3.069.746 4.05 1.915C10.981 1.745 12.484 1 14.05 1 16.822 1 19 3.22 19 6.065c0 3.471-3.06 6.316-7.695 10.617L10 17.897l-1.305-1.215z\" fill=\"#2874F0\" fill-rule=\"evenodd\" opacity=\".9\" stroke=\"#FFF\"></path></svg></div></div></div><div class=\"_3pLy-c row\"><div class=\"col col-7-12\"><div class=\"_4rR01T\">HP Ryzen 3 Dual Core 3250U - (8 GB/256 GB SSD/Windows 11 Home) 15s-ey1508AU Thin and Light Laptop</div><div class=\"gUuXy-\"><span class=\"_1lRcqv\" id=\"productRating_LSTCOMGFPH2ZWTDZHK6AAYZPY_COMGFPH2ZWTDZHK6_\"><div class=\"_3LWZlK\">4.1<img class=\"_1wB99o\" src=\"data:image/svg+xml;base64,PHN2ZyB4bWxucz0iaHR0cDovL3d3dy53My5vcmcvMjAwMC9zdmciIHdpZHRoPSIxMyIgaGVpZ2h0PSIxMiI+PHBhdGggZmlsbD0iI0ZGRiIgZD0iTTYuNSA5LjQzOWwtMy42NzQgMi4yMy45NC00LjI2LTMuMjEtMi44ODMgNC4yNTQtLjQwNEw2LjUuMTEybDEuNjkgNC4wMSA0LjI1NC40MDQtMy4yMSAyLjg4Mi45NCA0LjI2eiIvPjwvc3ZnPg==\"/></div></span><span class=\"_2_R_DZ\"><span><span>1,070 Ratings </span><span class=\"_13vcmD\">&amp;</span><span> 107 Reviews</span></span></span></div><div class=\"fMghEO\"><ul class=\"_1xgFaf\"><li class=\"rgWa7D\">AMD Ryzen 3 Dual Core Processor</li><li class=\"rgWa7D\">8 GB DDR4 RAM</li><li class=\"rgWa7D\">64 bit Windows 11 Operating System</li><li class=\"rgWa7D\">256 GB SSD</li><li class=\"rgWa7D\">39.62 cm (15.6 mm) Display</li><li class=\"rgWa7D\">Microsoft Office 2021 Home and Student, HP Documentation, HP BIOS recovery, HP Smart</li><li class=\"rgWa7D\">1 Year Onsite Warranty</li></ul></div></div><div class=\"col col-5-12 nlI3QM\"><div class=\"_3tbKJL\"><div class=\"_25b18c\"><div class=\"_30jeq3 _1_WHN1\">₹29,990</div><div class=\"_3I9_wc _27UcVY\">₹<!-- -->43,631</div><div class=\"_3Ay6Sb\"><span>31% off</span></div></div><div class=\"_3tcB5a p8ucoS\"><div><div class=\"_2Tpdn3\" style=\"color:#000000;font-size:12px;font-weight:400\">Free delivery</div></div></div></div><div class=\"_13J9qT\"><img height=\"21\" src=\"//static-assets-web.flixcart.com/fk-p-linchpin-web/fk-cp-zion/img/fa_62673a.png\"/></div><div class=\"_2ZdXDB\"><div class=\"_3xFhiH\"><div class=\"_2Tpdn3 _18hQoS\" style=\"color:#26A541;font-size:14px;font-weight:700\">Bank Offer</div></div></div></div></div></a></div></div></div></div><div class=\"_1AtVbE col-12-12\"><div class=\"_13oc-S\"><div data-id=\"COMGGHMQVWN6JJGC\" style=\"width:100%\"><div class=\"_2kHMtA\"><a class=\"_1fQZEK\" href=\"/msi-bravo-15-ryzen-5-hexa-core-amd-r5-5600h-8-gb-512-gb-ssd-windows-11-home-4-graphics-amd-radeon-rx-5500m-144-hz-b5dd-410in-gaming-laptop/p/itm12cedc4da03bc?pid=COMGGHMQVWN6JJGC&amp;lid=LSTCOMGGHMQVWN6JJGCTAUNJV&amp;marketplace=FLIPKART&amp;q=laptop&amp;store=6bo%2Fb5g&amp;srno=s_1_18&amp;otracker=AS_QueryStore_OrganicAutoSuggest_1_3_na_na_na&amp;otracker1=AS_QueryStore_OrganicAutoSuggest_1_3_na_na_na&amp;fm=organic&amp;iid=bfc95ac7-7e52-44aa-8ab5-13cfc0c899e6.COMGGHMQVWN6JJGC.SEARCH&amp;ppt=None&amp;ppn=None&amp;ssid=wzznk26q680000001675421329815&amp;qH=312f91285e048e09\" rel=\"noopener noreferrer\" target=\"_blank\"><div class=\"MIXNux\"><div class=\"_2QcLo-\"><div><div class=\"CXW8mj\" style=\"height:200px;width:200px\"><img alt=\"MSI Bravo 15 Ryzen 5 Hexa Core AMD R5-5600H - (8 GB/512 GB SSD/Windows 11 Home/4 GB Graphics/AMD Radeo...\" class=\"_396cs4\" loading=\"eager\" src=\"https://rukminim1.flixcart.com/image/312/312/xif0q/computer/7/3/l/-original-imagha3pvvc2xuz2.jpeg?q=70\"/></div></div></div><div class=\"_3wLduG\"><div class=\"_3PzNI-\"><span class=\"f3A4_V\"><label class=\"_2iDkf8\"><input class=\"_30VH1S\" readonly=\"\" type=\"checkbox\"/><div class=\"_24_Dny\"></div></label></span><label class=\"_6Up2sF\"><span>Add to Compare</span></label></div></div><div class=\"_2hVSre _3nq8ih\"><div class=\"_36FSn5\"><svg class=\"_1l0elc\" height=\"16\" viewBox=\"0 0 20 16\" width=\"16\" xmlns=\"http://www.w3.org/2000/svg\"><path class=\"eX72wL\" d=\"M8.695 16.682C4.06 12.382 1 9.536 1 6.065 1 3.219 3.178 1 5.95 1c1.566 0 3.069.746 4.05 1.915C10.981 1.745 12.484 1 14.05 1 16.822 1 19 3.22 19 6.065c0 3.471-3.06 6.316-7.695 10.617L10 17.897l-1.305-1.215z\" fill=\"#2874F0\" fill-rule=\"evenodd\" opacity=\".9\" stroke=\"#FFF\"></path></svg></div></div></div><div class=\"_3pLy-c row\"><div class=\"col col-7-12\"><div class=\"_4rR01T\">MSI Bravo 15 Ryzen 5 Hexa Core AMD R5-5600H - (8 GB/512 GB SSD/Windows 11 Home/4 GB Graphics/AMD Radeo...</div><div class=\"gUuXy-\"><span class=\"_1lRcqv\" id=\"productRating_LSTCOMGGHMQVWN6JJGCTAUNJV_COMGGHMQVWN6JJGC_\"><div class=\"_3LWZlK\">4.4<img class=\"_1wB99o\" src=\"data:image/svg+xml;base64,PHN2ZyB4bWxucz0iaHR0cDovL3d3dy53My5vcmcvMjAwMC9zdmciIHdpZHRoPSIxMyIgaGVpZ2h0PSIxMiI+PHBhdGggZmlsbD0iI0ZGRiIgZD0iTTYuNSA5LjQzOWwtMy42NzQgMi4yMy45NC00LjI2LTMuMjEtMi44ODMgNC4yNTQtLjQwNEw2LjUuMTEybDEuNjkgNC4wMSA0LjI1NC40MDQtMy4yMSAyLjg4Mi45NCA0LjI2eiIvPjwvc3ZnPg==\"/></div></span><span class=\"_2_R_DZ\"><span><span>2,126 Ratings </span><span class=\"_13vcmD\">&amp;</span><span> 286 Reviews</span></span></span></div><div class=\"fMghEO\"><ul class=\"_1xgFaf\"><li class=\"rgWa7D\">AMD Ryzen 5 Hexa Core Processor</li><li class=\"rgWa7D\">8 GB DDR4 RAM</li><li class=\"rgWa7D\">64 bit Windows 11 Operating System</li><li class=\"rgWa7D\">512 GB SSD</li><li class=\"rgWa7D\">39.62 cm (15.6 inch) Display</li><li class=\"rgWa7D\">1 Year Warranty</li></ul></div></div><div class=\"col col-5-12 nlI3QM\"><div class=\"_3tbKJL\"><div class=\"_25b18c\"><div class=\"_30jeq3 _1_WHN1\">₹49,990</div><div class=\"_3I9_wc _27UcVY\">₹<!-- -->72,990</div><div class=\"_3Ay6Sb\"><span>31% off</span></div></div><div class=\"_3tcB5a p8ucoS\"><div><div class=\"_2Tpdn3\" style=\"color:#000000;font-size:12px;font-weight:400\">Free delivery</div></div></div></div><div class=\"_13J9qT\"><img height=\"21\" src=\"//static-assets-web.flixcart.com/fk-p-linchpin-web/fk-cp-zion/img/fa_62673a.png\"/></div><div class=\"_2ZdXDB\"><div class=\"_3xFhiH\"><div class=\"_2Tpdn3 _18hQoS\" style=\"color:#000000;font-size:14px;font-style:normal;font-weight:400\">Upto </div><div class=\"_2Tpdn3 _18hQoS\" style=\"color:#000000;font-size:14px;font-style:normal;font-weight:700\">₹11,900</div><div class=\"_2Tpdn3 _18hQoS\" style=\"color:#000000;font-size:14px;font-style:normal;font-weight:400\"> Off on Exchange</div></div></div><div class=\"_2ZdXDB\"><div class=\"_3xFhiH\"><div class=\"_2Tpdn3 _18hQoS\" style=\"color:#000000;font-size:12px;font-weight:400\">No Cost EMI from ₹8,332/month</div></div></div></div></div></a></div></div></div></div><div class=\"_1AtVbE col-12-12\"><div class=\"_13oc-S\"><div data-id=\"COMGH53NVZHQSSNW\" style=\"width:100%\"><div class=\"_2kHMtA\"><a class=\"_1fQZEK\" href=\"/dell-vostro-pentium-gold-8-gb-256-gb-ssd-windows-11-home-3510-thin-light-laptop/p/itmf6455be96164a?pid=COMGH53NVZHQSSNW&amp;lid=LSTCOMGH53NVZHQSSNWRJA7VU&amp;marketplace=FLIPKART&amp;q=laptop&amp;store=6bo%2Fb5g&amp;srno=s_1_19&amp;otracker=AS_QueryStore_OrganicAutoSuggest_1_3_na_na_na&amp;otracker1=AS_QueryStore_OrganicAutoSuggest_1_3_na_na_na&amp;fm=organic&amp;iid=bfc95ac7-7e52-44aa-8ab5-13cfc0c899e6.COMGH53NVZHQSSNW.SEARCH&amp;ppt=None&amp;ppn=None&amp;ssid=wzznk26q680000001675421329815&amp;qH=312f91285e048e09\" rel=\"noopener noreferrer\" target=\"_blank\"><div class=\"MIXNux\"><div class=\"_2QcLo-\"><div><div class=\"CXW8mj\" style=\"height:200px;width:200px\"><img alt=\"DELL Vostro Pentium Gold - (8 GB/256 GB SSD/Windows 11 Home) Vostro 3510 Thin and Light Laptop\" class=\"_396cs4\" loading=\"eager\" src=\"https://rukminim1.flixcart.com/image/312/312/xif0q/computer/x/o/u/-original-imaghkk994ybh4fh.jpeg?q=70\"/></div></div></div><div class=\"_3wLduG\"><div class=\"_3PzNI-\"><span class=\"f3A4_V\"><label class=\"_2iDkf8\"><input class=\"_30VH1S\" readonly=\"\" type=\"checkbox\"/><div class=\"_24_Dny\"></div></label></span><label class=\"_6Up2sF\"><span>Add to Compare</span></label></div></div><div class=\"_2hVSre _3nq8ih\"><div class=\"_36FSn5\"><svg class=\"_1l0elc\" height=\"16\" viewBox=\"0 0 20 16\" width=\"16\" xmlns=\"http://www.w3.org/2000/svg\"><path class=\"eX72wL\" d=\"M8.695 16.682C4.06 12.382 1 9.536 1 6.065 1 3.219 3.178 1 5.95 1c1.566 0 3.069.746 4.05 1.915C10.981 1.745 12.484 1 14.05 1 16.822 1 19 3.22 19 6.065c0 3.471-3.06 6.316-7.695 10.617L10 17.897l-1.305-1.215z\" fill=\"#2874F0\" fill-rule=\"evenodd\" opacity=\".9\" stroke=\"#FFF\"></path></svg></div></div></div><div class=\"_3pLy-c row\"><div class=\"col col-7-12\"><div class=\"_4rR01T\">DELL Vostro Pentium Gold - (8 GB/256 GB SSD/Windows 11 Home) Vostro 3510 Thin and Light Laptop</div><div class=\"gUuXy-\"><span class=\"_1lRcqv\" id=\"productRating_LSTCOMGH53NVZHQSSNWRJA7VU_COMGH53NVZHQSSNW_\"><div class=\"_3LWZlK\">4.7<img class=\"_1wB99o\" src=\"data:image/svg+xml;base64,PHN2ZyB4bWxucz0iaHR0cDovL3d3dy53My5vcmcvMjAwMC9zdmciIHdpZHRoPSIxMyIgaGVpZ2h0PSIxMiI+PHBhdGggZmlsbD0iI0ZGRiIgZD0iTTYuNSA5LjQzOWwtMy42NzQgMi4yMy45NC00LjI2LTMuMjEtMi44ODMgNC4yNTQtLjQwNEw2LjUuMTEybDEuNjkgNC4wMSA0LjI1NC40MDQtMy4yMSAyLjg4Mi45NCA0LjI2eiIvPjwvc3ZnPg==\"/></div></span><span class=\"_2_R_DZ\"><span><span>15 Ratings </span><span class=\"_13vcmD\">&amp;</span><span> 1 Reviews</span></span></span></div><div class=\"fMghEO\"><ul class=\"_1xgFaf\"><li class=\"rgWa7D\">Intel Pentium Gold Processor</li><li class=\"rgWa7D\">8 GB DDR4 RAM</li><li class=\"rgWa7D\">Windows 11 Operating System</li><li class=\"rgWa7D\">256 GB SSD</li><li class=\"rgWa7D\">39.62 cm (15.6 Inch) Display</li><li class=\"rgWa7D\">1 Year Onsite Hardware Service</li></ul></div></div><div class=\"col col-5-12 nlI3QM\"><div class=\"_3tbKJL\"><div class=\"_25b18c\"><div class=\"_30jeq3 _1_WHN1\">₹54,392</div></div><div class=\"_3tcB5a p8ucoS\"><div><div class=\"_2Tpdn3\" style=\"color:#000000;font-size:12px;font-weight:400\">Free delivery</div></div></div></div><div class=\"_13J9qT\"><img height=\"21\" src=\"//static-assets-web.flixcart.com/fk-p-linchpin-web/fk-cp-zion/img/fa_62673a.png\"/></div><div class=\"_2ZdXDB\"><div class=\"_3xFhiH\"><div class=\"_2Tpdn3 _18hQoS\" style=\"color:#000000;font-size:14px;font-style:normal;font-weight:400\">Upto </div><div class=\"_2Tpdn3 _18hQoS\" style=\"color:#000000;font-size:14px;font-style:normal;font-weight:700\">₹11,900</div><div class=\"_2Tpdn3 _18hQoS\" style=\"color:#000000;font-size:14px;font-style:normal;font-weight:400\"> Off on Exchange</div></div></div><div class=\"_2ZdXDB\"><div class=\"_3xFhiH\"><div class=\"_2Tpdn3 _18hQoS\" style=\"color:#000000;font-size:12px;font-weight:400\">No Cost EMI from ₹18,131/month</div></div></div></div></div></a></div></div></div></div><div class=\"_1AtVbE col-12-12\"><div class=\"_13oc-S\"><div data-id=\"COMG9NYDYHCDP8AC\" style=\"width:100%\"><div class=\"_2kHMtA\"><div class=\"_2tfzpE\"><span>Ad</span></div><a class=\"_1fQZEK\" href=\"/dell-inspiron-core-i5-11th-gen-16-gb-512-gb-ssd-windows-11-home-5418-thin-light-laptop/p/itm239809dcd77fe?pid=COMG9NYDYHCDP8AC&amp;lid=LSTCOMG9NYDYHCDP8ACODKXSC&amp;marketplace=FLIPKART&amp;q=laptop&amp;store=6bo%2Fb5g&amp;srno=s_1_20&amp;otracker=AS_QueryStore_OrganicAutoSuggest_1_3_na_na_na&amp;otracker1=AS_QueryStore_OrganicAutoSuggest_1_3_na_na_na&amp;fm=organic&amp;iid=en_BI1GXuq9QzJAriAczOB%2BfGESdIYqETae8SLDsnvN2f2vr194Cba6fhadlH76khn%2FrygIDHpRHdkUdBaJY3Bouw%3D%3D&amp;ppt=None&amp;ppn=None&amp;ssid=wzznk26q680000001675421329815&amp;qH=312f91285e048e09\" rel=\"noopener noreferrer\" target=\"_blank\"><div class=\"MIXNux\"><div class=\"_2QcLo-\"><div><div class=\"CXW8mj\" style=\"height:200px;width:200px\"><img alt=\"DELL Inspiron Core i5 11th Gen - (16 GB/512 GB SSD/Windows 11 Home) Inspiron 5418 Thin and Light Lapto...\" class=\"_396cs4\" loading=\"eager\" src=\"https://rukminim1.flixcart.com/image/312/312/l44hyfk0/computer/p/f/p/-original-imagf35eyhdzxhgr.jpeg?q=70\"/></div></div></div><div class=\"_3wLduG\"><div class=\"_3PzNI-\"><span class=\"f3A4_V\"><label class=\"_2iDkf8\"><input class=\"_30VH1S\" readonly=\"\" type=\"checkbox\"/><div class=\"_24_Dny\"></div></label></span><label class=\"_6Up2sF\"><span>Add to Compare</span></label></div></div><div class=\"_2hVSre _3nq8ih\"><div class=\"_36FSn5\"><svg class=\"_1l0elc\" height=\"16\" viewBox=\"0 0 20 16\" width=\"16\" xmlns=\"http://www.w3.org/2000/svg\"><path class=\"eX72wL\" d=\"M8.695 16.682C4.06 12.382 1 9.536 1 6.065 1 3.219 3.178 1 5.95 1c1.566 0 3.069.746 4.05 1.915C10.981 1.745 12.484 1 14.05 1 16.822 1 19 3.22 19 6.065c0 3.471-3.06 6.316-7.695 10.617L10 17.897l-1.305-1.215z\" fill=\"#2874F0\" fill-rule=\"evenodd\" opacity=\".9\" stroke=\"#FFF\"></path></svg></div></div></div><div class=\"_3pLy-c row\"><div class=\"col col-7-12\"><div class=\"_4rR01T\">DELL Inspiron Core i5 11th Gen - (16 GB/512 GB SSD/Windows 11 Home) Inspiron 5418 Thin and Light Lapto...</div><div class=\"gUuXy-\"><span class=\"_1lRcqv\" id=\"productRating_LSTCOMG9NYDYHCDP8ACODKXSC_COMG9NYDYHCDP8AC_\"><div class=\"_3LWZlK\">3.9<img class=\"_1wB99o\" src=\"data:image/svg+xml;base64,PHN2ZyB4bWxucz0iaHR0cDovL3d3dy53My5vcmcvMjAwMC9zdmciIHdpZHRoPSIxMyIgaGVpZ2h0PSIxMiI+PHBhdGggZmlsbD0iI0ZGRiIgZD0iTTYuNSA5LjQzOWwtMy42NzQgMi4yMy45NC00LjI2LTMuMjEtMi44ODMgNC4yNTQtLjQwNEw2LjUuMTEybDEuNjkgNC4wMSA0LjI1NC40MDQtMy4yMSAyLjg4Mi45NCA0LjI2eiIvPjwvc3ZnPg==\"/></div></span><span class=\"_2_R_DZ\"><span><span>22 Ratings </span><span class=\"_13vcmD\">&amp;</span><span> 2 Reviews</span></span></span></div><div class=\"fMghEO\"><ul class=\"_1xgFaf\"><li class=\"rgWa7D\">Intel Core i5 Processor (11th Gen)</li><li class=\"rgWa7D\">16 GB DDR4 RAM</li><li class=\"rgWa7D\">64 bit Windows 11 Operating System</li><li class=\"rgWa7D\">512 GB SSD</li><li class=\"rgWa7D\">35.56 cm (14 inch) Display</li><li class=\"rgWa7D\">Microsoft Office Home and Student 2021</li><li class=\"rgWa7D\">1 Year Onsite Warranty</li></ul></div></div><div class=\"col col-5-12 nlI3QM\"><div class=\"_3tbKJL\"><div class=\"_25b18c\"><div class=\"_30jeq3 _1_WHN1\">₹71,900</div><div class=\"_3I9_wc _27UcVY\">₹<!-- -->93,134</div><div class=\"_3Ay6Sb\"><span>22% off</span></div></div><div class=\"_3tcB5a p8ucoS\"><div><div class=\"_2Tpdn3\" style=\"color:#000000;font-size:12px;font-weight:400\">Free delivery</div></div></div></div><div class=\"_13J9qT\"><img height=\"21\" src=\"//static-assets-web.flixcart.com/fk-p-linchpin-web/fk-cp-zion/img/fa_62673a.png\"/></div><div class=\"_2ZdXDB\"><div class=\"_3xFhiH\"><div class=\"_2Tpdn3 _18hQoS\" style=\"color:#26A541;font-size:14px;font-weight:700\">Bank Offer</div></div></div></div></div></a></div></div></div></div><div class=\"_1AtVbE col-12-12\"><div class=\"_13oc-S\"><div data-id=\"COMG4Z359A4Z3MFG\" style=\"width:100%\"><div class=\"_2kHMtA\"><a class=\"_1fQZEK\" href=\"/redmibook-pro-core-i5-11th-gen-8-gb-512-gb-ssd-windows-11-home-thin-light-laptop/p/itm436427e982703?pid=COMG4Z359A4Z3MFG&amp;lid=LSTCOMG4Z359A4Z3MFGOJQLGB&amp;marketplace=FLIPKART&amp;q=laptop&amp;store=6bo%2Fb5g&amp;srno=s_1_21&amp;otracker=AS_QueryStore_OrganicAutoSuggest_1_3_na_na_na&amp;otracker1=AS_QueryStore_OrganicAutoSuggest_1_3_na_na_na&amp;fm=organic&amp;iid=bfc95ac7-7e52-44aa-8ab5-13cfc0c899e6.COMG4Z359A4Z3MFG.SEARCH&amp;ppt=None&amp;ppn=None&amp;ssid=wzznk26q680000001675421329815&amp;qH=312f91285e048e09\" rel=\"noopener noreferrer\" target=\"_blank\"><div class=\"MIXNux\"><div class=\"_2QcLo-\"><div><div class=\"CXW8mj\" style=\"height:200px;width:200px\"><img alt=\"RedmiBook Pro Core i5 11th Gen - (8 GB/512 GB SSD/Windows 11 Home) Thin and Light Laptop\" class=\"_396cs4\" loading=\"eager\" src=\"https://rukminim1.flixcart.com/image/312/312/kuwzssw0/computer/x/l/a/redmibook-15-pro-thin-and-light-laptop-redmi-original-imag7xhnakyazyma.jpeg?q=70\"/></div></div></div><div class=\"_3wLduG\"><div class=\"_3PzNI-\"><span class=\"f3A4_V\"><label class=\"_2iDkf8\"><input class=\"_30VH1S\" readonly=\"\" type=\"checkbox\"/><div class=\"_24_Dny\"></div></label></span><label class=\"_6Up2sF\"><span>Add to Compare</span></label></div></div><div class=\"_2hVSre _3nq8ih\"><div class=\"_36FSn5\"><svg class=\"_1l0elc\" height=\"16\" viewBox=\"0 0 20 16\" width=\"16\" xmlns=\"http://www.w3.org/2000/svg\"><path class=\"eX72wL\" d=\"M8.695 16.682C4.06 12.382 1 9.536 1 6.065 1 3.219 3.178 1 5.95 1c1.566 0 3.069.746 4.05 1.915C10.981 1.745 12.484 1 14.05 1 16.822 1 19 3.22 19 6.065c0 3.471-3.06 6.316-7.695 10.617L10 17.897l-1.305-1.215z\" fill=\"#2874F0\" fill-rule=\"evenodd\" opacity=\".9\" stroke=\"#FFF\"></path></svg></div></div></div><div class=\"_3pLy-c row\"><div class=\"col col-7-12\"><div class=\"_4rR01T\">RedmiBook Pro Core i5 11th Gen - (8 GB/512 GB SSD/Windows 11 Home) Thin and Light Laptop</div><div class=\"gUuXy-\"><span class=\"_1lRcqv\" id=\"productRating_LSTCOMG4Z359A4Z3MFGOJQLGB_COMG4Z359A4Z3MFG_\"><div class=\"_3LWZlK\">4.1<img class=\"_1wB99o\" src=\"data:image/svg+xml;base64,PHN2ZyB4bWxucz0iaHR0cDovL3d3dy53My5vcmcvMjAwMC9zdmciIHdpZHRoPSIxMyIgaGVpZ2h0PSIxMiI+PHBhdGggZmlsbD0iI0ZGRiIgZD0iTTYuNSA5LjQzOWwtMy42NzQgMi4yMy45NC00LjI2LTMuMjEtMi44ODMgNC4yNTQtLjQwNEw2LjUuMTEybDEuNjkgNC4wMSA0LjI1NC40MDQtMy4yMSAyLjg4Mi45NCA0LjI2eiIvPjwvc3ZnPg==\"/></div></span><span class=\"_2_R_DZ\"><span><span>3,663 Ratings </span><span class=\"_13vcmD\">&amp;</span><span> 431 Reviews</span></span></span></div><div class=\"fMghEO\"><ul class=\"_1xgFaf\"><li class=\"rgWa7D\">Intel Core i5 Processor (11th Gen)</li><li class=\"rgWa7D\">8 GB DDR4 RAM</li><li class=\"rgWa7D\">Windows 11 Operating System</li><li class=\"rgWa7D\">512 GB SSD</li><li class=\"rgWa7D\">39.62 cm (15.6 inch) Display</li><li class=\"rgWa7D\">MS Office Home &amp; Student 2019, Mi Smart Share, DTS Audio processing</li><li class=\"rgWa7D\">1 Year Onsite Warranty</li></ul></div></div><div class=\"col col-5-12 nlI3QM\"><div class=\"_3tbKJL\"><div class=\"_25b18c\"><div class=\"_30jeq3 _1_WHN1\">₹39,990</div><div class=\"_3I9_wc _27UcVY\">₹<!-- -->59,999</div><div class=\"_3Ay6Sb\"><span>33% off</span></div></div><div class=\"_3tcB5a p8ucoS\"><div><div class=\"_2Tpdn3\" style=\"color:#000000;font-size:12px;font-weight:400\">Free delivery</div></div></div></div><div class=\"_13J9qT\"><img height=\"21\" src=\"//static-assets-web.flixcart.com/fk-p-linchpin-web/fk-cp-zion/img/fa_62673a.png\"/></div><div class=\"_2ZdXDB\"><div class=\"_3xFhiH\"><div class=\"_2Tpdn3 _18hQoS\" style=\"color:#000000;font-size:14px;font-style:normal;font-weight:400\">Upto </div><div class=\"_2Tpdn3 _18hQoS\" style=\"color:#000000;font-size:14px;font-style:normal;font-weight:700\">₹11,900</div><div class=\"_2Tpdn3 _18hQoS\" style=\"color:#000000;font-size:14px;font-style:normal;font-weight:400\"> Off on Exchange</div></div></div><div class=\"_2ZdXDB\"><div class=\"_3xFhiH\"><div class=\"_2Tpdn3 _18hQoS\" style=\"color:#000000;font-size:12px;font-weight:400\">No Cost EMI from ₹6,665/month</div></div></div></div></div></a></div></div></div></div><div class=\"_1AtVbE col-12-12\"><div class=\"_13oc-S\"><div data-id=\"COMGKYGDRXDDZBFG\" style=\"width:100%\"><div class=\"_2kHMtA\"><a class=\"_1fQZEK\" href=\"/lenovo-athlon-dual-core-3150u-4-gb-1-tb-hdd-dos-e41-55-thin-light-laptop/p/itm5334064adc93e?pid=COMGKYGDRXDDZBFG&amp;lid=LSTCOMGKYGDRXDDZBFGBAEAXI&amp;marketplace=FLIPKART&amp;q=laptop&amp;store=6bo%2Fb5g&amp;srno=s_1_22&amp;otracker=AS_QueryStore_OrganicAutoSuggest_1_3_na_na_na&amp;otracker1=AS_QueryStore_OrganicAutoSuggest_1_3_na_na_na&amp;fm=organic&amp;iid=bfc95ac7-7e52-44aa-8ab5-13cfc0c899e6.COMGKYGDRXDDZBFG.SEARCH&amp;ppt=None&amp;ppn=None&amp;ssid=wzznk26q680000001675421329815&amp;qH=312f91285e048e09\" rel=\"noopener noreferrer\" target=\"_blank\"><div class=\"MIXNux\"><div class=\"_2QcLo-\"><div><div class=\"CXW8mj\" style=\"height:200px;width:200px\"><img alt=\"Lenovo Athlon Dual Core 3150U - (4 GB/1 TB HDD/DOS) E41-55 Thin and Light Laptop\" class=\"_396cs4\" loading=\"eager\" src=\"https://rukminim1.flixcart.com/image/312/312/xif0q/computer/b/a/o/e41-55-thin-and-light-laptop-lenovo-original-imagh7gteh6uhn2z.jpeg?q=70\"/></div></div></div><div class=\"_3wLduG\"><div class=\"_3PzNI-\"><span class=\"f3A4_V\"><label class=\"_2iDkf8\"><input class=\"_30VH1S\" readonly=\"\" type=\"checkbox\"/><div class=\"_24_Dny\"></div></label></span><label class=\"_6Up2sF\"><span>Add to Compare</span></label></div></div><div class=\"_2hVSre _3nq8ih\"><div class=\"_36FSn5\"><svg class=\"_1l0elc\" height=\"16\" viewBox=\"0 0 20 16\" width=\"16\" xmlns=\"http://www.w3.org/2000/svg\"><path class=\"eX72wL\" d=\"M8.695 16.682C4.06 12.382 1 9.536 1 6.065 1 3.219 3.178 1 5.95 1c1.566 0 3.069.746 4.05 1.915C10.981 1.745 12.484 1 14.05 1 16.822 1 19 3.22 19 6.065c0 3.471-3.06 6.316-7.695 10.617L10 17.897l-1.305-1.215z\" fill=\"#2874F0\" fill-rule=\"evenodd\" opacity=\".9\" stroke=\"#FFF\"></path></svg></div></div></div><div class=\"_3pLy-c row\"><div class=\"col col-7-12\"><div class=\"_4rR01T\">Lenovo Athlon Dual Core 3150U - (4 GB/1 TB HDD/DOS) E41-55 Thin and Light Laptop</div><div class=\"gUuXy-\"><span class=\"_1lRcqv\" id=\"productRating_LSTCOMGKYGDRXDDZBFGBAEAXI_COMGKYGDRXDDZBFG_\"><div class=\"_3LWZlK\">3.8<img class=\"_1wB99o\" src=\"data:image/svg+xml;base64,PHN2ZyB4bWxucz0iaHR0cDovL3d3dy53My5vcmcvMjAwMC9zdmciIHdpZHRoPSIxMyIgaGVpZ2h0PSIxMiI+PHBhdGggZmlsbD0iI0ZGRiIgZD0iTTYuNSA5LjQzOWwtMy42NzQgMi4yMy45NC00LjI2LTMuMjEtMi44ODMgNC4yNTQtLjQwNEw2LjUuMTEybDEuNjkgNC4wMSA0LjI1NC40MDQtMy4yMSAyLjg4Mi45NCA0LjI2eiIvPjwvc3ZnPg==\"/></div></span><span class=\"_2_R_DZ\"><span><span>13 Ratings </span><span class=\"_13vcmD\">&amp;</span><span> 2 Reviews</span></span></span></div><div class=\"fMghEO\"><ul class=\"_1xgFaf\"><li class=\"rgWa7D\">AMD Athlon Dual Core Processor</li><li class=\"rgWa7D\">4 GB DDR4 RAM</li><li class=\"rgWa7D\">DOS Operating System</li><li class=\"rgWa7D\">1 TB HDD</li><li class=\"rgWa7D\">35.56 cm (14 Inch) Display</li><li class=\"rgWa7D\">1 Year Onsite Warranty</li></ul></div></div><div class=\"col col-5-12 nlI3QM\"><div class=\"_3tbKJL\"><div class=\"_25b18c\"><div class=\"_30jeq3 _1_WHN1\">₹18,990</div><div class=\"_3I9_wc _27UcVY\">₹<!-- -->29,999</div><div class=\"_3Ay6Sb\"><span>36% off</span></div></div><div class=\"_3tcB5a p8ucoS\"><div><div class=\"_2Tpdn3\" style=\"color:#000000;font-size:12px;font-weight:400\">Free delivery</div></div></div></div><div class=\"_13J9qT\"><img height=\"21\" src=\"//static-assets-web.flixcart.com/fk-p-linchpin-web/fk-cp-zion/img/fa_62673a.png\"/></div><div class=\"_2ZdXDB\"><div class=\"_3xFhiH\"><div class=\"_2Tpdn3 _18hQoS\" style=\"color:#26A541;font-size:14px;font-weight:700\">Bank Offer</div></div></div></div></div></a></div></div></div></div><div class=\"_1AtVbE col-12-12\"><div class=\"_13oc-S\"><div data-id=\"COMGG63HGDTFCCGW\" style=\"width:100%\"><div class=\"_2kHMtA\"><a class=\"_1fQZEK\" href=\"/hp-15s-intel-core-i5-12th-gen-8-gb-512-gb-ssd-windows-11-home-15s-fq5111tu-thin-light-laptop/p/itmbecf654716fd5?pid=COMGG63HGDTFCCGW&amp;lid=LSTCOMGG63HGDTFCCGWLETTA9&amp;marketplace=FLIPKART&amp;q=laptop&amp;store=6bo%2Fb5g&amp;srno=s_1_23&amp;otracker=AS_QueryStore_OrganicAutoSuggest_1_3_na_na_na&amp;otracker1=AS_QueryStore_OrganicAutoSuggest_1_3_na_na_na&amp;fm=organic&amp;iid=bfc95ac7-7e52-44aa-8ab5-13cfc0c899e6.COMGG63HGDTFCCGW.SEARCH&amp;ppt=None&amp;ppn=None&amp;ssid=wzznk26q680000001675421329815&amp;qH=312f91285e048e09\" rel=\"noopener noreferrer\" target=\"_blank\"><div class=\"MIXNux\"><div class=\"_2QcLo-\"><div><div class=\"CXW8mj\" style=\"height:200px;width:200px\"><img alt=\"HP 15s Intel Core i5 12th Gen - (8 GB/512 GB SSD/Windows 11 Home) 15s-fq5111TU Thin and Light Laptop\" class=\"_396cs4\" loading=\"eager\" src=\"https://rukminim1.flixcart.com/image/312/312/xif0q/computer/y/6/4/-original-imagkqwzbryf6sp7.jpeg?q=70\"/></div></div></div><div class=\"_3wLduG\"><div class=\"_3PzNI-\"><span class=\"f3A4_V\"><label class=\"_2iDkf8\"><input class=\"_30VH1S\" readonly=\"\" type=\"checkbox\"/><div class=\"_24_Dny\"></div></label></span><label class=\"_6Up2sF\"><span>Add to Compare</span></label></div></div><div class=\"_2hVSre _3nq8ih\"><div class=\"_36FSn5\"><svg class=\"_1l0elc\" height=\"16\" viewBox=\"0 0 20 16\" width=\"16\" xmlns=\"http://www.w3.org/2000/svg\"><path class=\"eX72wL\" d=\"M8.695 16.682C4.06 12.382 1 9.536 1 6.065 1 3.219 3.178 1 5.95 1c1.566 0 3.069.746 4.05 1.915C10.981 1.745 12.484 1 14.05 1 16.822 1 19 3.22 19 6.065c0 3.471-3.06 6.316-7.695 10.617L10 17.897l-1.305-1.215z\" fill=\"#2874F0\" fill-rule=\"evenodd\" opacity=\".9\" stroke=\"#FFF\"></path></svg></div></div></div><div class=\"_3pLy-c row\"><div class=\"col col-7-12\"><div class=\"_4rR01T\">HP 15s Intel Core i5 12th Gen - (8 GB/512 GB SSD/Windows 11 Home) 15s-fq5111TU Thin and Light Laptop</div><div class=\"gUuXy-\"><span class=\"_1lRcqv\" id=\"productRating_LSTCOMGG63HGDTFCCGWLETTA9_COMGG63HGDTFCCGW_\"><div class=\"_3LWZlK\">4.2<img class=\"_1wB99o\" src=\"data:image/svg+xml;base64,PHN2ZyB4bWxucz0iaHR0cDovL3d3dy53My5vcmcvMjAwMC9zdmciIHdpZHRoPSIxMyIgaGVpZ2h0PSIxMiI+PHBhdGggZmlsbD0iI0ZGRiIgZD0iTTYuNSA5LjQzOWwtMy42NzQgMi4yMy45NC00LjI2LTMuMjEtMi44ODMgNC4yNTQtLjQwNEw2LjUuMTEybDEuNjkgNC4wMSA0LjI1NC40MDQtMy4yMSAyLjg4Mi45NCA0LjI2eiIvPjwvc3ZnPg==\"/></div></span><span class=\"_2_R_DZ\"><span><span>1,926 Ratings </span><span class=\"_13vcmD\">&amp;</span><span> 160 Reviews</span></span></span></div><div class=\"fMghEO\"><ul class=\"_1xgFaf\"><li class=\"rgWa7D\">Intel Core i5 Processor (12th Gen)</li><li class=\"rgWa7D\">8 GB DDR4 RAM</li><li class=\"rgWa7D\">64 bit Windows 11 Operating System</li><li class=\"rgWa7D\">512 GB SSD</li><li class=\"rgWa7D\">39.62 cm (15.6 inch) Display</li><li class=\"rgWa7D\">1 Year Onsite Warranty</li></ul></div></div><div class=\"col col-5-12 nlI3QM\"><div class=\"_3tbKJL\"><div class=\"_25b18c\"><div class=\"_30jeq3 _1_WHN1\">₹56,999</div><div class=\"_3I9_wc _27UcVY\">₹<!-- -->70,235</div><div class=\"_3Ay6Sb\"><span>18% off</span></div></div><div class=\"_3tcB5a p8ucoS\"><div><div class=\"_2Tpdn3\" style=\"color:#000000;font-size:12px;font-weight:400\">Free delivery</div></div></div></div><div class=\"_13J9qT\"><img height=\"21\" src=\"//static-assets-web.flixcart.com/fk-p-linchpin-web/fk-cp-zion/img/fa_62673a.png\"/></div><div class=\"_2ZdXDB\"><div class=\"_3xFhiH\"><div class=\"_2Tpdn3 _18hQoS\" style=\"color:#000000;font-size:14px;font-style:normal;font-weight:400\">Upto </div><div class=\"_2Tpdn3 _18hQoS\" style=\"color:#000000;font-size:14px;font-style:normal;font-weight:700\">₹16,900</div><div class=\"_2Tpdn3 _18hQoS\" style=\"color:#000000;font-size:14px;font-style:normal;font-weight:400\"> Off on Exchange</div></div></div><div class=\"_2ZdXDB\"><div class=\"_3xFhiH\"><div class=\"_2Tpdn3 _18hQoS\" style=\"color:#000000;font-size:12px;font-weight:400\">No Cost EMI from ₹9,500/month</div></div></div></div></div></a></div></div></div></div><div class=\"_1AtVbE col-12-12\"><div class=\"_13oc-S\"><div data-id=\"COMGF33NW6RSYXWJ\" style=\"width:100%\"><div class=\"_2kHMtA\"><div class=\"_2tfzpE\"><span>Ad</span></div><a class=\"_1fQZEK\" href=\"/acer-aspire-7-core-i5-12th-gen-8-gb-512-gb-ssd-windows-11-home-4-graphics-nvidia-geforce-gtx-1650-a715-51g-a715-51g-527c-gaming-laptop/p/itm5df15e1482399?pid=COMGF33NW6RSYXWJ&amp;lid=LSTCOMGF33NW6RSYXWJPGBHAV&amp;marketplace=FLIPKART&amp;q=laptop&amp;store=6bo%2Fb5g&amp;srno=s_1_24&amp;otracker=AS_QueryStore_OrganicAutoSuggest_1_3_na_na_na&amp;otracker1=AS_QueryStore_OrganicAutoSuggest_1_3_na_na_na&amp;fm=organic&amp;iid=en_BI1GXuq9QzJAriAczOB%2BfGESdIYqETae8SLDsnvN2f3%2B0Ph3rbJUrly0548F8nK4zRSXLX%2BkP4sYRttyXBWVOg%3D%3D&amp;ppt=None&amp;ppn=None&amp;ssid=wzznk26q680000001675421329815&amp;qH=312f91285e048e09\" rel=\"noopener noreferrer\" target=\"_blank\"><div class=\"MIXNux\"><div class=\"_2QcLo-\"><div><div class=\"CXW8mj\" style=\"height:200px;width:200px\"><img alt=\"acer Aspire 7 Core i5 12th Gen - (8 GB/512 GB SSD/Windows 11 Home/4 GB Graphics/NVIDIA GeForce GTX 165...\" class=\"_396cs4\" loading=\"eager\" src=\"https://rukminim1.flixcart.com/image/312/312/l4oi4cw0/computer/i/n/e/a715-5g-gaming-laptop-acer-original-imagfj2g954wfdyz.jpeg?q=70\"/></div></div></div><div class=\"_3wLduG\"><div class=\"_3PzNI-\"><span class=\"f3A4_V\"><label class=\"_2iDkf8\"><input class=\"_30VH1S\" readonly=\"\" type=\"checkbox\"/><div class=\"_24_Dny\"></div></label></span><label class=\"_6Up2sF\"><span>Add to Compare</span></label></div></div><div class=\"_2hVSre _3nq8ih\"><div class=\"_36FSn5\"><svg class=\"_1l0elc\" height=\"16\" viewBox=\"0 0 20 16\" width=\"16\" xmlns=\"http://www.w3.org/2000/svg\"><path class=\"eX72wL\" d=\"M8.695 16.682C4.06 12.382 1 9.536 1 6.065 1 3.219 3.178 1 5.95 1c1.566 0 3.069.746 4.05 1.915C10.981 1.745 12.484 1 14.05 1 16.822 1 19 3.22 19 6.065c0 3.471-3.06 6.316-7.695 10.617L10 17.897l-1.305-1.215z\" fill=\"#2874F0\" fill-rule=\"evenodd\" opacity=\".9\" stroke=\"#FFF\"></path></svg></div></div></div><div class=\"_3pLy-c row\"><div class=\"col col-7-12\"><div class=\"_4rR01T\">acer Aspire 7 Core i5 12th Gen - (8 GB/512 GB SSD/Windows 11 Home/4 GB Graphics/NVIDIA GeForce GTX 165...</div><div class=\"gUuXy-\"><span class=\"_1lRcqv\" id=\"productRating_LSTCOMGF33NW6RSYXWJPGBHAV_COMGF33NW6RSYXWJ_\"><div class=\"_3LWZlK\">4.3<img class=\"_1wB99o\" src=\"data:image/svg+xml;base64,PHN2ZyB4bWxucz0iaHR0cDovL3d3dy53My5vcmcvMjAwMC9zdmciIHdpZHRoPSIxMyIgaGVpZ2h0PSIxMiI+PHBhdGggZmlsbD0iI0ZGRiIgZD0iTTYuNSA5LjQzOWwtMy42NzQgMi4yMy45NC00LjI2LTMuMjEtMi44ODMgNC4yNTQtLjQwNEw2LjUuMTEybDEuNjkgNC4wMSA0LjI1NC40MDQtMy4yMSAyLjg4Mi45NCA0LjI2eiIvPjwvc3ZnPg==\"/></div></span><span class=\"_2_R_DZ\"><span><span>2,977 Ratings </span><span class=\"_13vcmD\">&amp;</span><span> 347 Reviews</span></span></span></div><div class=\"fMghEO\"><ul class=\"_1xgFaf\"><li class=\"rgWa7D\">Intel Core i5 Processor (12th Gen)</li><li class=\"rgWa7D\">8 GB DDR4 RAM</li><li class=\"rgWa7D\">64 bit Windows 11 Operating System</li><li class=\"rgWa7D\">512 GB SSD</li><li class=\"rgWa7D\">39.62 cm (15.6 inch) Display</li><li class=\"rgWa7D\">1 Year International Travelers Warranty (ITW)</li></ul></div></div><div class=\"col col-5-12 nlI3QM\"><div class=\"_3tbKJL\"><div class=\"_25b18c\"><div class=\"_30jeq3 _1_WHN1\">₹57,990</div><div class=\"_3I9_wc _27UcVY\">₹<!-- -->83,999</div><div class=\"_3Ay6Sb\"><span>30% off</span></div></div><div class=\"_3tcB5a p8ucoS\"><div><div class=\"_2Tpdn3\" style=\"color:#000000;font-size:12px;font-weight:400\">Free delivery</div></div></div></div><div class=\"_13J9qT\"><img height=\"21\" src=\"//static-assets-web.flixcart.com/fk-p-linchpin-web/fk-cp-zion/img/fa_62673a.png\"/></div><div class=\"_2ZdXDB\"><div class=\"_3xFhiH\"><div class=\"_2Tpdn3 _18hQoS\" style=\"color:#000000;font-size:14px;font-style:normal;font-weight:400\">Upto </div><div class=\"_2Tpdn3 _18hQoS\" style=\"color:#000000;font-size:14px;font-style:normal;font-weight:700\">₹16,900</div><div class=\"_2Tpdn3 _18hQoS\" style=\"color:#000000;font-size:14px;font-style:normal;font-weight:400\"> Off on Exchange</div></div></div><div class=\"_2ZdXDB\"><div class=\"_3xFhiH\"><div class=\"_2Tpdn3 _18hQoS\" style=\"color:#26A541;font-size:14px;font-weight:700\">Bank Offer</div></div></div></div></div></a></div></div></div></div><div class=\"_1AtVbE col-12-12\"><div><div class=\"_2MImiq\"><span>Page 1 of 53</span><nav class=\"yFHi8N\"><a class=\"ge-49M _2Kfbh8\" href=\"/search?q=laptop&amp;sid=6bo%2Cb5g&amp;as=on&amp;as-show=on&amp;otracker=AS_QueryStore_OrganicAutoSuggest_1_3_na_na_na&amp;otracker1=AS_QueryStore_OrganicAutoSuggest_1_3_na_na_na&amp;as-pos=1&amp;as-type=RECENT&amp;suggestionId=laptop%7CLaptops&amp;requestId=79df5f2c-e1e6-40c9-a470-0a27d885b4c5&amp;as-searchtext=lap&amp;page=1\">1</a><a class=\"ge-49M\" href=\"/search?q=laptop&amp;sid=6bo%2Cb5g&amp;as=on&amp;as-show=on&amp;otracker=AS_QueryStore_OrganicAutoSuggest_1_3_na_na_na&amp;otracker1=AS_QueryStore_OrganicAutoSuggest_1_3_na_na_na&amp;as-pos=1&amp;as-type=RECENT&amp;suggestionId=laptop%7CLaptops&amp;requestId=79df5f2c-e1e6-40c9-a470-0a27d885b4c5&amp;as-searchtext=lap&amp;page=2\">2</a><a class=\"ge-49M\" href=\"/search?q=laptop&amp;sid=6bo%2Cb5g&amp;as=on&amp;as-show=on&amp;otracker=AS_QueryStore_OrganicAutoSuggest_1_3_na_na_na&amp;otracker1=AS_QueryStore_OrganicAutoSuggest_1_3_na_na_na&amp;as-pos=1&amp;as-type=RECENT&amp;suggestionId=laptop%7CLaptops&amp;requestId=79df5f2c-e1e6-40c9-a470-0a27d885b4c5&amp;as-searchtext=lap&amp;page=3\">3</a><a class=\"ge-49M\" href=\"/search?q=laptop&amp;sid=6bo%2Cb5g&amp;as=on&amp;as-show=on&amp;otracker=AS_QueryStore_OrganicAutoSuggest_1_3_na_na_na&amp;otracker1=AS_QueryStore_OrganicAutoSuggest_1_3_na_na_na&amp;as-pos=1&amp;as-type=RECENT&amp;suggestionId=laptop%7CLaptops&amp;requestId=79df5f2c-e1e6-40c9-a470-0a27d885b4c5&amp;as-searchtext=lap&amp;page=4\">4</a><a class=\"ge-49M\" href=\"/search?q=laptop&amp;sid=6bo%2Cb5g&amp;as=on&amp;as-show=on&amp;otracker=AS_QueryStore_OrganicAutoSuggest_1_3_na_na_na&amp;otracker1=AS_QueryStore_OrganicAutoSuggest_1_3_na_na_na&amp;as-pos=1&amp;as-type=RECENT&amp;suggestionId=laptop%7CLaptops&amp;requestId=79df5f2c-e1e6-40c9-a470-0a27d885b4c5&amp;as-searchtext=lap&amp;page=5\">5</a><a class=\"ge-49M\" href=\"/search?q=laptop&amp;sid=6bo%2Cb5g&amp;as=on&amp;as-show=on&amp;otracker=AS_QueryStore_OrganicAutoSuggest_1_3_na_na_na&amp;otracker1=AS_QueryStore_OrganicAutoSuggest_1_3_na_na_na&amp;as-pos=1&amp;as-type=RECENT&amp;suggestionId=laptop%7CLaptops&amp;requestId=79df5f2c-e1e6-40c9-a470-0a27d885b4c5&amp;as-searchtext=lap&amp;page=6\">6</a><a class=\"ge-49M\" href=\"/search?q=laptop&amp;sid=6bo%2Cb5g&amp;as=on&amp;as-show=on&amp;otracker=AS_QueryStore_OrganicAutoSuggest_1_3_na_na_na&amp;otracker1=AS_QueryStore_OrganicAutoSuggest_1_3_na_na_na&amp;as-pos=1&amp;as-type=RECENT&amp;suggestionId=laptop%7CLaptops&amp;requestId=79df5f2c-e1e6-40c9-a470-0a27d885b4c5&amp;as-searchtext=lap&amp;page=7\">7</a><a class=\"ge-49M\" href=\"/search?q=laptop&amp;sid=6bo%2Cb5g&amp;as=on&amp;as-show=on&amp;otracker=AS_QueryStore_OrganicAutoSuggest_1_3_na_na_na&amp;otracker1=AS_QueryStore_OrganicAutoSuggest_1_3_na_na_na&amp;as-pos=1&amp;as-type=RECENT&amp;suggestionId=laptop%7CLaptops&amp;requestId=79df5f2c-e1e6-40c9-a470-0a27d885b4c5&amp;as-searchtext=lap&amp;page=8\">8</a><a class=\"ge-49M\" href=\"/search?q=laptop&amp;sid=6bo%2Cb5g&amp;as=on&amp;as-show=on&amp;otracker=AS_QueryStore_OrganicAutoSuggest_1_3_na_na_na&amp;otracker1=AS_QueryStore_OrganicAutoSuggest_1_3_na_na_na&amp;as-pos=1&amp;as-type=RECENT&amp;suggestionId=laptop%7CLaptops&amp;requestId=79df5f2c-e1e6-40c9-a470-0a27d885b4c5&amp;as-searchtext=lap&amp;page=9\">9</a><a class=\"ge-49M\" href=\"/search?q=laptop&amp;sid=6bo%2Cb5g&amp;as=on&amp;as-show=on&amp;otracker=AS_QueryStore_OrganicAutoSuggest_1_3_na_na_na&amp;otracker1=AS_QueryStore_OrganicAutoSuggest_1_3_na_na_na&amp;as-pos=1&amp;as-type=RECENT&amp;suggestionId=laptop%7CLaptops&amp;requestId=79df5f2c-e1e6-40c9-a470-0a27d885b4c5&amp;as-searchtext=lap&amp;page=10\">10</a><a class=\"_1LKTO3\" href=\"/search?q=laptop&amp;sid=6bo%2Cb5g&amp;as=on&amp;as-show=on&amp;otracker=AS_QueryStore_OrganicAutoSuggest_1_3_na_na_na&amp;otracker1=AS_QueryStore_OrganicAutoSuggest_1_3_na_na_na&amp;as-pos=1&amp;as-type=RECENT&amp;suggestionId=laptop%7CLaptops&amp;requestId=79df5f2c-e1e6-40c9-a470-0a27d885b4c5&amp;as-searchtext=lap&amp;page=2\"><span>Next</span></a></nav><span class=\"_22Tduf\"></span></div></div></div><div class=\"_1AtVbE col-12-12\" style=\"margin:10px 0px 0px 0px\"><div class=\"_1anD2T\"><span class=\"PTpXCl\">Did you find what you were looking for?</span><div class=\"_1ye8x2 _1xLf4B\"><span class=\"_2eFmU2 _3ZMjMT\">Yes</span><span class=\"_2eFmU2 _3ZMjMT\">No</span></div></div></div></div></div><div class=\"_1AtVbE col-12-12\" style=\"padding:16px 0px 0px 0px\"><div class=\"_3E8aIl X3IECw row\"><div class=\"_88-NUv\">Reviews for Popular Laptops</div><div class=\"_2nRPpA\"><div class=\"_1Ni40J\"><div class=\"_3hVUcF\"><div class=\"CXW8mj\" style=\"height:150px;width:150px\"><img alt=\"HP Pavilion Ryzen 5 Hexa Core AMD R5-5600H - (8 GB/512 GB SSD/Windows 10/4 GB Graphics/NVIDIA GeForce GTX 1650/144 Hz) 15-ec2004AX Gaming Laptop\" class=\"_396cs4\" loading=\"lazy\" src=\"https://rukminim1.flixcart.com/image/300/300/kbqu4cw0/computer/q/x/r/hp-original-imaftyzachgrav8f.jpeg?q=90\"/></div></div><div class=\"_1kLt05\"><a href=\"/hp-pavilion-ryzen-5-hexa-core-amd-r5-5600h-8-gb-512-gb-ssd-windows-10-4-graphics-nvidia-geforce-gtx-1650-144-hz-15-ec2004ax-gaming-laptop/p/itm98c94bbf9bc20?pid=COMG5GZXPWMGTNWS&amp;marketplace=FLIPKART\" rel=\"noopener noreferrer\" target=\"_blank\"><div class=\"_1W9f5C\"><div>1. HP Pavilion Ryzen 5 Hexa Co...</div></div><div class=\"_3VDxyD\"><div class=\"_3LWZlK\">4.4<img class=\"_1wB99o\" src=\"data:image/svg+xml;base64,PHN2ZyB4bWxucz0iaHR0cDovL3d3dy53My5vcmcvMjAwMC9zdmciIHdpZHRoPSIxMyIgaGVpZ2h0PSIxMiI+PHBhdGggZmlsbD0iI0ZGRiIgZD0iTTYuNSA5LjQzOWwtMy42NzQgMi4yMy45NC00LjI2LTMuMjEtMi44ODMgNC4yNTQtLjQwNEw2LjUuMTEybDEuNjkgNC4wMSA0LjI1NC40MDQtMy4yMSAyLjg4Mi45NCA0LjI2eiIvPjwvc3ZnPg==\"/></div><span class=\"_34hpFu\"><span>11,907 Ratings</span><span><span class=\"_2oY1qB\">&amp;</span><span>1,202 Reviews</span></span></span></div><div class=\"_2wYYVP\"><div class=\"_25b18c\"><div class=\"_30jeq3 UMT9wN\">₹52,990</div><div class=\"_3Ay6Sb _2FuKQX\"><span>16% off</span></div></div></div></a><ul class=\"_1Sq2Fs\"><li class=\"_2OosNL\">AMD Ryzen 5 Hexa Core Processor</li><li class=\"_2OosNL\">8 GB DDR4 RAM</li><li class=\"_2OosNL\">64 bit Windows 10 Operating System</li></ul></div></div><div class=\"_2tzWk4\"><div class=\"_1A_Aux\">Most Helpful Review</div><div class=\"col\"><div class=\"col _2wzgFH _2cVXgz\"><div class=\"row\"><div class=\"_3LWZlK _1BLPMq\">4<img class=\"_1wB99o\" src=\"data:image/svg+xml;base64,PHN2ZyB4bWxucz0iaHR0cDovL3d3dy53My5vcmcvMjAwMC9zdmciIHdpZHRoPSIxMyIgaGVpZ2h0PSIxMiI+PHBhdGggZmlsbD0iI0ZGRiIgZD0iTTYuNSA5LjQzOWwtMy42NzQgMi4yMy45NC00LjI2LTMuMjEtMi44ODMgNC4yNTQtLjQwNEw2LjUuMTEybDEuNjkgNC4wMSA0LjI1NC40MDQtMy4yMSAyLjg4Mi45NCA0LjI2eiIvPjwvc3ZnPg==\"/></div><p class=\"_2-N8zT\">Pretty good</p></div><div class=\"row\"><div class=\"t-ZTKy\"><div><div class=\"\">this is the best laptop with this price segment, <br/>Design :            5 <br/>Performance: 5<br/>Battery:.           3<br/><br/>Delivery is just amazing i got this in just 2 ...</div><span class=\"_1BWGvX\"><span>Read full review</span></span></div></div></div><div class=\"row _3n8db9\"><div class=\"row\"><p class=\"_2sc7ZR _2V5EHH\">Ganesh Harne</p><svg class=\"_2a1p_T\" height=\"14\" viewBox=\"0 0 12 12\" width=\"14\" xmlns=\"http://www.w3.org/2000/svg\"><g><circle cx=\"6\" cy=\"6\" fill=\"#878787\" r=\"6\"></circle><path d=\"M3 6l2 2 4-4\" fill=\"#878787\" stroke=\"#FFF\" stroke-width=\"1.5\"></path></g></svg><p class=\"_2mcZGG\" id=\"review-b66f0cca-adf8-4ca0-b521-75ea6a7978c4\"><span>Certified Buyer</span></p><p class=\"_2sc7ZR\">Oct, 2021</p></div></div></div></div></div><div class=\"_2tzWk4\"><div class=\"_1A_Aux\">Recent Review</div><div class=\"col\"><div class=\"col _2wzgFH _2cVXgz\"><div class=\"row\"><div class=\"_3LWZlK _1BLPMq\">5<img class=\"_1wB99o\" src=\"data:image/svg+xml;base64,PHN2ZyB4bWxucz0iaHR0cDovL3d3dy53My5vcmcvMjAwMC9zdmciIHdpZHRoPSIxMyIgaGVpZ2h0PSIxMiI+PHBhdGggZmlsbD0iI0ZGRiIgZD0iTTYuNSA5LjQzOWwtMy42NzQgMi4yMy45NC00LjI2LTMuMjEtMi44ODMgNC4yNTQtLjQwNEw2LjUuMTEybDEuNjkgNC4wMSA0LjI1NC40MDQtMy4yMSAyLjg4Mi45NCA0LjI2eiIvPjwvc3ZnPg==\"/></div><p class=\"_2-N8zT\">Worth every penny</p></div><div class=\"row\"><div class=\"t-ZTKy\"><div><div class=\"\">To be honest to tell u all that this is the awesome laptop in this budget range. But i didn't like the battery consumption. Though it is a gaming laptop we c...</div><span class=\"_1BWGvX\"><span>Read full review</span></span></div></div></div><div class=\"row _3n8db9\"><div class=\"row\"><p class=\"_2sc7ZR _2V5EHH\">Abhisekh  Sahoo</p><svg class=\"_2a1p_T\" height=\"14\" viewBox=\"0 0 12 12\" width=\"14\" xmlns=\"http://www.w3.org/2000/svg\"><g><circle cx=\"6\" cy=\"6\" fill=\"#878787\" r=\"6\"></circle><path d=\"M3 6l2 2 4-4\" fill=\"#878787\" stroke=\"#FFF\" stroke-width=\"1.5\"></path></g></svg><p class=\"_2mcZGG\" id=\"review-6a923cd8-2fe7-4d6f-b7bf-9243a452e577\"><span>Certified Buyer</span></p><p class=\"_2sc7ZR\">1 day ago</p></div></div></div></div></div></div><div class=\"_2nRPpA\"><div class=\"_1Ni40J\"><div class=\"_3hVUcF\"><div class=\"CXW8mj\" style=\"height:150px;width:150px\"><img alt=\"DELL Inspiron Core i5 11th Gen - (16 GB/512 GB SSD/Windows 11 Home) Inspiron 5418 Thin and Light Laptop\" class=\"_396cs4\" loading=\"lazy\" src=\"https://rukminim1.flixcart.com/image/300/300/l44hyfk0/computer/p/f/p/-original-imagf35eyhdzxhgr.jpeg?q=90\"/></div></div><div class=\"_1kLt05\"><a href=\"/dell-inspiron-core-i5-11th-gen-16-gb-512-gb-ssd-windows-11-home-5418-thin-light-laptop/p/itm239809dcd77fe?pid=COMG9NYDYHCDP8AC&amp;marketplace=FLIPKART\" rel=\"noopener noreferrer\" target=\"_blank\"><div class=\"_1W9f5C\"><div>2. DELL Inspiron Core i5 11th ...</div></div><div class=\"_3VDxyD\"><div class=\"_3LWZlK\">3.9<img class=\"_1wB99o\" src=\"data:image/svg+xml;base64,PHN2ZyB4bWxucz0iaHR0cDovL3d3dy53My5vcmcvMjAwMC9zdmciIHdpZHRoPSIxMyIgaGVpZ2h0PSIxMiI+PHBhdGggZmlsbD0iI0ZGRiIgZD0iTTYuNSA5LjQzOWwtMy42NzQgMi4yMy45NC00LjI2LTMuMjEtMi44ODMgNC4yNTQtLjQwNEw2LjUuMTEybDEuNjkgNC4wMSA0LjI1NC40MDQtMy4yMSAyLjg4Mi45NCA0LjI2eiIvPjwvc3ZnPg==\"/></div><span class=\"_34hpFu\"><span>22 Ratings</span><span><span class=\"_2oY1qB\">&amp;</span><span>2 Reviews</span></span></span></div><div class=\"_2wYYVP\"><div class=\"_25b18c\"><div class=\"_30jeq3 UMT9wN\">₹71,900</div><div class=\"_3Ay6Sb _2FuKQX\"><span>22% off</span></div></div></div></a><ul class=\"_1Sq2Fs\"><li class=\"_2OosNL\">Intel Core i5 Processor (11th Gen)</li><li class=\"_2OosNL\">16 GB DDR4 RAM</li><li class=\"_2OosNL\">64 bit Windows 11 Operating System</li></ul></div></div><div class=\"_2tzWk4\"><div class=\"_1A_Aux\">Most Helpful Review</div><div class=\"col\"><div class=\"col _2wzgFH _2cVXgz\"><div class=\"row\"><div class=\"_3LWZlK _1BLPMq\">3<img class=\"_1wB99o\" src=\"data:image/svg+xml;base64,PHN2ZyB4bWxucz0iaHR0cDovL3d3dy53My5vcmcvMjAwMC9zdmciIHdpZHRoPSIxMyIgaGVpZ2h0PSIxMiI+PHBhdGggZmlsbD0iI0ZGRiIgZD0iTTYuNSA5LjQzOWwtMy42NzQgMi4yMy45NC00LjI2LTMuMjEtMi44ODMgNC4yNTQtLjQwNEw2LjUuMTEybDEuNjkgNC4wMSA0LjI1NC40MDQtMy4yMSAyLjg4Mi45NCA0LjI2eiIvPjwvc3ZnPg==\"/></div><p class=\"_2-N8zT\">Does the job</p></div><div class=\"row\"><div class=\"t-ZTKy\"><div><div class=\"\">Slightly heating issue although doing nothing serious stuff like playing games etc</div><span class=\"_1H-bmy\"><span>Read full review</span></span></div></div></div><div class=\"row _3n8db9\"><div class=\"row\"><p class=\"_2sc7ZR _2V5EHH\">Chinmaya kumar  Patel </p><svg class=\"_2a1p_T\" height=\"14\" viewBox=\"0 0 12 12\" width=\"14\" xmlns=\"http://www.w3.org/2000/svg\"><g><circle cx=\"6\" cy=\"6\" fill=\"#878787\" r=\"6\"></circle><path d=\"M3 6l2 2 4-4\" fill=\"#878787\" stroke=\"#FFF\" stroke-width=\"1.5\"></path></g></svg><p class=\"_2mcZGG\" id=\"review-77d059ca-4699-472c-b8bf-5a2dacde27f9\"><span>Certified Buyer</span></p><p class=\"_2sc7ZR\">7 months ago</p></div></div></div></div></div><div class=\"_2tzWk4\"><div class=\"_1A_Aux\">Recent Review</div><div class=\"col\"><div class=\"col _2wzgFH _2cVXgz\"><div class=\"row\"><div class=\"_3LWZlK _1BLPMq\">5<img class=\"_1wB99o\" src=\"data:image/svg+xml;base64,PHN2ZyB4bWxucz0iaHR0cDovL3d3dy53My5vcmcvMjAwMC9zdmciIHdpZHRoPSIxMyIgaGVpZ2h0PSIxMiI+PHBhdGggZmlsbD0iI0ZGRiIgZD0iTTYuNSA5LjQzOWwtMy42NzQgMi4yMy45NC00LjI2LTMuMjEtMi44ODMgNC4yNTQtLjQwNEw2LjUuMTEybDEuNjkgNC4wMSA0LjI1NC40MDQtMy4yMSAyLjg4Mi45NCA0LjI2eiIvPjwvc3ZnPg==\"/></div><p class=\"_2-N8zT\">Simply awesome</p></div><div class=\"row\"><div class=\"t-ZTKy\"><div><div class=\"\">Product is very nice with all latest technological supports.</div><span class=\"_1H-bmy\"><span>Read full review</span></span></div></div></div><div class=\"row _3n8db9\"><div class=\"row\"><p class=\"_2sc7ZR _2V5EHH\">Kaushal kishor Sharma</p><svg class=\"_2a1p_T\" height=\"14\" viewBox=\"0 0 12 12\" width=\"14\" xmlns=\"http://www.w3.org/2000/svg\"><g><circle cx=\"6\" cy=\"6\" fill=\"#878787\" r=\"6\"></circle><path d=\"M3 6l2 2 4-4\" fill=\"#878787\" stroke=\"#FFF\" stroke-width=\"1.5\"></path></g></svg><p class=\"_2mcZGG\" id=\"review-829f2388-49b7-4b6d-84f0-abdcdb4b3264\"><span>Certified Buyer</span></p><p class=\"_2sc7ZR\">1 month ago</p></div></div></div></div></div></div><div class=\"_2nRPpA\"><div class=\"_1Ni40J\"><div class=\"_3hVUcF\"><div class=\"CXW8mj\" style=\"height:150px;width:150px\"><img alt=\"Lenovo Intel Celeron Dual Core - (8 GB/256 GB SSD/Windows 11 Home) 81WQ00MQIN|81WQ00NXIN Laptop\" class=\"_396cs4\" loading=\"lazy\" src=\"https://rukminim1.flixcart.com/image/300/300/keaaavk0/computer/x/m/y/lenovo-na-laptop-original-imafuzt8r5jqppfn.jpeg?q=90\"/></div></div><div class=\"_1kLt05\"><a href=\"/lenovo-intel-celeron-dual-core-8-gb-256-gb-ssd-windows-11-home-81wq00mqin-81wq00nxin-laptop/p/itm2560cd9192f02?pid=COMGDMXVJJB2HGMY&amp;marketplace=FLIPKART\" rel=\"noopener noreferrer\" target=\"_blank\"><div class=\"_1W9f5C\"><div>3. Lenovo Intel Celeron Dual C...</div></div><div class=\"_3VDxyD\"><div class=\"_3LWZlK\">4.1<img class=\"_1wB99o\" src=\"data:image/svg+xml;base64,PHN2ZyB4bWxucz0iaHR0cDovL3d3dy53My5vcmcvMjAwMC9zdmciIHdpZHRoPSIxMyIgaGVpZ2h0PSIxMiI+PHBhdGggZmlsbD0iI0ZGRiIgZD0iTTYuNSA5LjQzOWwtMy42NzQgMi4yMy45NC00LjI2LTMuMjEtMi44ODMgNC4yNTQtLjQwNEw2LjUuMTEybDEuNjkgNC4wMSA0LjI1NC40MDQtMy4yMSAyLjg4Mi45NCA0LjI2eiIvPjwvc3ZnPg==\"/></div><span class=\"_34hpFu\"><span>373 Ratings</span><span><span class=\"_2oY1qB\">&amp;</span><span>35 Reviews</span></span></span></div><div class=\"_2wYYVP\"><div class=\"_25b18c\"><div class=\"_30jeq3 UMT9wN\">₹25,917</div><div class=\"_3Ay6Sb _2FuKQX\"><span>35% off</span></div></div></div></a><ul class=\"_1Sq2Fs\"><li class=\"_2OosNL\">Intel Celeron Dual Core Processor</li><li class=\"_2OosNL\">8 GB DDR4 RAM</li><li class=\"_2OosNL\">64 bit Windows 11 Operating System</li></ul></div></div><div class=\"_2tzWk4\"><div class=\"_1A_Aux\">Most Helpful Review</div><div class=\"col\"><div class=\"col _2wzgFH _2cVXgz\"><div class=\"row\"><div class=\"_3LWZlK _1BLPMq\">5<img class=\"_1wB99o\" src=\"data:image/svg+xml;base64,PHN2ZyB4bWxucz0iaHR0cDovL3d3dy53My5vcmcvMjAwMC9zdmciIHdpZHRoPSIxMyIgaGVpZ2h0PSIxMiI+PHBhdGggZmlsbD0iI0ZGRiIgZD0iTTYuNSA5LjQzOWwtMy42NzQgMi4yMy45NC00LjI2LTMuMjEtMi44ODMgNC4yNTQtLjQwNEw2LjUuMTEybDEuNjkgNC4wMSA0LjI1NC40MDQtMy4yMSAyLjg4Mi45NCA0LjI2eiIvPjwvc3ZnPg==\"/></div><p class=\"_2-N8zT\">Worth every penny</p></div><div class=\"row\"><div class=\"t-ZTKy\"><div><div class=\"\">In this price products was osm.... Go fr it...</div><span class=\"_1H-bmy\"><span>Read full review</span></span></div></div></div><div class=\"row _3n8db9\"><div class=\"row\"><p class=\"_2sc7ZR _2V5EHH\">Mandakini pathak</p><svg class=\"_2a1p_T\" height=\"14\" viewBox=\"0 0 12 12\" width=\"14\" xmlns=\"http://www.w3.org/2000/svg\"><g><circle cx=\"6\" cy=\"6\" fill=\"#878787\" r=\"6\"></circle><path d=\"M3 6l2 2 4-4\" fill=\"#878787\" stroke=\"#FFF\" stroke-width=\"1.5\"></path></g></svg><p class=\"_2mcZGG\" id=\"review-63068bd0-3e7d-4d2b-b618-d73192838f3e\"><span>Certified Buyer</span></p><p class=\"_2sc7ZR\">1 month ago</p></div></div></div></div></div><div class=\"_2tzWk4\"><div class=\"_1A_Aux\">Recent Review</div><div class=\"col\"><div class=\"col _2wzgFH _2cVXgz\"><div class=\"row\"><div class=\"_3LWZlK _1BLPMq\">3<img class=\"_1wB99o\" src=\"data:image/svg+xml;base64,PHN2ZyB4bWxucz0iaHR0cDovL3d3dy53My5vcmcvMjAwMC9zdmciIHdpZHRoPSIxMyIgaGVpZ2h0PSIxMiI+PHBhdGggZmlsbD0iI0ZGRiIgZD0iTTYuNSA5LjQzOWwtMy42NzQgMi4yMy45NC00LjI2LTMuMjEtMi44ODMgNC4yNTQtLjQwNEw2LjUuMTEybDEuNjkgNC4wMSA0LjI1NC40MDQtMy4yMSAyLjg4Mi45NCA0LjI2eiIvPjwvc3ZnPg==\"/></div><p class=\"_2-N8zT\">Just okay</p></div><div class=\"row\"><div class=\"t-ZTKy\"><div><div class=\"\">Poor quality it's a normal quality not too good</div><span class=\"_1H-bmy\"><span>Read full review</span></span></div></div></div><div class=\"row _3n8db9\"><div class=\"row\"><p class=\"_2sc7ZR _2V5EHH\">Subhendu  Karmakar</p><svg class=\"_2a1p_T\" height=\"14\" viewBox=\"0 0 12 12\" width=\"14\" xmlns=\"http://www.w3.org/2000/svg\"><g><circle cx=\"6\" cy=\"6\" fill=\"#878787\" r=\"6\"></circle><path d=\"M3 6l2 2 4-4\" fill=\"#878787\" stroke=\"#FFF\" stroke-width=\"1.5\"></path></g></svg><p class=\"_2mcZGG\" id=\"review-6222d0e1-8c3f-4a6c-82b9-8d975f0359b1\"><span>Certified Buyer</span></p><p class=\"_2sc7ZR\">14 days ago</p></div></div></div></div></div></div><div class=\"_2nRPpA\"><div class=\"_1Ni40J\"><div class=\"_3hVUcF\"><div class=\"CXW8mj\" style=\"height:150px;width:150px\"><img alt=\"ASUS VivoBook 14 (2021) Celeron Dual Core - (4 GB/256 GB SSD/Windows 11 Home) X415MA-BV011W Thin and Light Laptop\" class=\"_396cs4\" loading=\"lazy\" src=\"https://rukminim1.flixcart.com/image/300/300/l2m78280/computer/z/e/f/-original-imagdx9szs8xz2rk.jpeg?q=90\"/></div></div><div class=\"_1kLt05\"><a href=\"/asus-vivobook-14-2021-celeron-dual-core-4-gb-256-gb-ssd-windows-11-home-x415ma-bv011w-thin-light-laptop/p/itm8f9bebd99f5c0?pid=COMGBH774UHWUFQF&amp;marketplace=FLIPKART\" rel=\"noopener noreferrer\" target=\"_blank\"><div class=\"_1W9f5C\"><div>4. ASUS VivoBook 14 (2021) Cel...</div></div><div class=\"_3VDxyD\"><div class=\"_3LWZlK\">4.1<img class=\"_1wB99o\" src=\"data:image/svg+xml;base64,PHN2ZyB4bWxucz0iaHR0cDovL3d3dy53My5vcmcvMjAwMC9zdmciIHdpZHRoPSIxMyIgaGVpZ2h0PSIxMiI+PHBhdGggZmlsbD0iI0ZGRiIgZD0iTTYuNSA5LjQzOWwtMy42NzQgMi4yMy45NC00LjI2LTMuMjEtMi44ODMgNC4yNTQtLjQwNEw2LjUuMTEybDEuNjkgNC4wMSA0LjI1NC40MDQtMy4yMSAyLjg4Mi45NCA0LjI2eiIvPjwvc3ZnPg==\"/></div><span class=\"_34hpFu\"><span>707 Ratings</span><span><span class=\"_2oY1qB\">&amp;</span><span>87 Reviews</span></span></span></div><div class=\"_2wYYVP\"><div class=\"_25b18c\"><div class=\"_30jeq3 UMT9wN\">₹23,990</div><div class=\"_3Ay6Sb _2FuKQX\"><span>29% off</span></div></div></div></a><ul class=\"_1Sq2Fs\"><li class=\"_2OosNL\">Intel Celeron Dual Core Processor</li><li class=\"_2OosNL\">4 GB DDR4 RAM</li><li class=\"_2OosNL\">64 bit Windows 11 Operating System</li></ul></div></div><div class=\"_2tzWk4\"><div class=\"_1A_Aux\">Most Helpful Review</div><div class=\"col\"><div class=\"col _2wzgFH _2cVXgz\"><div class=\"row\"><div class=\"_3LWZlK _1BLPMq\">4<img class=\"_1wB99o\" src=\"data:image/svg+xml;base64,PHN2ZyB4bWxucz0iaHR0cDovL3d3dy53My5vcmcvMjAwMC9zdmciIHdpZHRoPSIxMyIgaGVpZ2h0PSIxMiI+PHBhdGggZmlsbD0iI0ZGRiIgZD0iTTYuNSA5LjQzOWwtMy42NzQgMi4yMy45NC00LjI2LTMuMjEtMi44ODMgNC4yNTQtLjQwNEw2LjUuMTEybDEuNjkgNC4wMSA0LjI1NC40MDQtMy4yMSAyLjg4Mi45NCA0LjI2eiIvPjwvc3ZnPg==\"/></div><p class=\"_2-N8zT\">Value-for-money</p></div><div class=\"row\"><div class=\"t-ZTKy\"><div><div class=\"\">Really beautiful design and performance is also nice not very excellent because it's contain 4 GB RAM. But in this range all is well.<br/>Thanks Flipcart</div><span class=\"_1H-bmy\"><span>Read full review</span></span></div></div></div><div class=\"row _3n8db9\"><div class=\"row\"><p class=\"_2sc7ZR _2V5EHH\">PRATYUSH MISHRA</p><svg class=\"_2a1p_T\" height=\"14\" viewBox=\"0 0 12 12\" width=\"14\" xmlns=\"http://www.w3.org/2000/svg\"><g><circle cx=\"6\" cy=\"6\" fill=\"#878787\" r=\"6\"></circle><path d=\"M3 6l2 2 4-4\" fill=\"#878787\" stroke=\"#FFF\" stroke-width=\"1.5\"></path></g></svg><p class=\"_2mcZGG\" id=\"review-81c464dd-7f55-4a05-acd0-733f7cf8d6aa\"><span>Certified Buyer</span></p><p class=\"_2sc7ZR\">2 months ago</p></div></div></div></div></div><div class=\"_2tzWk4\"><div class=\"_1A_Aux\">Recent Review</div><div class=\"col\"><div class=\"col _2wzgFH _2cVXgz\"><div class=\"row\"><div class=\"_3LWZlK _1BLPMq\">4<img class=\"_1wB99o\" src=\"data:image/svg+xml;base64,PHN2ZyB4bWxucz0iaHR0cDovL3d3dy53My5vcmcvMjAwMC9zdmciIHdpZHRoPSIxMyIgaGVpZ2h0PSIxMiI+PHBhdGggZmlsbD0iI0ZGRiIgZD0iTTYuNSA5LjQzOWwtMy42NzQgMi4yMy45NC00LjI2LTMuMjEtMi44ODMgNC4yNTQtLjQwNEw2LjUuMTEybDEuNjkgNC4wMSA0LjI1NC40MDQtMy4yMSAyLjg4Mi45NCA0LjI2eiIvPjwvc3ZnPg==\"/></div><p class=\"_2-N8zT\">Pretty good</p></div><div class=\"row\"><div class=\"t-ZTKy\"><div><div class=\"\">Product is nice for normal usage like trading or excle work . But it has slow wifi speed..</div><span class=\"_1H-bmy\"><span>Read full review</span></span></div></div></div><div class=\"row _3n8db9\"><div class=\"row\"><p class=\"_2sc7ZR _2V5EHH\">Vicky</p><svg class=\"_2a1p_T\" height=\"14\" viewBox=\"0 0 12 12\" width=\"14\" xmlns=\"http://www.w3.org/2000/svg\"><g><circle cx=\"6\" cy=\"6\" fill=\"#878787\" r=\"6\"></circle><path d=\"M3 6l2 2 4-4\" fill=\"#878787\" stroke=\"#FFF\" stroke-width=\"1.5\"></path></g></svg><p class=\"_2mcZGG\" id=\"review-aef58fbd-3169-4986-ae7d-016bd633f554\"><span>Certified Buyer</span></p><p class=\"_2sc7ZR\">3 days ago</p></div></div></div></div></div></div><div class=\"_2nRPpA\"><div class=\"_1Ni40J\"><div class=\"_3hVUcF\"><div class=\"CXW8mj\" style=\"height:150px;width:150px\"><img alt=\"HP Athlon Dual Core 3050U - (8 GB/512 GB SSD/Windows 11 Home) 15s- eq1559AU Thin and Light Laptop\" class=\"_396cs4\" loading=\"lazy\" src=\"https://rukminim1.flixcart.com/image/300/300/xif0q/computer/q/j/c/-original-imagh3wecapg5gqn.jpeg?q=90\"/></div></div><div class=\"_1kLt05\"><a href=\"/hp-athlon-dual-core-3050u-8-gb-512-gb-ssd-windows-11-home-15s-eq1559au-thin-light-laptop/p/itm805c7d908648d?pid=COMGG63HRV3GFN4G&amp;marketplace=FLIPKART\" rel=\"noopener noreferrer\" target=\"_blank\"><div class=\"_1W9f5C\"><div>5. HP Athlon Dual Core 3050U -...</div></div><div class=\"_3VDxyD\"><div class=\"_3LWZlK\">4<img class=\"_1wB99o\" src=\"data:image/svg+xml;base64,PHN2ZyB4bWxucz0iaHR0cDovL3d3dy53My5vcmcvMjAwMC9zdmciIHdpZHRoPSIxMyIgaGVpZ2h0PSIxMiI+PHBhdGggZmlsbD0iI0ZGRiIgZD0iTTYuNSA5LjQzOWwtMy42NzQgMi4yMy45NC00LjI2LTMuMjEtMi44ODMgNC4yNTQtLjQwNEw2LjUuMTEybDEuNjkgNC4wMSA0LjI1NC40MDQtMy4yMSAyLjg4Mi45NCA0LjI2eiIvPjwvc3ZnPg==\"/></div><span class=\"_34hpFu\"><span>869 Ratings</span><span><span class=\"_2oY1qB\">&amp;</span><span>94 Reviews</span></span></span></div><div class=\"_2wYYVP\"><div class=\"_25b18c\"><div class=\"_30jeq3 UMT9wN\">₹29,490</div><div class=\"_3Ay6Sb _2FuKQX\"><span>24% off</span></div></div></div></a><ul class=\"_1Sq2Fs\"><li class=\"_2OosNL\">AMD Athlon Dual Core Processor</li><li class=\"_2OosNL\">8 GB DDR4 RAM</li><li class=\"_2OosNL\">64 bit Windows 11 Operating System</li></ul></div></div><div class=\"_2tzWk4\"><div class=\"_1A_Aux\">Most Helpful Review</div><div class=\"col\"><div class=\"col _2wzgFH _2cVXgz\"><div class=\"row\"><div class=\"_3LWZlK _1BLPMq\">5<img class=\"_1wB99o\" src=\"data:image/svg+xml;base64,PHN2ZyB4bWxucz0iaHR0cDovL3d3dy53My5vcmcvMjAwMC9zdmciIHdpZHRoPSIxMyIgaGVpZ2h0PSIxMiI+PHBhdGggZmlsbD0iI0ZGRiIgZD0iTTYuNSA5LjQzOWwtMy42NzQgMi4yMy45NC00LjI2LTMuMjEtMi44ODMgNC4yNTQtLjQwNEw2LjUuMTEybDEuNjkgNC4wMSA0LjI1NC40MDQtMy4yMSAyLjg4Mi45NCA0LjI2eiIvPjwvc3ZnPg==\"/></div><p class=\"_2-N8zT\">Great product</p></div><div class=\"row\"><div class=\"t-ZTKy\"><div><div class=\"\">Superb Laptop and performance good</div><span class=\"_1H-bmy\"><span>Read full review</span></span></div></div></div><div class=\"row _3n8db9\"><div class=\"row\"><p class=\"_2sc7ZR _2V5EHH\">Chandra prakash  Yadav</p><svg class=\"_2a1p_T\" height=\"14\" viewBox=\"0 0 12 12\" width=\"14\" xmlns=\"http://www.w3.org/2000/svg\"><g><circle cx=\"6\" cy=\"6\" fill=\"#878787\" r=\"6\"></circle><path d=\"M3 6l2 2 4-4\" fill=\"#878787\" stroke=\"#FFF\" stroke-width=\"1.5\"></path></g></svg><p class=\"_2mcZGG\" id=\"review-8051c96d-0e18-4340-a264-7cfdb7fda911\"><span>Certified Buyer</span></p><p class=\"_2sc7ZR\">3 months ago</p></div></div></div></div></div><div class=\"_2tzWk4\"><div class=\"_1A_Aux\">Recent Review</div><div class=\"col\"><div class=\"col _2wzgFH _2cVXgz\"><div class=\"row\"><div class=\"_3LWZlK _1BLPMq\">3<img class=\"_1wB99o\" src=\"data:image/svg+xml;base64,PHN2ZyB4bWxucz0iaHR0cDovL3d3dy53My5vcmcvMjAwMC9zdmciIHdpZHRoPSIxMyIgaGVpZ2h0PSIxMiI+PHBhdGggZmlsbD0iI0ZGRiIgZD0iTTYuNSA5LjQzOWwtMy42NzQgMi4yMy45NC00LjI2LTMuMjEtMi44ODMgNC4yNTQtLjQwNEw2LjUuMTEybDEuNjkgNC4wMSA0LjI1NC40MDQtMy4yMSAyLjg4Mi45NCA0LjI2eiIvPjwvc3ZnPg==\"/></div><p class=\"_2-N8zT\">Nice</p></div><div class=\"row\"><div class=\"t-ZTKy\"><div><div class=\"\">Screen is very Cheap hard to see anything from aa wide angle</div><span class=\"_1H-bmy\"><span>Read full review</span></span></div></div></div><div class=\"row _3n8db9\"><div class=\"row\"><p class=\"_2sc7ZR _2V5EHH\">Harsh Mehla</p><svg class=\"_2a1p_T\" height=\"14\" viewBox=\"0 0 12 12\" width=\"14\" xmlns=\"http://www.w3.org/2000/svg\"><g><circle cx=\"6\" cy=\"6\" fill=\"#878787\" r=\"6\"></circle><path d=\"M3 6l2 2 4-4\" fill=\"#878787\" stroke=\"#FFF\" stroke-width=\"1.5\"></path></g></svg><p class=\"_2mcZGG\" id=\"review-04b96d7a-009d-4742-8eb7-d4dd892ae3a7\"><span>Certified Buyer</span></p><p class=\"_2sc7ZR\">4 days ago</p></div></div></div></div></div></div></div></div><div class=\"_1AtVbE col-12-12\"></div></div><footer class=\"_3voSl0\"><div class=\"_3rc_xQ\"><div class=\"row\"><div class=\"col gu12 _8Qljeg\"></div></div><div><div class=\"_2WErco row\"><div class=\"_2Brcj4\"><div class=\"_3-dnWo\">ABOUT</div><a class=\"_1arVWX\" href=\"/helpcentre?otracker=undefined_footer_navlinks\">Contact Us</a><a class=\"_1arVWX\" href=\"/about-us?otracker=undefined_footer_navlinks\">About Us</a><a class=\"_1arVWX\" href=\"https://www.flipkartcareers.com/?otracker=undefined_footer_navlinks\">Careers</a><a class=\"_1arVWX\" href=\"http://stories.flipkart.com/?otracker=undefined_footer_navlinks\">Flipkart Stories</a><a class=\"_1arVWX\" href=\"/s/press?otracker=undefined_footer_navlinks\">Press</a><a class=\"_1arVWX\" href=\"https://www.flipkartwholesale.com/?otracker=undefined_footer_navlinks\" rel=\"noopener noreferrer\" target=\"_blank\">Flipkart Wholesale</a><a class=\"_1arVWX\" href=\"/corporate-information\">Corporate Information</a></div><div class=\"_2Brcj4\"><div class=\"_3-dnWo\">HELP</div><a class=\"_1arVWX\" href=\"/pages/payments\">Payments</a><a class=\"_1arVWX\" href=\"/pages/shipping\">Shipping</a><a class=\"_1arVWX\" href=\"/helpcentre?catalog=55c9c6edb000002e002c1701&amp;view=CATALOG\">Cancellation &amp; Returns</a><a class=\"_1arVWX\" href=\"/helpcentre?catalog=55c9c8e2b0000023002c1702&amp;view=CATALOG\">FAQ</a><a class=\"_1arVWX\" href=\"https://seller.flipkart.com/fiv?otracker=undefined_footer_navlinks\">Report Infringement</a></div><div class=\"_2Brcj4\"><div class=\"_3-dnWo\">POLICY</div><a class=\"_1arVWX\" href=\"/pages/returnpolicy?otracker=undefined_footer_navlinks\">Return Policy</a><a class=\"_1arVWX\" href=\"/pages/terms?otracker=undefined_footer_navlinks\">Terms Of Use</a><a class=\"_1arVWX\" href=\"/pages/paymentsecurity?otracker=undefined_footer_navlinks\">Security</a><a class=\"_1arVWX\" href=\"/pages/privacypolicy?otracker=undefined_footer_navlinks\">Privacy</a><a class=\"_1arVWX\" href=\"/sitemap?otracker=undefined_footer_navlinks\">Sitemap</a><a class=\"_1arVWX\" href=\"/pages/ewaste-compliance-tnc?otracker=undefined_footer_navlinks\">EPR Compliance</a></div><div class=\"_2Brcj4\"><div class=\"_3-dnWo\">SOCIAL</div><a class=\"_1arVWX\" href=\"https://www.facebook.com/flipkart\">Facebook</a><a class=\"_1arVWX\" href=\"https://www.twitter.com/flipkart\">Twitter</a><a class=\"_1arVWX\" href=\"https://www.youtube.com/flipkart\">YouTube</a></div><div class=\"_2Brcj4 address\"><div class=\"_3JHi0r\"><div class=\"_3-dnWo\"><span>Mail Us:</span></div><div class=\"_1U1qnR\"><div class=\"_1LJS6T\"><div class=\"_2NKhZn _1U1qnR\"><p>Flipkart Internet Private Limited, </p>\n",
      "<p> Buildings Alyssa, Begonia &amp; </p>\n",
      "<p> Clove Embassy Tech Village, </p>\n",
      "<p> Outer Ring Road, Devarabeesanahalli Village, </p>\n",
      "<p> Bengaluru, 560103, </p>\n",
      "<p> Karnataka, India</p>\n",
      "</div></div></div></div></div><div class=\"_2Brcj4 address\"><div class=\"_3IT4e6\"><div class=\"_3-dnWo\"><span>Registered Office Address:</span></div><div class=\"_1U1qnR\"><div class=\"_1LJS6T\"><div class=\"_2NKhZn _1U1qnR\"><p>Flipkart Internet Private Limited, </p>\n",
      "<p> Buildings Alyssa, Begonia &amp; </p>\n",
      "<p> Clove Embassy Tech Village, </p>\n",
      "<p> Outer Ring Road, Devarabeesanahalli Village, </p>\n",
      "<p> Bengaluru, 560103, </p>\n",
      "<p> Karnataka, India </p>\n",
      "<p> CIN : U51109KA2012PTC066107 </p>\n",
      "<p> Telephone: <a href=\"tel:18002029898\">044-45614700</a></p>\n",
      "</div></div></div></div></div></div><div><div class=\"_2uz0vJ\"><div><img src=\"data:image/svg+xml;base64,PHN2ZyB4bWxucz0iaHR0cDovL3d3dy53My5vcmcvMjAwMC9zdmciIHdpZHRoPSIxNiIgaGVpZ2h0PSIxNSIgdmlld0JveD0iMCAwIDE2IDE1Ij4KICAgIDxkZWZzPgogICAgICAgIDxsaW5lYXJHcmFkaWVudCBpZD0iYSIgeDE9IjAlIiB4Mj0iODYuODc2JSIgeTE9IjAlIiB5Mj0iODAuMjAyJSI+CiAgICAgICAgICAgIDxzdG9wIG9mZnNldD0iMCUiIHN0b3AtY29sb3I9IiNGRkQ4MDAiLz4KICAgICAgICAgICAgPHN0b3Agb2Zmc2V0PSIxMDAlIiBzdG9wLWNvbG9yPSIjRkZBRjAwIi8+CiAgICAgICAgPC9saW5lYXJHcmFkaWVudD4KICAgIDwvZGVmcz4KICAgIDxnIGZpbGw9Im5vbmUiIGZpbGwtcnVsZT0iZXZlbm9kZCI+CiAgICAgICAgPHBhdGggZD0iTS0yLTJoMjB2MjBILTJ6Ii8+CiAgICAgICAgPHBhdGggZmlsbD0idXJsKCNhKSIgZmlsbC1ydWxlPSJub256ZXJvIiBkPSJNMTUuOTMgNS42MTRoLTIuOTQ4VjQuMTRjMC0uODE4LS42NTUtMS40NzMtMS40NzMtMS40NzNIOC41NmMtLjgxNyAwLTEuNDczLjY1NS0xLjQ3MyAxLjQ3M3YxLjQ3NEg0LjE0Yy0uODE4IDAtMS40NjYuNjU2LTEuNDY2IDEuNDc0bC0uMDA3IDguMTA1YzAgLjgxOC42NTUgMS40NzQgMS40NzMgMS40NzRoMTEuNzljLjgxOCAwIDEuNDc0LS42NTYgMS40NzQtMS40NzRWNy4wODhjMC0uODE4LS42NTYtMS40NzQtMS40NzQtMS40NzR6bS00LjQyMSAwSDguNTZWNC4xNGgyLjk0OHYxLjQ3NHoiIHRyYW5zZm9ybT0idHJhbnNsYXRlKC0yIC0yKSIvPgogICAgPC9nPgo8L3N2Zz4K\"/><a href=\"https://seller.flipkart.com/?utm_source=fkwebsite&amp;utm_medium=websitedirect\"><span class=\"hDTmm5\">Become a Seller</span></a></div><div><img src=\"data:image/svg+xml;base64,PHN2ZyB4bWxucz0iaHR0cDovL3d3dy53My5vcmcvMjAwMC9zdmciIHdpZHRoPSIxNSIgaGVpZ2h0PSIxNSIgdmlld0JveD0iMCAwIDE1IDE1Ij4KICAgIDxkZWZzPgogICAgICAgIDxsaW5lYXJHcmFkaWVudCBpZD0iYSIgeDE9IjAlIiB4Mj0iODYuODc2JSIgeTE9IjAlIiB5Mj0iODAuMjAyJSI+CiAgICAgICAgICAgIDxzdG9wIG9mZnNldD0iMCUiIHN0b3AtY29sb3I9IiNGRkQ4MDAiLz4KICAgICAgICAgICAgPHN0b3Agb2Zmc2V0PSIxMDAlIiBzdG9wLWNvbG9yPSIjRkZBRjAwIi8+CiAgICAgICAgPC9saW5lYXJHcmFkaWVudD4KICAgIDwvZGVmcz4KICAgIDxnIGZpbGw9Im5vbmUiIGZpbGwtcnVsZT0iZXZlbm9kZCI+CiAgICAgICAgPHBhdGggZD0iTS0zLTNoMjB2MjBILTN6Ii8+CiAgICAgICAgPHBhdGggZmlsbD0idXJsKCNhKSIgZmlsbC1ydWxlPSJub256ZXJvIiBkPSJNMTAuNDkyIDNDNi4zNTMgMyAzIDYuMzYgMyAxMC41YzAgNC4xNCAzLjM1MyA3LjUgNy40OTIgNy41QzE0LjY0IDE4IDE4IDE0LjY0IDE4IDEwLjUgMTggNi4zNiAxNC42NCAzIDEwLjQ5MiAzem0zLjE4IDEyTDEwLjUgMTMuMDg4IDcuMzI3IDE1bC44NC0zLjYwN0w1LjM3IDguOTdsMy42OS0uMzE1TDEwLjUgNS4yNWwxLjQ0IDMuMzk4IDMuNjkuMzE1LTIuNzk4IDIuNDIyLjg0IDMuNjE1eiIgdHJhbnNmb3JtPSJ0cmFuc2xhdGUoLTMgLTMpIi8+CiAgICA8L2c+Cjwvc3ZnPgo=\"/><a href=\"https://brands.flipkart.com\"><span class=\"hDTmm5\">Advertise</span></a></div><div><img src=\"data:image/svg+xml;base64,PHN2ZyB4bWxucz0iaHR0cDovL3d3dy53My5vcmcvMjAwMC9zdmciIHdpZHRoPSIxOCIgaGVpZ2h0PSIxNyIgdmlld0JveD0iMCAwIDE4IDE3Ij4KICAgIDxkZWZzPgogICAgICAgIDxsaW5lYXJHcmFkaWVudCBpZD0iYSIgeDE9IjAlIiB4Mj0iODYuODc2JSIgeTE9IjAlIiB5Mj0iODAuMjAyJSI+CiAgICAgICAgICAgIDxzdG9wIG9mZnNldD0iMCUiIHN0b3AtY29sb3I9IiNGRkQ4MDAiLz4KICAgICAgICAgICAgPHN0b3Agb2Zmc2V0PSIxMDAlIiBzdG9wLWNvbG9yPSIjRkZBRjAwIi8+CiAgICAgICAgPC9saW5lYXJHcmFkaWVudD4KICAgIDwvZGVmcz4KICAgIDxnIGZpbGw9Im5vbmUiIGZpbGwtcnVsZT0iZXZlbm9kZCI+CiAgICAgICAgPHBhdGggZD0iTS0xLTFoMjB2MjBILTF6Ii8+CiAgICAgICAgPHBhdGggZmlsbD0idXJsKCNhKSIgZmlsbC1ydWxlPSJub256ZXJvIiBkPSJNMTYuNjY3IDVIMTQuODVjLjA5Mi0uMjU4LjE1LS41NDIuMTUtLjgzM2EyLjQ5NyAyLjQ5NyAwIDAgMC00LjU4My0xLjM3NUwxMCAzLjM1bC0uNDE3LS41NjdBMi41MSAyLjUxIDAgMCAwIDcuNSAxLjY2N2EyLjQ5NyAyLjQ5NyAwIDAgMC0yLjUgMi41YzAgLjI5MS4wNTguNTc1LjE1LjgzM0gzLjMzM2MtLjkyNSAwLTEuNjU4Ljc0Mi0xLjY1OCAxLjY2N2wtLjAwOCA5LjE2NkExLjY2IDEuNjYgMCAwIDAgMy4zMzMgMTcuNWgxMy4zMzRhMS42NiAxLjY2IDAgMCAwIDEuNjY2LTEuNjY3VjYuNjY3QTEuNjYgMS42NiAwIDAgMCAxNi42NjcgNXptMCA2LjY2N0gzLjMzM3YtNWg0LjIzNEw1LjgzMyA5LjAyNWwxLjM1Ljk3NSAxLjk4NC0yLjdMMTAgNi4xNjdsLjgzMyAxLjEzMyAxLjk4NCAyLjcgMS4zNS0uOTc1LTEuNzM0LTIuMzU4aDQuMjM0djV6IiB0cmFuc2Zvcm09InRyYW5zbGF0ZSgtMSAtMSkiLz4KICAgIDwvZz4KPC9zdmc+Cg==\"/><a href=\"/the-gift-card-store?otracker=undefined_footer_footer_navlinks\"><span class=\"hDTmm5\">Gift Cards</span></a></div><div><img src=\"data:image/svg+xml;base64,PHN2ZyB4bWxucz0iaHR0cDovL3d3dy53My5vcmcvMjAwMC9zdmciIHdpZHRoPSIxNSIgaGVpZ2h0PSIxNSIgdmlld0JveD0iMCAwIDE1IDE1Ij4KICAgIDxkZWZzPgogICAgICAgIDxsaW5lYXJHcmFkaWVudCBpZD0iYSIgeDE9IjAlIiB4Mj0iODYuODc2JSIgeTE9IjAlIiB5Mj0iODAuMjAyJSI+CiAgICAgICAgICAgIDxzdG9wIG9mZnNldD0iMCUiIHN0b3AtY29sb3I9IiNGRkQ4MDAiLz4KICAgICAgICAgICAgPHN0b3Agb2Zmc2V0PSIxMDAlIiBzdG9wLWNvbG9yPSIjRkZBRjAwIi8+CiAgICAgICAgPC9saW5lYXJHcmFkaWVudD4KICAgIDwvZGVmcz4KICAgIDxnIGZpbGw9Im5vbmUiIGZpbGwtcnVsZT0iZXZlbm9kZCI+CiAgICAgICAgPHBhdGggZD0iTS0yLTNoMjB2MjBILTJ6Ii8+CiAgICAgICAgPHBhdGggZmlsbD0idXJsKCNhKSIgZmlsbC1ydWxlPSJub256ZXJvIiBkPSJNOS41IDNDNS4zNiAzIDIgNi4zNiAyIDEwLjUgMiAxNC42NCA1LjM2IDE4IDkuNSAxOGM0LjE0IDAgNy41LTMuMzYgNy41LTcuNUMxNyA2LjM2IDEzLjY0IDMgOS41IDN6bS43NSAxMi43NWgtMS41di0xLjVoMS41djEuNXptMS41NTMtNS44MTNsLS42NzYuNjljLS41NC41NDgtLjg3Ny45OTgtLjg3NyAyLjEyM2gtMS41di0uMzc1YzAtLjgyNS4zMzgtMS41NzUuODc3LTIuMTIzbC45My0uOTQ1Yy4yNzgtLjI3LjQ0My0uNjQ1LjQ0My0xLjA1NyAwLS44MjUtLjY3NS0xLjUtMS41LTEuNVM4IDcuNDI1IDggOC4yNUg2LjVhMyAzIDAgMSAxIDYgMGMwIC42Ni0uMjcgMS4yNi0uNjk3IDEuNjg4eiIgdHJhbnNmb3JtPSJ0cmFuc2xhdGUoLTIgLTMpIi8+CiAgICA8L2c+Cjwvc3ZnPgo=\"/><a href=\"/helpcentre?otracker=undefined_footer_footer_navlinks\"><span class=\"hDTmm5\">Help Center</span></a></div><span class=\"z3ht-w\">© 2007-<!-- -->2023<!-- --> <span>Flipkart.com</span></span><img src=\"//static-assets-web.flixcart.com/fk-p-linchpin-web/fk-cp-zion/img/payment-method_69e7ec.svg\"/></div></div></div></div></footer><div class=\"_1EcK2J _38JCdA\"><div class=\"bra6U8\"><svg class=\"_2TdLiZ\" height=\"27\" viewBox=\"0 0 16 27\" width=\"16\" xmlns=\"http://www.w3.org/2000/svg\"><path class=\"_3ZKfA2\" d=\"M16 23.207L6.11 13.161 16 3.093 12.955 0 0 13.161l12.955 13.161z\" fill=\"#fff\"></path></svg><span>Back to top</span></div></div></div></div> <script id=\"jsonLD\" nonce=\"3209840418813326372\" type=\"application/ld+json\">{\"@context\":\"http://schema.org\",\"@type\":\"ItemList\",\"itemListElement\":[{\"@type\":\"ListItem\",\"position\":1,\"url\":\"https://www.flipkart.com/asus-celeron-dual-core-4-gb-1-tb-hdd-windows-10-home-x543ma-gq1015t-laptop/p/itmf8811674edbeb?pid=COMFSKF9UQH8RKYF&lid=LSTCOMFSKF9UQH8RKYFZNEOSL&marketplace=FLIPKART&q=laptop&store=6bo%2Fb5g\",\"name\":\"ASUS Celeron Dual Core - (4 GB/1 TB HDD/Windows 10 Home) X543MA-GQ1015T Laptop\"},{\"@type\":\"ListItem\",\"position\":2,\"url\":\"https://www.flipkart.com/asus-vivobook-14-2021-celeron-dual-core-4-gb-256-gb-ssd-windows-11-home-x415ma-bv011w-thin-light-laptop/p/itm8f9bebd99f5c0?pid=COMGBH774UHWUFQF&lid=LSTCOMGBH774UHWUFQFHH2XKA&marketplace=FLIPKART&q=laptop&store=6bo%2Fb5g\",\"name\":\"ASUS VivoBook 14 (2021) Celeron Dual Core - (4 GB/256 GB SSD/Windows 11 Home) X415MA-BV011W Thin and Light Laptop\"},{\"@type\":\"ListItem\",\"position\":3,\"url\":\"https://www.flipkart.com/hp-athlon-dual-core-3050u-8-gb-512-gb-ssd-windows-11-home-15s-eq1559au-thin-light-laptop/p/itm805c7d908648d?pid=COMGG63HRV3GFN4G&lid=LSTCOMGG63HRV3GFN4GQBG9TC&marketplace=FLIPKART&q=laptop&store=6bo%2Fb5g\",\"name\":\"HP Athlon Dual Core 3050U - (8 GB/512 GB SSD/Windows 11 Home) 15s- eq1559AU Thin and Light Laptop\"},{\"@type\":\"ListItem\",\"position\":4,\"url\":\"https://www.flipkart.com/asus-vivobook-15-2022-core-i3-10th-gen-8-gb-512-gb-ssd-windows-11-home-x515ja-ej362ws-x515ja-ej392ws-thin-light-laptop/p/itm91aabc9853532?pid=COMG87FFPEDAAGXW&lid=LSTCOMG87FFPEDAAGXWTMCIPI&marketplace=FLIPKART&q=laptop&store=6bo%2Fb5g\",\"name\":\"ASUS VivoBook 15 (2022) Core i3 10th Gen - (8 GB/512 GB SSD/Windows 11 Home) X515JA-EJ362WS | X515JA-EJ392WS Thin and Light Laptop\"},{\"@type\":\"ListItem\",\"position\":5,\"url\":\"https://www.flipkart.com/hp-pavilion-ryzen-5-hexa-core-amd-r5-5600h-8-gb-512-gb-ssd-windows-10-4-graphics-nvidia-geforce-gtx-1650-144-hz-15-ec2004ax-gaming-laptop/p/itm98c94bbf9bc20?pid=COMG5GZXPWMGTNWS&lid=LSTCOMG5GZXPWMGTNWSQE9WVW&marketplace=FLIPKART&q=laptop&store=6bo%2Fb5g&spotlightTagId=BestsellerId_6bo%2Fb5g\",\"name\":\"HP Pavilion Ryzen 5 Hexa Core AMD R5-5600H - (8 GB/512 GB SSD/Windows 10/4 GB Graphics/NVIDIA GeForce GTX 1650/144 Hz) 15-ec2004AX Gaming Laptop\"},{\"@type\":\"ListItem\",\"position\":6,\"url\":\"https://www.flipkart.com/hp-14s-intel-core-i3-11th-gen-8-gb-256-gb-ssd-windows-11-home-dy2507tu-thin-light-laptop/p/itm183e95bd1f23b?pid=COMGG63H9BFFUYVY&lid=LSTCOMGG63H9BFFUYVYFHH552&marketplace=FLIPKART&q=laptop&store=6bo%2Fb5g\",\"name\":\"HP 14s Intel Core i3 11th Gen - (8 GB/256 GB SSD/Windows 11 Home) 14s - dy2507TU Thin and Light Laptop\"},{\"@type\":\"ListItem\",\"position\":7,\"url\":\"https://www.flipkart.com/lenovo-intel-celeron-dual-core-8-gb-256-gb-ssd-windows-11-home-81wq00mqin-81wq00nxin-laptop/p/itm2560cd9192f02?pid=COMGDMXVJJB2HGMY&lid=LSTCOMGDMXVJJB2HGMYLAIFLM&marketplace=FLIPKART&q=laptop&store=6bo%2Fb5g\",\"name\":\"Lenovo Intel Celeron Dual Core - (8 GB/256 GB SSD/Windows 11 Home) 81WQ00MQIN|81WQ00NXIN Laptop\"},{\"@type\":\"ListItem\",\"position\":8,\"url\":\"https://www.flipkart.com/nokia-purebook-s14-core-i5-11th-gen-16-gb-512-gb-ssd-windows-11-home-nki511tl165s-thin-light-laptop/p/itmb8904b8f72a2e?pid=COMG3FAWJKFWGWFZ&lid=LSTCOMG3FAWJKFWGWFZWFYJRE&marketplace=FLIPKART&q=laptop&store=6bo%2Fb5g\",\"name\":\"Nokia PureBook S14 Core i5 11th Gen - (16 GB/512 GB SSD/Windows 11 Home) NKi511TL165S Thin and Light Laptop\"},{\"@type\":\"ListItem\",\"position\":9,\"url\":\"https://www.flipkart.com/lenovo-v15-g2-core-i3-11th-gen-8-gb-512-gb-ssd-windows-11-home-itl-laptop/p/itmaf2c39ebc5889?pid=COMGHTE8G8FXQJVN&lid=LSTCOMGHTE8G8FXQJVNTMAYRQ&marketplace=FLIPKART&q=laptop&store=6bo%2Fb5g\",\"name\":\"Lenovo V15 G2 Core i3 11th Gen - (8 GB/512 GB SSD/Windows 11 Home) V15 ITL G2 Laptop\"},{\"@type\":\"ListItem\",\"position\":10,\"url\":\"https://www.flipkart.com/acer-aspire-3-ryzen-dual-core-3250u-8-gb-256-gb-ssd-windows-11-home-a315-23-laptop/p/itm6961e2f1ddc21?pid=COMGFY85CRF3KF5W&lid=LSTCOMGFY85CRF3KF5WFX1VHM&marketplace=FLIPKART&q=laptop&store=6bo%2Fb5g\",\"name\":\"acer Aspire 3 Ryzen 3 Dual Core 3250U - (8 GB/256 GB SSD/Windows 11 Home) A315-23 Laptop\"}]}</script> <script id=\"jsonLD\" nonce=\"3209840418813326372\" type=\"application/ld+json\">{}</script><script nonce=\"3209840418813326372\" type=\"application/ld+json\">{\n",
      "    \"@context\": \"http://schema.org\",\n",
      "    \"@type\": \"WebSite\",\n",
      "    \"url\": \"http://www.flipkart.com/\",\n",
      "    \"potentialAction\": [{\n",
      "        \"@type\": \"SearchAction\",\n",
      "        \"target\": \"http://www.flipkart.com/search?q={search_term_string}\",\n",
      "        \"query-input\": \"required name=search_term_string\"\n",
      "        },{\n",
      "        \"@type\": \"SearchAction\",\n",
      "        \"target\": \"android-app://com.flipkart.android/flipkart/de_sq_seg_-search.flipkart.com-_{search_term_string}\",\n",
      "        \"query-input\": \"required name=search_term_string\"\n",
      "    }]\n",
      "}</script><script id=\"is_script\" nonce=\"3209840418813326372\">window.__INITIAL_STATE__ = {};</script> <link data-chunk=\"NavMenu\" href=\"//static-assets-web.flixcart.com/fk-p-linchpin-web/fk-cp-zion/css/NavMenu.chunk.1c9f80.css\" rel=\"stylesheet\"/>\n",
      "<link data-chunk=\"SearchFeedback\" href=\"//static-assets-web.flixcart.com/fk-p-linchpin-web/fk-cp-zion/css/SearchFeedback.chunk.d0537a.css\" rel=\"stylesheet\"/> <script id=\"__LOADABLE_REQUIRED_CHUNKS__\" type=\"application/json\">[119,191]</script><script id=\"__LOADABLE_REQUIRED_CHUNKS___ext\" type=\"application/json\">{\"namedChunks\":[\"NavMenu\",\"SearchFeedback\"]}</script>\n",
      "<script async=\"\" data-chunk=\"NavMenu\" src=\"//static-assets-web.flixcart.com/fk-p-linchpin-web/fk-cp-zion/js/NavMenu.chunk.450e4c0d.js\"></script>\n",
      "<script async=\"\" data-chunk=\"SearchFeedback\" src=\"//static-assets-web.flixcart.com/fk-p-linchpin-web/fk-cp-zion/js/SearchFeedback.chunk.0df000dd.js\"></script><script nonce=\"3209840418813326372\">window.omniture={tpv:[],tl:[]};window.omniture.trackPageView=function(){window.omniture.tpv.push(arguments)};window.omniture.trackLink=function(){window.omniture.tl.push(arguments)}\n",
      "\n",
      "    if(window.location.host === 'www.flipkart.com' || /\\.store\\.flipkart\\.com/i.test(window.location.host)){\n",
      "        window.s_account = \"flipkart-prd\"; //omniture account id\n",
      "    }else{\n",
      "        window.s_account = \"flipkart-prd-test\";\n",
      "    }\n",
      "    window.s_isDesktop = true;</script><script nonce=\"3209840418813326372\">if ('serviceWorker' in navigator && navigator.userAgent.indexOf(\"Mobile\") === -1) {\n",
      "\t\tnavigator.serviceWorker.register('/sw.js').then(function(registration) {\n",
      "\t\t\tconsole.log('ServiceWorker registration successful with scope: ', registration.scope);\n",
      "\t\t\tnavigator.onLine && navigator.serviceWorker.controller && navigator.serviceWorker.controller.postMessage('BANDWIDTH_COMPUTE');\n",
      "\t\t\tnavigator.serviceWorker.addEventListener('message', function (event) {\n",
      "\t\t\t\ttry {\n",
      "\t\t\t\t\tconst bandwidthData = JSON.parse(event.data);\n",
      "\t\t\t\t\tif (bandwidthData && bandwidthData.data) {\n",
      "\t\t\t\t\t\twindow.bandwidth = bandwidthData.data.downlink + '_' + bandwidthData.data.computeMethod + '_' + bandwidthData.data.effectiveType + '_' + bandwidthData.data.type;\n",
      "\t\t\t\t\t}\n",
      "\t\t\t\t}catch(err) {\n",
      "\t\t\t\t\tconsole.error('JSON.parse failed:', err);\n",
      "\t\t\t\t}\n",
      "\t\t\t});\n",
      "\t\t})\n",
      "\t\t.catch(function(err) {\n",
      "\t\t\tconsole.error('ServiceWorker registration failed: ', err);\n",
      "\t\t});\n",
      "\t} else if('serviceWorker' in navigator && navigator.userAgent.indexOf(\"Mobile\") > -1){\n",
      "        navigator.serviceWorker.getRegistration().then(function(registration) {\n",
      "            var serviceWorkerUnregistered=false;\n",
      "            if(registration) {\n",
      "                registration.unregister();\n",
      "                serviceWorkerUnregistered=true;\n",
      "            }\n",
      "            serviceWorkerUnregistered && window.location.reload();\n",
      "        });\n",
      "    }</script> <script async=\"\" defer=\"defer\" id=\"omni_script\" nonce=\"3209840418813326372\" src=\"///www/linchpin/batman-returns/omni/omni16.js\"></script>   <script nonce=\"3209840418813326372\">window._pxAppId = 'PXgNtTli3A';</script><script async=\"\" nonce=\"3209840418813326372\" src=\"///px/gNtTli3A/init.js\"></script></body></html>\n"
     ]
    }
   ],
   "source": [
    "data = BeautifulSoup(response.content,'html5lib')\n",
    "print(data)"
   ]
  },
  {
   "cell_type": "code",
   "execution_count": 7,
   "id": "5d2c4d16",
   "metadata": {},
   "outputs": [
    {
     "name": "stdout",
     "output_type": "stream",
     "text": [
      "<div class=\"_4rR01T\">ASUS Celeron Dual Core - (4 GB/1 TB HDD/Windows 10 Home) X543MA-GQ1015T Laptop</div>\n",
      "ASUS Celeron Dual Core - (4 GB/1 TB HDD/Windows 10 Home) X543MA-GQ1015T Laptop\n"
     ]
    }
   ],
   "source": [
    "# <div class=\"_4rR01T\">HP Athlon Dual Core 3050U - (8 GB/512 GB SSD/Windows 11 Home) 15s- eq1559AU Thin and Light Laptop</div>\n",
    "a = data.find('div',attrs={'class':'_4rR01T'})\n",
    "print(a)\n",
    "print(a.text)  # laptop desc"
   ]
  },
  {
   "cell_type": "code",
   "execution_count": 8,
   "id": "4b6c143b",
   "metadata": {},
   "outputs": [
    {
     "name": "stdout",
     "output_type": "stream",
     "text": [
      "<div class=\"gUuXy-\"><span class=\"_1lRcqv\" id=\"productRating_LSTCOMFSKF9UQH8RKYFZNEOSL_COMFSKF9UQH8RKYF_\"><div class=\"_3LWZlK\">3.7<img class=\"_1wB99o\" src=\"data:image/svg+xml;base64,PHN2ZyB4bWxucz0iaHR0cDovL3d3dy53My5vcmcvMjAwMC9zdmciIHdpZHRoPSIxMyIgaGVpZ2h0PSIxMiI+PHBhdGggZmlsbD0iI0ZGRiIgZD0iTTYuNSA5LjQzOWwtMy42NzQgMi4yMy45NC00LjI2LTMuMjEtMi44ODMgNC4yNTQtLjQwNEw2LjUuMTEybDEuNjkgNC4wMSA0LjI1NC40MDQtMy4yMSAyLjg4Mi45NCA0LjI2eiIvPjwvc3ZnPg==\"/></div></span><span class=\"_2_R_DZ\"><span><span>17,754 Ratings </span><span class=\"_13vcmD\">&amp;</span><span> 2,301 Reviews</span></span></span></div>\n",
      "3.717,754 Ratings & 2,301 Reviews\n",
      "3.7\n",
      "17,754\n",
      "2,301\n"
     ]
    }
   ],
   "source": [
    "# <div class=\"gUuXy-\"><span id=\"productRating_LSTCOMGG63HRV3GFN4GQBG9TC_COMGG63HRV3GFN4G_\" class=\"_1lRcqv\"><div class=\"_3LWZlK\">4<img src=\"data:image/svg+xml;base64,PHN2ZyB4bWxucz0iaHR0cDovL3d3dy53My5vcmcvMjAwMC9zdmciIHdpZHRoPSIxMyIgaGVpZ2h0PSIxMiI+PHBhdGggZmlsbD0iI0ZGRiIgZD0iTTYuNSA5LjQzOWwtMy42NzQgMi4yMy45NC00LjI2LTMuMjEtMi44ODMgNC4yNTQtLjQwNEw2LjUuMTEybDEuNjkgNC4wMSA0LjI1NC40MDQtMy4yMSAyLjg4Mi45NCA0LjI2eiIvPjwvc3ZnPg==\" class=\"_1wB99o\"></div></span><span class=\"_2_R_DZ\"><span><span>869 Ratings&nbsp;</span><span class=\"_13vcmD\">&amp;</span><span>&nbsp;94 b</span></span></span></div>\n",
    "b = data.find('div',attrs={'class':'gUuXy-'})\n",
    "print(b)\n",
    "print(b.text)\n",
    "print(b.text[:3])             # ratings\n",
    "print(b.text.split()[0][3:])  # num of ratings\n",
    "print(b.text.split()[3])      # num of reviews"
   ]
  },
  {
   "cell_type": "code",
   "execution_count": 9,
   "id": "89056b0d",
   "metadata": {},
   "outputs": [
    {
     "name": "stdout",
     "output_type": "stream",
     "text": [
      "<div class=\"_30jeq3 _1_WHN1\">₹22,990</div>\n",
      "₹22,990\n"
     ]
    }
   ],
   "source": [
    "c = data.find('div',attrs={'class':'_30jeq3 _1_WHN1'})\n",
    "print(c)\n",
    "print(c.text)   # price\n",
    "# <div class=\"_30jeq3 _1_WHN1\">₹33,990</div>"
   ]
  },
  {
   "cell_type": "code",
   "execution_count": 10,
   "id": "44204b19",
   "metadata": {},
   "outputs": [
    {
     "name": "stdout",
     "output_type": "stream",
     "text": [
      "<div class=\"_3tbKJL\"><div class=\"_25b18c\"><div class=\"_30jeq3 _1_WHN1\">₹22,990</div><div class=\"_3I9_wc _27UcVY\">₹<!-- -->30,990</div><div class=\"_3Ay6Sb\"><span>25% off</span></div></div><div class=\"_3tcB5a p8ucoS\"><div><div class=\"_2Tpdn3\" style=\"color:#000000;font-size:12px;font-weight:400\">Free delivery</div></div></div></div>\n",
      "₹22,990₹30,99025% offFree delivery\n",
      "['', '22,990', '30,99025% offFree delivery']\n",
      "22,990\n",
      "30,990\n",
      "25%\n"
     ]
    }
   ],
   "source": [
    "d = data.find('div',attrs={'class':'_3tbKJL'})\n",
    "print(d)\n",
    "print(d.text)          \n",
    "print(d.text.split('₹'))\n",
    "print(d.text.split('₹')[1])                  # discounted price\n",
    "print(d.text.split('₹')[2][:6])              # acutal price\n",
    "print(d.text.split('₹')[2].split()[0][-3:])  # percent discount\n",
    "# <div class=\"_3tbKJL\"><div class=\"_25b18c\"><div class=\"_30jeq3 _1_WHN1\">₹29,490</div><div class=\"_3I9_wc _27UcVY\">₹39,288</div><div class=\"_3Ay6Sb\"><span>24% off</span></div></div><div class=\"_3tcB5a p8ucoS\"><div><div class=\"_2Tpdn3\" style=\"color: rgb(0, 0, 0); font-size: 12px; font-weight: 400;\">Free delivery</div></div></div></div>"
   ]
  },
  {
   "cell_type": "code",
   "execution_count": 11,
   "id": "bd272ced",
   "metadata": {},
   "outputs": [
    {
     "name": "stdout",
     "output_type": "stream",
     "text": [
      "24\n"
     ]
    }
   ],
   "source": [
    "ldesc = []\n",
    "for i in data.findAll('div',attrs={'class':'_4rR01T'}):\n",
    "    ldesc.append(i.text)\n",
    "print(len(ldesc))"
   ]
  },
  {
   "cell_type": "code",
   "execution_count": 12,
   "id": "2b68b10f",
   "metadata": {},
   "outputs": [
    {
     "name": "stdout",
     "output_type": "stream",
     "text": [
      "['ASUS Celeron Dual Core - (4 GB/1 TB HDD/Windows 10 Home) X543MA-GQ1015T Laptop', 'ASUS VivoBook 14 (2021) Celeron Dual Core - (4 GB/256 GB SSD/Windows 11 Home) X415MA-BV011W Thin and L...', 'HP Athlon Dual Core 3050U - (8 GB/512 GB SSD/Windows 11 Home) 15s- eq1559AU Thin and Light Laptop', 'ASUS VivoBook 15 (2022) Core i3 10th Gen - (8 GB/512 GB SSD/Windows 11 Home) X515JA-EJ362WS | X515JA-E...', 'HP Pavilion Ryzen 5 Hexa Core AMD R5-5600H - (8 GB/512 GB SSD/Windows 10/4 GB Graphics/NVIDIA GeForce ...', 'HP 14s Intel Core i3 11th Gen - (8 GB/256 GB SSD/Windows 11 Home) 14s - dy2507TU Thin and Light Laptop', 'Lenovo Intel Celeron Dual Core - (8 GB/256 GB SSD/Windows 11 Home) 81WQ00MQIN|81WQ00NXIN Laptop', 'Nokia PureBook S14 Core i5 11th Gen - (16 GB/512 GB SSD/Windows 11 Home) NKi511TL165S Thin and Light L...', 'Lenovo V15 G2 Core i3 11th Gen - (8 GB/512 GB SSD/Windows 11 Home) V15 ITL G2 Laptop', 'acer Aspire 3 Ryzen 3 Dual Core 3250U - (8 GB/256 GB SSD/Windows 11 Home) A315-23 Laptop', 'ASUS TUF Gaming A17 with 90Whr Battery Ryzen 5 Hexa Core AMD R5-4600H - (8 GB/512 GB SSD/Windows 11 Ho...', 'Infinix INBook X1 Core i5 10th Gen - (8 GB/512 GB SSD/Windows 11 Home) XL11 Thin and Light Laptop', 'DELL Vostro Core i3 11th Gen - (8 GB/1 TB HDD/256 GB SSD/Windows 11 Home) Vostro 3510 Thin and Light L...', 'HP 15s Intel Core i3 11th Gen - (8 GB/512 GB SSD/Windows 11 Home) 15s-fr2511TU Thin and Light Laptop', 'HP Ryzen 5 Hexa Core 5500U - (16 GB/512 GB SSD/Windows 11 Home) 15s- eq2182AU Thin and Light Laptop', 'Nokia PureBook S14 Core i5 10th Gen - (8 GB/512 GB SSD/Windows 10 Home) NKi510TL85S Thin and Light Lap...', 'HP Ryzen 3 Dual Core 3250U - (8 GB/256 GB SSD/Windows 11 Home) 15s-ey1508AU Thin and Light Laptop', 'MSI Bravo 15 Ryzen 5 Hexa Core AMD R5-5600H - (8 GB/512 GB SSD/Windows 11 Home/4 GB Graphics/AMD Radeo...', 'DELL Vostro Pentium Gold - (8 GB/256 GB SSD/Windows 11 Home) Vostro 3510 Thin and Light Laptop', 'DELL Inspiron Core i5 11th Gen - (16 GB/512 GB SSD/Windows 11 Home) Inspiron 5418 Thin and Light Lapto...', 'RedmiBook Pro Core i5 11th Gen - (8 GB/512 GB SSD/Windows 11 Home) Thin and Light Laptop', 'Lenovo Athlon Dual Core 3150U - (4 GB/1 TB HDD/DOS) E41-55 Thin and Light Laptop', 'HP 15s Intel Core i5 12th Gen - (8 GB/512 GB SSD/Windows 11 Home) 15s-fq5111TU Thin and Light Laptop', 'acer Aspire 7 Core i5 12th Gen - (8 GB/512 GB SSD/Windows 11 Home/4 GB Graphics/NVIDIA GeForce GTX 165...']\n"
     ]
    }
   ],
   "source": [
    "print(ldesc)"
   ]
  },
  {
   "cell_type": "code",
   "execution_count": 13,
   "id": "5b080858",
   "metadata": {},
   "outputs": [
    {
     "name": "stdout",
     "output_type": "stream",
     "text": [
      "24\n",
      "['ASUS', 'ASUS', 'HP', 'ASUS', 'HP', 'HP', 'Lenovo', 'Nokia', 'Lenovo', 'acer', 'ASUS', 'Infinix', 'DELL', 'HP', 'HP', 'Nokia', 'HP', 'MSI', 'DELL', 'DELL', 'RedmiBook', 'Lenovo', 'HP', 'acer']\n"
     ]
    }
   ],
   "source": [
    "brand = []\n",
    "for i in data.findAll('div',attrs={'class':'_4rR01T'}):\n",
    "    brand.append(i.text.split()[0])\n",
    "print(len(brand))\n",
    "print(brand)"
   ]
  },
  {
   "cell_type": "code",
   "execution_count": 14,
   "id": "739429bf",
   "metadata": {},
   "outputs": [],
   "source": [
    "ratings = []\n",
    "for i in data.findAll('div',attrs={'class':'gUuXy-'}):\n",
    "    if '.' in i.text:\n",
    "        ratings.append(i.text[:3])\n",
    "    else:\n",
    "        ratings.append(i.text[:1])"
   ]
  },
  {
   "cell_type": "code",
   "execution_count": 15,
   "id": "9c1f3c54",
   "metadata": {},
   "outputs": [
    {
     "name": "stdout",
     "output_type": "stream",
     "text": [
      "24\n",
      "['3.7', '4.1', '4', '4.3', '4.4', '4.2', '4.1', '4', '4', '4.2', '4.4', '4.1', '4.1', '4.2', '4.3', '3.9', '4.1', '4.4', '4.7', '3.9', '4.1', '3.8', '4.2', '4.3']\n"
     ]
    }
   ],
   "source": [
    "print(len(ratings))\n",
    "print(ratings)"
   ]
  },
  {
   "cell_type": "code",
   "execution_count": 16,
   "id": "3d0ddf3f",
   "metadata": {},
   "outputs": [],
   "source": [
    "num_ratings = []\n",
    "num_reviews = []\n",
    "for i in data.findAll('div',attrs={'class':'gUuXy-'}):\n",
    "    if '.' in i.text:\n",
    "        num_ratings.append(i.text.split()[0][3:])\n",
    "    else:\n",
    "        num_ratings.append(i.text.split()[0][1:])\n",
    "    num_reviews.append(i.text.split()[3])"
   ]
  },
  {
   "cell_type": "code",
   "execution_count": 17,
   "id": "f144c555",
   "metadata": {},
   "outputs": [
    {
     "name": "stdout",
     "output_type": "stream",
     "text": [
      "24\n",
      "['17,754', '707', '869', '9,997', '11,907', '1,585', '373', '817', '28', '273', '1,371', '1,686', '39', '328', '279', '460', '1,070', '2,126', '15', '22', '3,663', '13', '1,926', '2,977']\n",
      "24\n",
      "['2,301', '87', '94', '1,002', '1,202', '139', '35', '193', '2', '55', '166', '261', '1', '36', '32', '88', '107', '286', '1', '2', '431', '2', '160', '347']\n"
     ]
    }
   ],
   "source": [
    "print(len(num_ratings))\n",
    "print(num_ratings)\n",
    "print(len(num_reviews))\n",
    "print(num_reviews)"
   ]
  },
  {
   "cell_type": "code",
   "execution_count": 18,
   "id": "f88a609b",
   "metadata": {},
   "outputs": [],
   "source": [
    "dis_price = []\n",
    "act_price = []\n",
    "for i in data.findAll('div',attrs={'class':'_3tbKJL'}):\n",
    "#     print(i.text.split('₹'))\n",
    "    if len(i.text.split('₹'))>2:\n",
    "        dis_price.append(i.text.split('₹')[1])\n",
    "        act_price.append(i.text.split('₹')[2][:6])\n",
    "    else:\n",
    "        dis_price.append(i.text.split('₹')[1])\n",
    "        act_price.append(i.text.split('₹')[1])"
   ]
  },
  {
   "cell_type": "code",
   "execution_count": 19,
   "id": "0e0ae9b9",
   "metadata": {},
   "outputs": [
    {
     "name": "stdout",
     "output_type": "stream",
     "text": [
      "24\n",
      "24\n",
      "['30,990', '33,990', '39,288', '45,990', '63,539', '47,206', '40,490', '82,990', '59,760', '42,999', '71,990', '59,999', '58,489', '50,585', '59,108', '74,990', '43,631', '72,990', '54,392Free delivery', '93,134', '59,999', '29,999', '70,235', '83,999']\n",
      "['22,990', '23,990', '29,490', '33,990', '52,990', '35,490', '25,917', '40,990', '33,999', '26,990', '52,990', '47,999', '37,990', '40,950', '49,123', '43,990', '29,990', '49,990', '54,392Free delivery', '71,900', '39,990', '18,990', '56,999', '57,990']\n"
     ]
    }
   ],
   "source": [
    "print(len(act_price))\n",
    "print(len(dis_price))\n",
    "print(act_price)\n",
    "print(dis_price)"
   ]
  },
  {
   "cell_type": "code",
   "execution_count": 20,
   "id": "9ea35777",
   "metadata": {},
   "outputs": [
    {
     "name": "stdout",
     "output_type": "stream",
     "text": [
      "24\n",
      "['25%', '29%', '24%', '26%', '16%', '24%', '35%', '50%', '43%', '37%', '26%', '20%', '35%', '19%', '16%', '41%', '31%', '31%', '0%', '22%', '33%', '36%', '18%', '30%']\n"
     ]
    }
   ],
   "source": [
    "per_dis = []\n",
    "for i in data.findAll('div',attrs={'class':'_3tbKJL'}):\n",
    "    if len(i.text.split('₹'))>2:\n",
    "        per_dis.append(i.text.split('₹')[2].split()[0][-3:])\n",
    "    else:\n",
    "        per_dis.append('0%')\n",
    "\n",
    "print(len(per_dis))\n",
    "print(per_dis)\n",
    "#     print(i.text.split('₹')[2].split()[0][-3:])"
   ]
  },
  {
   "cell_type": "code",
   "execution_count": 21,
   "id": "f9cadf58",
   "metadata": {},
   "outputs": [
    {
     "name": "stdout",
     "output_type": "stream",
     "text": [
      "<div class=\"fMghEO\"><ul class=\"_1xgFaf\"><li class=\"rgWa7D\">Intel Celeron Dual Core Processor</li><li class=\"rgWa7D\">4 GB DDR4 RAM</li><li class=\"rgWa7D\">64 bit Windows 10 Operating System</li><li class=\"rgWa7D\">1 TB HDD</li><li class=\"rgWa7D\">39.62 cm (15.6 inch) Display</li><li class=\"rgWa7D\">Splendid</li><li class=\"rgWa7D\">1 Year Onsite Warranty</li></ul></div>\n",
      "Intel Celeron Dual Core Processor4 GB DDR4 RAM64 bit Windows 10 Operating System1 TB HDD39.62 cm (15.6 inch) DisplaySplendid1 Year Onsite Warranty\n",
      "Intel Celeron Dual Core Processor\n",
      "4 GB DDR4 RAM\n"
     ]
    }
   ],
   "source": [
    "e = data.find('div',attrs={'class':'fMghEO'})\n",
    "print(e)\n",
    "print(e.text)\n",
    "print(e.ul.li.text)                # processor\n",
    "print(e.ul.li.next_sibling.text)   # ram\n",
    "\n",
    "# <div class=\"fMghEO\"><ul class=\"_1xgFaf\"><li class=\"rgWa7D\">Intel Core i3 Processor (10th Gen)</li><li class=\"rgWa7D\">8 GB DDR4 RAM</li><li class=\"rgWa7D\">64 bit Windows 11 Operating System</li><li class=\"rgWa7D\">512 GB SSD</li><li class=\"rgWa7D\">39.62 cm (15.6 inch) Display</li><li class=\"rgWa7D\">Office Home and Student 2021</li><li class=\"rgWa7D\">1 Year Onsite Warranty</li></ul></div>"
   ]
  },
  {
   "cell_type": "code",
   "execution_count": 22,
   "id": "e1309936",
   "metadata": {},
   "outputs": [
    {
     "name": "stdout",
     "output_type": "stream",
     "text": [
      "24 24\n"
     ]
    }
   ],
   "source": [
    "processor = []\n",
    "ram = []\n",
    "for i in data.findAll('div',attrs={'class':'fMghEO'}):\n",
    "    processor.append(i.ul.li.text)\n",
    "    ram.append(e.ul.li.next_sibling.text)\n",
    "\n",
    "print(len(processor),len(ram))"
   ]
  },
  {
   "cell_type": "markdown",
   "id": "ed8c7feb",
   "metadata": {},
   "source": [
    "### Creating DataFrame"
   ]
  },
  {
   "cell_type": "code",
   "execution_count": null,
   "id": "7a66ae58",
   "metadata": {},
   "outputs": [],
   "source": []
  },
  {
   "cell_type": "code",
   "execution_count": 23,
   "id": "b3303bf0",
   "metadata": {},
   "outputs": [],
   "source": [
    "# laptops = pd.DataFrame({'Brand':brand})\n",
    "# #                        'Processor':processor,'Ram':ram,'Discounted_Price':dis_price,\n",
    "# #                        'Actual_Price':act_price,'Per_Discount':per_dis,'Desc':ldesc,\n",
    "# #                        'Ratings':ratings,'Num_of_ratings':num_ratings,'Num_Reviews':num_reviews})\n",
    "# laptops.head()"
   ]
  },
  {
   "cell_type": "code",
   "execution_count": 24,
   "id": "e76d4ba2",
   "metadata": {},
   "outputs": [
    {
     "data": {
      "text/html": [
       "<div>\n",
       "<style scoped>\n",
       "    .dataframe tbody tr th:only-of-type {\n",
       "        vertical-align: middle;\n",
       "    }\n",
       "\n",
       "    .dataframe tbody tr th {\n",
       "        vertical-align: top;\n",
       "    }\n",
       "\n",
       "    .dataframe thead th {\n",
       "        text-align: right;\n",
       "    }\n",
       "</style>\n",
       "<table border=\"1\" class=\"dataframe\">\n",
       "  <thead>\n",
       "    <tr style=\"text-align: right;\">\n",
       "      <th></th>\n",
       "      <th>Brand</th>\n",
       "      <th>Processor</th>\n",
       "      <th>Ram</th>\n",
       "      <th>Discounted_Price</th>\n",
       "      <th>Actual_Price</th>\n",
       "      <th>Per_Discount</th>\n",
       "      <th>Desc</th>\n",
       "      <th>Ratings</th>\n",
       "      <th>Num_of_ratings</th>\n",
       "      <th>Num_Reviews</th>\n",
       "    </tr>\n",
       "  </thead>\n",
       "  <tbody>\n",
       "    <tr>\n",
       "      <th>0</th>\n",
       "      <td>ASUS</td>\n",
       "      <td>Intel Celeron Dual Core Processor</td>\n",
       "      <td>4 GB DDR4 RAM</td>\n",
       "      <td>22,990</td>\n",
       "      <td>30,990</td>\n",
       "      <td>25%</td>\n",
       "      <td>ASUS Celeron Dual Core - (4 GB/1 TB HDD/Window...</td>\n",
       "      <td>3.7</td>\n",
       "      <td>17,754</td>\n",
       "      <td>2,301</td>\n",
       "    </tr>\n",
       "    <tr>\n",
       "      <th>1</th>\n",
       "      <td>ASUS</td>\n",
       "      <td>Intel Celeron Dual Core Processor</td>\n",
       "      <td>4 GB DDR4 RAM</td>\n",
       "      <td>23,990</td>\n",
       "      <td>33,990</td>\n",
       "      <td>29%</td>\n",
       "      <td>ASUS VivoBook 14 (2021) Celeron Dual Core - (4...</td>\n",
       "      <td>4.1</td>\n",
       "      <td>707</td>\n",
       "      <td>87</td>\n",
       "    </tr>\n",
       "    <tr>\n",
       "      <th>2</th>\n",
       "      <td>HP</td>\n",
       "      <td>AMD Athlon Dual Core Processor</td>\n",
       "      <td>4 GB DDR4 RAM</td>\n",
       "      <td>29,490</td>\n",
       "      <td>39,288</td>\n",
       "      <td>24%</td>\n",
       "      <td>HP Athlon Dual Core 3050U - (8 GB/512 GB SSD/W...</td>\n",
       "      <td>4</td>\n",
       "      <td>869</td>\n",
       "      <td>94</td>\n",
       "    </tr>\n",
       "    <tr>\n",
       "      <th>3</th>\n",
       "      <td>ASUS</td>\n",
       "      <td>Intel Core i3 Processor (10th Gen)</td>\n",
       "      <td>4 GB DDR4 RAM</td>\n",
       "      <td>33,990</td>\n",
       "      <td>45,990</td>\n",
       "      <td>26%</td>\n",
       "      <td>ASUS VivoBook 15 (2022) Core i3 10th Gen - (8 ...</td>\n",
       "      <td>4.3</td>\n",
       "      <td>9,997</td>\n",
       "      <td>1,002</td>\n",
       "    </tr>\n",
       "    <tr>\n",
       "      <th>4</th>\n",
       "      <td>HP</td>\n",
       "      <td>AMD Ryzen 5 Hexa Core Processor</td>\n",
       "      <td>4 GB DDR4 RAM</td>\n",
       "      <td>52,990</td>\n",
       "      <td>63,539</td>\n",
       "      <td>16%</td>\n",
       "      <td>HP Pavilion Ryzen 5 Hexa Core AMD R5-5600H - (...</td>\n",
       "      <td>4.4</td>\n",
       "      <td>11,907</td>\n",
       "      <td>1,202</td>\n",
       "    </tr>\n",
       "  </tbody>\n",
       "</table>\n",
       "</div>"
      ],
      "text/plain": [
       "  Brand                           Processor            Ram Discounted_Price  \\\n",
       "0  ASUS   Intel Celeron Dual Core Processor  4 GB DDR4 RAM           22,990   \n",
       "1  ASUS   Intel Celeron Dual Core Processor  4 GB DDR4 RAM           23,990   \n",
       "2    HP      AMD Athlon Dual Core Processor  4 GB DDR4 RAM           29,490   \n",
       "3  ASUS  Intel Core i3 Processor (10th Gen)  4 GB DDR4 RAM           33,990   \n",
       "4    HP     AMD Ryzen 5 Hexa Core Processor  4 GB DDR4 RAM           52,990   \n",
       "\n",
       "  Actual_Price Per_Discount  \\\n",
       "0       30,990          25%   \n",
       "1       33,990          29%   \n",
       "2       39,288          24%   \n",
       "3       45,990          26%   \n",
       "4       63,539          16%   \n",
       "\n",
       "                                                Desc Ratings Num_of_ratings  \\\n",
       "0  ASUS Celeron Dual Core - (4 GB/1 TB HDD/Window...     3.7         17,754   \n",
       "1  ASUS VivoBook 14 (2021) Celeron Dual Core - (4...     4.1            707   \n",
       "2  HP Athlon Dual Core 3050U - (8 GB/512 GB SSD/W...       4            869   \n",
       "3  ASUS VivoBook 15 (2022) Core i3 10th Gen - (8 ...     4.3          9,997   \n",
       "4  HP Pavilion Ryzen 5 Hexa Core AMD R5-5600H - (...     4.4         11,907   \n",
       "\n",
       "  Num_Reviews  \n",
       "0       2,301  \n",
       "1          87  \n",
       "2          94  \n",
       "3       1,002  \n",
       "4       1,202  "
      ]
     },
     "execution_count": 24,
     "metadata": {},
     "output_type": "execute_result"
    }
   ],
   "source": [
    "laptops = pd.DataFrame({'Brand':brand,'Processor':processor,'Ram':ram,'Discounted_Price':dis_price,\n",
    "                       'Actual_Price':act_price,'Per_Discount':per_dis,'Desc':ldesc,\n",
    "                       'Ratings':ratings,'Num_of_ratings':num_ratings,'Num_Reviews':num_reviews})\n",
    "laptops.head()"
   ]
  },
  {
   "cell_type": "code",
   "execution_count": 25,
   "id": "0dd22b0a",
   "metadata": {},
   "outputs": [],
   "source": [
    "df = laptops.copy()"
   ]
  },
  {
   "cell_type": "code",
   "execution_count": 26,
   "id": "1c8fd43e",
   "metadata": {},
   "outputs": [
    {
     "data": {
      "text/plain": [
       "(24, 10)"
      ]
     },
     "execution_count": 26,
     "metadata": {},
     "output_type": "execute_result"
    }
   ],
   "source": [
    "laptops.shape"
   ]
  },
  {
   "cell_type": "code",
   "execution_count": 27,
   "id": "4c0dee7f",
   "metadata": {},
   "outputs": [
    {
     "data": {
      "text/plain": [
       "Brand               object\n",
       "Processor           object\n",
       "Ram                 object\n",
       "Discounted_Price    object\n",
       "Actual_Price        object\n",
       "Per_Discount        object\n",
       "Desc                object\n",
       "Ratings             object\n",
       "Num_of_ratings      object\n",
       "Num_Reviews         object\n",
       "dtype: object"
      ]
     },
     "execution_count": 27,
     "metadata": {},
     "output_type": "execute_result"
    }
   ],
   "source": [
    "laptops.dtypes"
   ]
  },
  {
   "cell_type": "code",
   "execution_count": 28,
   "id": "8b927f35",
   "metadata": {},
   "outputs": [
    {
     "data": {
      "text/plain": [
       "Brand                object\n",
       "Processor            object\n",
       "Ram                  object\n",
       "Discounted_Price     object\n",
       "Actual_Price         object\n",
       "Per_Discount         object\n",
       "Desc                 object\n",
       "Ratings             float64\n",
       "Num_of_ratings       object\n",
       "Num_Reviews          object\n",
       "dtype: object"
      ]
     },
     "execution_count": 28,
     "metadata": {},
     "output_type": "execute_result"
    }
   ],
   "source": [
    "laptops['Ratings'] = laptops['Ratings'].astype('float')\n",
    "laptops.dtypes"
   ]
  },
  {
   "cell_type": "code",
   "execution_count": 29,
   "id": "358aa034",
   "metadata": {},
   "outputs": [
    {
     "data": {
      "text/plain": [
       "array(['22,990', '23,990', '29,490', '33,990', '52,990', '35,490',\n",
       "       '25,917', '40,990', '33,999', '26,990', '52,990', '47,999',\n",
       "       '37,990', '40,950', '49,123', '43,990', '29,990', '49,990',\n",
       "       '54,392Free delivery', '71,900', '39,990', '18,990', '56,999',\n",
       "       '57,990'], dtype=object)"
      ]
     },
     "execution_count": 29,
     "metadata": {},
     "output_type": "execute_result"
    }
   ],
   "source": [
    "laptops['Discounted_Price'].values"
   ]
  },
  {
   "cell_type": "code",
   "execution_count": 30,
   "id": "b7ee610d",
   "metadata": {},
   "outputs": [
    {
     "data": {
      "text/plain": [
       "[22990,\n",
       " 23990,\n",
       " 29490,\n",
       " 33990,\n",
       " 52990,\n",
       " 35490,\n",
       " 25917,\n",
       " 40990,\n",
       " 33999,\n",
       " 26990,\n",
       " 52990,\n",
       " 47999,\n",
       " 37990,\n",
       " 40950,\n",
       " 49123,\n",
       " 43990,\n",
       " 29990,\n",
       " 49990,\n",
       " 54392,\n",
       " 71900,\n",
       " 39990,\n",
       " 18990,\n",
       " 56999,\n",
       " 57990]"
      ]
     },
     "execution_count": 30,
     "metadata": {},
     "output_type": "execute_result"
    }
   ],
   "source": [
    "dp = [i.replace(',','') for i in laptops['Discounted_Price'].values]\n",
    "dp = [int(i.replace('Free delivery','')) for i in dp]\n",
    "dp"
   ]
  },
  {
   "cell_type": "code",
   "execution_count": 31,
   "id": "7e70e7cb",
   "metadata": {},
   "outputs": [
    {
     "data": {
      "text/plain": [
       "Brand                object\n",
       "Processor            object\n",
       "Ram                  object\n",
       "Discounted_Price      int64\n",
       "Actual_Price         object\n",
       "Per_Discount         object\n",
       "Desc                 object\n",
       "Ratings             float64\n",
       "Num_of_ratings       object\n",
       "Num_Reviews          object\n",
       "dtype: object"
      ]
     },
     "execution_count": 31,
     "metadata": {},
     "output_type": "execute_result"
    }
   ],
   "source": [
    "laptops['Discounted_Price'] = dp\n",
    "laptops.dtypes"
   ]
  },
  {
   "cell_type": "code",
   "execution_count": 32,
   "id": "2df05504",
   "metadata": {},
   "outputs": [
    {
     "data": {
      "text/plain": [
       "array(['30,990', '33,990', '39,288', '45,990', '63,539', '47,206',\n",
       "       '40,490', '82,990', '59,760', '42,999', '71,990', '59,999',\n",
       "       '58,489', '50,585', '59,108', '74,990', '43,631', '72,990',\n",
       "       '54,392Free delivery', '93,134', '59,999', '29,999', '70,235',\n",
       "       '83,999'], dtype=object)"
      ]
     },
     "execution_count": 32,
     "metadata": {},
     "output_type": "execute_result"
    }
   ],
   "source": [
    "laptops['Actual_Price'].values"
   ]
  },
  {
   "cell_type": "code",
   "execution_count": 33,
   "id": "57e041a9",
   "metadata": {},
   "outputs": [
    {
     "data": {
      "text/plain": [
       "[30990,\n",
       " 33990,\n",
       " 39288,\n",
       " 45990,\n",
       " 63539,\n",
       " 47206,\n",
       " 40490,\n",
       " 82990,\n",
       " 59760,\n",
       " 42999,\n",
       " 71990,\n",
       " 59999,\n",
       " 58489,\n",
       " 50585,\n",
       " 59108,\n",
       " 74990,\n",
       " 43631,\n",
       " 72990,\n",
       " 54392,\n",
       " 93134,\n",
       " 59999,\n",
       " 29999,\n",
       " 70235,\n",
       " 83999]"
      ]
     },
     "execution_count": 33,
     "metadata": {},
     "output_type": "execute_result"
    }
   ],
   "source": [
    "ap = [i.replace(',','') for i in laptops['Actual_Price'].values]\n",
    "ap = [int(i.replace('Free delivery','')) for i in ap]\n",
    "ap"
   ]
  },
  {
   "cell_type": "code",
   "execution_count": 34,
   "id": "5921c12b",
   "metadata": {},
   "outputs": [
    {
     "data": {
      "text/plain": [
       "Brand                object\n",
       "Processor            object\n",
       "Ram                  object\n",
       "Discounted_Price      int64\n",
       "Actual_Price          int64\n",
       "Per_Discount         object\n",
       "Desc                 object\n",
       "Ratings             float64\n",
       "Num_of_ratings       object\n",
       "Num_Reviews          object\n",
       "dtype: object"
      ]
     },
     "execution_count": 34,
     "metadata": {},
     "output_type": "execute_result"
    }
   ],
   "source": [
    "laptops['Actual_Price'] = ap\n",
    "laptops.dtypes"
   ]
  },
  {
   "cell_type": "code",
   "execution_count": 35,
   "id": "931c2045",
   "metadata": {},
   "outputs": [],
   "source": [
    "# laptops.head()"
   ]
  },
  {
   "cell_type": "code",
   "execution_count": 36,
   "id": "7ba44228",
   "metadata": {},
   "outputs": [
    {
     "data": {
      "text/plain": [
       "array(['25%', '29%', '24%', '26%', '16%', '24%', '35%', '50%', '43%',\n",
       "       '37%', '26%', '20%', '35%', '19%', '16%', '41%', '31%', '31%',\n",
       "       '0%', '22%', '33%', '36%', '18%', '30%'], dtype=object)"
      ]
     },
     "execution_count": 36,
     "metadata": {},
     "output_type": "execute_result"
    }
   ],
   "source": [
    "laptops['Per_Discount'].values"
   ]
  },
  {
   "cell_type": "code",
   "execution_count": 37,
   "id": "d5146835",
   "metadata": {},
   "outputs": [
    {
     "name": "stdout",
     "output_type": "stream",
     "text": [
      "[25, 29, 24, 26, 16, 24, 35, 50, 43, 37, 26, 20, 35, 19, 16, 41, 31, 31, 0, 22, 33, 36, 18, 30]\n"
     ]
    }
   ],
   "source": [
    "pd = [int(i.replace('%','')) for i in laptops['Per_Discount'].values]\n",
    "print(pd)"
   ]
  },
  {
   "cell_type": "code",
   "execution_count": 38,
   "id": "731822b5",
   "metadata": {},
   "outputs": [
    {
     "data": {
      "text/plain": [
       "Brand                object\n",
       "Processor            object\n",
       "Ram                  object\n",
       "Discounted_Price      int64\n",
       "Actual_Price          int64\n",
       "Per_Discount          int64\n",
       "Desc                 object\n",
       "Ratings             float64\n",
       "Num_of_ratings       object\n",
       "Num_Reviews          object\n",
       "dtype: object"
      ]
     },
     "execution_count": 38,
     "metadata": {},
     "output_type": "execute_result"
    }
   ],
   "source": [
    "laptops['Per_Discount'] = pd\n",
    "laptops.dtypes"
   ]
  },
  {
   "cell_type": "code",
   "execution_count": 39,
   "id": "37de33ad",
   "metadata": {},
   "outputs": [
    {
     "data": {
      "text/plain": [
       "array(['17,754', '707', '869', '9,997', '11,907', '1,585', '373', '817',\n",
       "       '28', '273', '1,371', '1,686', '39', '328', '279', '460', '1,070',\n",
       "       '2,126', '15', '22', '3,663', '13', '1,926', '2,977'], dtype=object)"
      ]
     },
     "execution_count": 39,
     "metadata": {},
     "output_type": "execute_result"
    }
   ],
   "source": [
    "laptops['Num_of_ratings'].values"
   ]
  },
  {
   "cell_type": "code",
   "execution_count": 40,
   "id": "88a9e113",
   "metadata": {},
   "outputs": [
    {
     "data": {
      "text/plain": [
       "Brand                object\n",
       "Processor            object\n",
       "Ram                  object\n",
       "Discounted_Price      int64\n",
       "Actual_Price          int64\n",
       "Per_Discount          int64\n",
       "Desc                 object\n",
       "Ratings             float64\n",
       "Num_of_ratings        int64\n",
       "Num_Reviews          object\n",
       "dtype: object"
      ]
     },
     "execution_count": 40,
     "metadata": {},
     "output_type": "execute_result"
    }
   ],
   "source": [
    "num_rat = [int(i.replace(',','')) for i in laptops['Num_of_ratings'].values]\n",
    "laptops['Num_of_ratings'] = num_rat\n",
    "laptops.dtypes\n",
    "# print(num_rev)"
   ]
  },
  {
   "cell_type": "code",
   "execution_count": 41,
   "id": "6e833f63",
   "metadata": {},
   "outputs": [
    {
     "name": "stdout",
     "output_type": "stream",
     "text": [
      "[2301, 87, 94, 1002, 1202, 139, 35, 193, 2, 55, 166, 261, 1, 36, 32, 88, 107, 286, 1, 2, 431, 2, 160, 347]\n"
     ]
    }
   ],
   "source": [
    "num_rev = [int(i.replace(',','')) for i in laptops['Num_Reviews'].values]\n",
    "print(num_rev)\n"
   ]
  },
  {
   "cell_type": "code",
   "execution_count": 42,
   "id": "7fa49ef6",
   "metadata": {},
   "outputs": [
    {
     "data": {
      "text/plain": [
       "Brand                object\n",
       "Processor            object\n",
       "Ram                  object\n",
       "Discounted_Price      int64\n",
       "Actual_Price          int64\n",
       "Per_Discount          int64\n",
       "Desc                 object\n",
       "Ratings             float64\n",
       "Num_of_ratings        int64\n",
       "Num_Reviews           int64\n",
       "dtype: object"
      ]
     },
     "execution_count": 42,
     "metadata": {},
     "output_type": "execute_result"
    }
   ],
   "source": [
    "laptops['Num_Reviews'] = num_rev\n",
    "laptops.dtypes"
   ]
  },
  {
   "cell_type": "code",
   "execution_count": 43,
   "id": "ae2aeb89",
   "metadata": {},
   "outputs": [
    {
     "data": {
      "text/html": [
       "<div>\n",
       "<style scoped>\n",
       "    .dataframe tbody tr th:only-of-type {\n",
       "        vertical-align: middle;\n",
       "    }\n",
       "\n",
       "    .dataframe tbody tr th {\n",
       "        vertical-align: top;\n",
       "    }\n",
       "\n",
       "    .dataframe thead th {\n",
       "        text-align: right;\n",
       "    }\n",
       "</style>\n",
       "<table border=\"1\" class=\"dataframe\">\n",
       "  <thead>\n",
       "    <tr style=\"text-align: right;\">\n",
       "      <th></th>\n",
       "      <th>Brand</th>\n",
       "      <th>Processor</th>\n",
       "      <th>Ram</th>\n",
       "      <th>Discounted_Price</th>\n",
       "      <th>Actual_Price</th>\n",
       "      <th>Per_Discount</th>\n",
       "      <th>Desc</th>\n",
       "      <th>Ratings</th>\n",
       "      <th>Num_of_ratings</th>\n",
       "      <th>Num_Reviews</th>\n",
       "    </tr>\n",
       "  </thead>\n",
       "  <tbody>\n",
       "    <tr>\n",
       "      <th>0</th>\n",
       "      <td>ASUS</td>\n",
       "      <td>Intel Celeron Dual Core Processor</td>\n",
       "      <td>4 GB DDR4 RAM</td>\n",
       "      <td>22990</td>\n",
       "      <td>30990</td>\n",
       "      <td>25</td>\n",
       "      <td>ASUS Celeron Dual Core - (4 GB/1 TB HDD/Window...</td>\n",
       "      <td>3.7</td>\n",
       "      <td>17754</td>\n",
       "      <td>2301</td>\n",
       "    </tr>\n",
       "    <tr>\n",
       "      <th>1</th>\n",
       "      <td>ASUS</td>\n",
       "      <td>Intel Celeron Dual Core Processor</td>\n",
       "      <td>4 GB DDR4 RAM</td>\n",
       "      <td>23990</td>\n",
       "      <td>33990</td>\n",
       "      <td>29</td>\n",
       "      <td>ASUS VivoBook 14 (2021) Celeron Dual Core - (4...</td>\n",
       "      <td>4.1</td>\n",
       "      <td>707</td>\n",
       "      <td>87</td>\n",
       "    </tr>\n",
       "    <tr>\n",
       "      <th>2</th>\n",
       "      <td>HP</td>\n",
       "      <td>AMD Athlon Dual Core Processor</td>\n",
       "      <td>4 GB DDR4 RAM</td>\n",
       "      <td>29490</td>\n",
       "      <td>39288</td>\n",
       "      <td>24</td>\n",
       "      <td>HP Athlon Dual Core 3050U - (8 GB/512 GB SSD/W...</td>\n",
       "      <td>4.0</td>\n",
       "      <td>869</td>\n",
       "      <td>94</td>\n",
       "    </tr>\n",
       "    <tr>\n",
       "      <th>3</th>\n",
       "      <td>ASUS</td>\n",
       "      <td>Intel Core i3 Processor (10th Gen)</td>\n",
       "      <td>4 GB DDR4 RAM</td>\n",
       "      <td>33990</td>\n",
       "      <td>45990</td>\n",
       "      <td>26</td>\n",
       "      <td>ASUS VivoBook 15 (2022) Core i3 10th Gen - (8 ...</td>\n",
       "      <td>4.3</td>\n",
       "      <td>9997</td>\n",
       "      <td>1002</td>\n",
       "    </tr>\n",
       "    <tr>\n",
       "      <th>4</th>\n",
       "      <td>HP</td>\n",
       "      <td>AMD Ryzen 5 Hexa Core Processor</td>\n",
       "      <td>4 GB DDR4 RAM</td>\n",
       "      <td>52990</td>\n",
       "      <td>63539</td>\n",
       "      <td>16</td>\n",
       "      <td>HP Pavilion Ryzen 5 Hexa Core AMD R5-5600H - (...</td>\n",
       "      <td>4.4</td>\n",
       "      <td>11907</td>\n",
       "      <td>1202</td>\n",
       "    </tr>\n",
       "  </tbody>\n",
       "</table>\n",
       "</div>"
      ],
      "text/plain": [
       "  Brand                           Processor            Ram  Discounted_Price  \\\n",
       "0  ASUS   Intel Celeron Dual Core Processor  4 GB DDR4 RAM             22990   \n",
       "1  ASUS   Intel Celeron Dual Core Processor  4 GB DDR4 RAM             23990   \n",
       "2    HP      AMD Athlon Dual Core Processor  4 GB DDR4 RAM             29490   \n",
       "3  ASUS  Intel Core i3 Processor (10th Gen)  4 GB DDR4 RAM             33990   \n",
       "4    HP     AMD Ryzen 5 Hexa Core Processor  4 GB DDR4 RAM             52990   \n",
       "\n",
       "   Actual_Price  Per_Discount  \\\n",
       "0         30990            25   \n",
       "1         33990            29   \n",
       "2         39288            24   \n",
       "3         45990            26   \n",
       "4         63539            16   \n",
       "\n",
       "                                                Desc  Ratings  Num_of_ratings  \\\n",
       "0  ASUS Celeron Dual Core - (4 GB/1 TB HDD/Window...      3.7           17754   \n",
       "1  ASUS VivoBook 14 (2021) Celeron Dual Core - (4...      4.1             707   \n",
       "2  HP Athlon Dual Core 3050U - (8 GB/512 GB SSD/W...      4.0             869   \n",
       "3  ASUS VivoBook 15 (2022) Core i3 10th Gen - (8 ...      4.3            9997   \n",
       "4  HP Pavilion Ryzen 5 Hexa Core AMD R5-5600H - (...      4.4           11907   \n",
       "\n",
       "   Num_Reviews  \n",
       "0         2301  \n",
       "1           87  \n",
       "2           94  \n",
       "3         1002  \n",
       "4         1202  "
      ]
     },
     "execution_count": 43,
     "metadata": {},
     "output_type": "execute_result"
    }
   ],
   "source": [
    "laptops.head()"
   ]
  },
  {
   "cell_type": "markdown",
   "id": "45d4530e",
   "metadata": {},
   "source": [
    "### Brand wise Avg Discounted price"
   ]
  },
  {
   "cell_type": "code",
   "execution_count": 44,
   "id": "db1327f8",
   "metadata": {},
   "outputs": [
    {
     "data": {
      "text/plain": [
       "Brand\n",
       "ASUS         33490.000000\n",
       "DELL         54760.666667\n",
       "HP           42147.428571\n",
       "Infinix      47999.000000\n",
       "Lenovo       26302.000000\n",
       "MSI          49990.000000\n",
       "Nokia        42490.000000\n",
       "RedmiBook    39990.000000\n",
       "acer         42490.000000\n",
       "Name: Discounted_Price, dtype: float64"
      ]
     },
     "execution_count": 44,
     "metadata": {},
     "output_type": "execute_result"
    }
   ],
   "source": [
    "r1 = laptops.groupby('Brand')['Discounted_Price'].mean()\n",
    "r1"
   ]
  },
  {
   "cell_type": "code",
   "execution_count": 47,
   "id": "b52b7fb6",
   "metadata": {},
   "outputs": [
    {
     "data": {
      "image/png": "[encoded data removed]",
      "text/plain": [
       "<Figure size 640x480 with 1 Axes>"
      ]
     },
     "metadata": {},
     "output_type": "display_data"
    }
   ],
   "source": [
    "plt.barh(r1.index,r1.values,color='orange',edgecolor='black')\n",
    "plt.title('Brand wise Avg Discounted price')\n",
    "plt.show()"
   ]
  },
  {
   "cell_type": "code",
   "execution_count": null,
   "id": "c52f1e2e",
   "metadata": {},
   "outputs": [],
   "source": []
  }
 ],
 "metadata": {
  "kernelspec": {
   "display_name": "Python 3 (ipykernel)",
   "language": "python",
   "name": "python3"
  },
  "language_info": {
   "codemirror_mode": {
    "name": "ipython",
    "version": 3
   },
   "file_extension": ".py",
   "mimetype": "text/x-python",
   "name": "python",
   "nbconvert_exporter": "python",
   "pygments_lexer": "ipython3",
   "version": "3.9.13"
  }
 },
 "nbformat": 4,
 "nbformat_minor": 5
}
